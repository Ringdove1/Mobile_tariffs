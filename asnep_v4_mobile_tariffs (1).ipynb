{
 "cells": [
  {
   "cell_type": "markdown",
   "metadata": {},
   "source": [
    "# Определение перспективного тарифа для телеком-компании\n",
    "В данном проекте предстоить сделать предварительный анализ тарифов на небольшой выборке клиентов федерального оператора сотовой связи \"Мегалайн\".\n",
    "\n",
    "Клиентам предлагают два тарифных плана: «Смарт» и «Ультра»."
   ]
  },
  {
   "cell_type": "markdown",
   "metadata": {},
   "source": [
    "### Цель исследования:\n",
    "\n",
    "Помочь понять коммерческому департаменту какой тариф приносит больше денег. Это необходимо для дальнейшей корректировки рекламного бюджета.\n"
   ]
  },
  {
   "cell_type": "markdown",
   "metadata": {},
   "source": [
    "### Задачи исследования:\n",
    "\n",
    "- посчитать для каждого пользователя:\n",
    "   - количество сделанных звонков и израсходованных минут разговора по месяцам;\n",
    "   - количество отправленных сообщений по месяцам;\n",
    "   - объем израсходованного интернет-трафика по месяцам;\n",
    "   - помесячную выручку с каждого пользователя (вычтите бесплатный лимит из суммарного количества звонков, сообщений и интернет-трафика; остаток умножьте на значение из тарифного плана; прибавьте абонентскую плату, соответствующую тарифному плану).\n",
    "- проанализировать данные;\n",
    "- проверить гипотезы:\n",
    "   - средняя выручка пользователей тарифов «Ультра» и «Смарт» различаются;\n",
    "   - средняя выручка пользователей из Москвы отличается от выручки пользователей из других регионов."
   ]
  },
  {
   "cell_type": "markdown",
   "metadata": {},
   "source": [
    "### Исходные данные:\n",
    "\n",
    "- Таблица users (информация о пользователях):\n",
    "  - user_id — уникальный идентификатор пользователя\n",
    "  - first_name — имя пользователя\n",
    "  - last_name — фамилия пользователя\n",
    "  - age — возраст пользователя (годы)\n",
    "  - reg_date — дата подключения тарифа (день, месяц, год)\n",
    "  - churn_date — дата прекращения пользования тарифом (если значение пропущено, то тариф ещё действовал на момент выгрузки данных)\n",
    "  - city — город проживания пользователя\n",
    "  - tariff — название тарифного плана\n",
    "- Таблица calls (информация о звонках):\n",
    "  - id — уникальный номер звонка\n",
    "  - call_date — дата звонка\n",
    "  - duration — длительность звонка в минутах\n",
    "  - user_id — идентификатор пользователя, сделавшего звонок\n",
    "- Таблица messages (информация о сообщениях):\n",
    "  - id — уникальный номер сообщения\n",
    "  - message_date — дата сообщения\n",
    "  - user_id — идентификатор пользователя, отправившего сообщение\n",
    "- Таблица internet (информация об интернет-сессиях):\n",
    "  - id — уникальный номер сессии\n",
    "  - mb_used — объём потраченного за сессию интернет-трафика (в мегабайтах)\n",
    "  - session_date — дата интернет-сессии\n",
    "  - user_id — идентификатор пользователя\n",
    "- Таблица tariffs (информация о тарифах):\n",
    "  - tariff_name — название тарифа\n",
    "  - rub_monthly_fee — ежемесячная абонентская плата в рублях\n",
    "  - minutes_included — количество минут разговора в месяц, включённых в абонентскую плату\n",
    "  - messages_included — количество сообщений в месяц, включённых в абонентскую плату\n",
    "  - mb_per_month_included — объём интернет-трафика, включённого в абонентскую плату (в мегабайтах)\n",
    "  - rub_per_minute — стоимость минуты разговора сверх тарифного пакета (например, если в тарифе 100 минут разговора в месяц, то со 101 минуты будет взиматься плата)\n",
    "  - rub_per_message — стоимость отправки сообщения сверх тарифного пакета\n",
    "  - rub_per_gb — стоимость дополнительного гигабайта интернет-трафика сверх тарифного пакета (1 гигабайт = 1024 мегабайта)"
   ]
  },
  {
   "cell_type": "markdown",
   "metadata": {},
   "source": [
    "## Знакомство с данными\n"
   ]
  },
  {
   "cell_type": "markdown",
   "metadata": {},
   "source": [
    "### Файл \"calls\" с информацией о количестве звонков"
   ]
  },
  {
   "cell_type": "code",
   "execution_count": 69,
   "metadata": {},
   "outputs": [],
   "source": [
    "import pandas as pd\n",
    "import pathlib\n",
    "\n",
    "import numpy as np\n",
    "\n",
    "import matplotlib.pyplot as plt\n",
    "\n",
    "import warnings\n",
    "warnings.filterwarnings('ignore')"
   ]
  },
  {
   "cell_type": "code",
   "execution_count": 70,
   "metadata": {},
   "outputs": [
    {
     "data": {
      "text/html": [
       "<div>\n",
       "<style scoped>\n",
       "    .dataframe tbody tr th:only-of-type {\n",
       "        vertical-align: middle;\n",
       "    }\n",
       "\n",
       "    .dataframe tbody tr th {\n",
       "        vertical-align: top;\n",
       "    }\n",
       "\n",
       "    .dataframe thead th {\n",
       "        text-align: right;\n",
       "    }\n",
       "</style>\n",
       "<table border=\"1\" class=\"dataframe\">\n",
       "  <thead>\n",
       "    <tr style=\"text-align: right;\">\n",
       "      <th></th>\n",
       "      <th>id</th>\n",
       "      <th>call_date</th>\n",
       "      <th>duration</th>\n",
       "      <th>user_id</th>\n",
       "    </tr>\n",
       "  </thead>\n",
       "  <tbody>\n",
       "    <tr>\n",
       "      <th>0</th>\n",
       "      <td>1000_0</td>\n",
       "      <td>2018-07-25</td>\n",
       "      <td>0.00</td>\n",
       "      <td>1000</td>\n",
       "    </tr>\n",
       "    <tr>\n",
       "      <th>1</th>\n",
       "      <td>1000_1</td>\n",
       "      <td>2018-08-17</td>\n",
       "      <td>0.00</td>\n",
       "      <td>1000</td>\n",
       "    </tr>\n",
       "    <tr>\n",
       "      <th>2</th>\n",
       "      <td>1000_2</td>\n",
       "      <td>2018-06-11</td>\n",
       "      <td>2.85</td>\n",
       "      <td>1000</td>\n",
       "    </tr>\n",
       "    <tr>\n",
       "      <th>3</th>\n",
       "      <td>1000_3</td>\n",
       "      <td>2018-09-21</td>\n",
       "      <td>13.80</td>\n",
       "      <td>1000</td>\n",
       "    </tr>\n",
       "    <tr>\n",
       "      <th>4</th>\n",
       "      <td>1000_4</td>\n",
       "      <td>2018-12-15</td>\n",
       "      <td>5.18</td>\n",
       "      <td>1000</td>\n",
       "    </tr>\n",
       "  </tbody>\n",
       "</table>\n",
       "</div>"
      ],
      "text/plain": [
       "       id   call_date  duration  user_id\n",
       "0  1000_0  2018-07-25      0.00     1000\n",
       "1  1000_1  2018-08-17      0.00     1000\n",
       "2  1000_2  2018-06-11      2.85     1000\n",
       "3  1000_3  2018-09-21     13.80     1000\n",
       "4  1000_4  2018-12-15      5.18     1000"
      ]
     },
     "metadata": {},
     "output_type": "display_data"
    },
    {
     "name": "stdout",
     "output_type": "stream",
     "text": [
      "<class 'pandas.core.frame.DataFrame'>\n",
      "RangeIndex: 202607 entries, 0 to 202606\n",
      "Data columns (total 4 columns):\n",
      " #   Column     Non-Null Count   Dtype  \n",
      "---  ------     --------------   -----  \n",
      " 0   id         202607 non-null  object \n",
      " 1   call_date  202607 non-null  object \n",
      " 2   duration   202607 non-null  float64\n",
      " 3   user_id    202607 non-null  int64  \n",
      "dtypes: float64(1), int64(1), object(2)\n",
      "memory usage: 6.2+ MB\n"
     ]
    },
    {
     "data": {
      "text/plain": [
       "None"
      ]
     },
     "metadata": {},
     "output_type": "display_data"
    }
   ],
   "source": [
    "#прочитаем из csv-файла данные о звонках пользователей\n",
    "path_1 = pathlib.Path('C:/') / 'Ya' / 'datas' / 'calls.csv'\n",
    "\n",
    "df1 = pd.read_csv(path_1)\n",
    "display(df1.head()) # выводим первые 5 строк датафрейма\n",
    "display(df1.info()) # смотрим общую информацию о данных"
   ]
  },
  {
   "cell_type": "markdown",
   "metadata": {},
   "source": [
    "В этом файле имеем 202 607 строк и 4 поля, отсутствующих значений не налюдается , но необходимо привести информацию о дате в более удобный формат для дальнейшей работы."
   ]
  },
  {
   "cell_type": "markdown",
   "metadata": {},
   "source": [
    "### Плучим информацию о количестве звонков каждого пользователя по месяцам, для этого:\n",
    "- переведём информацию в столбце \"call_date\" в формат даты;\n",
    "- добавим столбец с информаций о том в каком месяце был совершён звонок;\n",
    "- сгруппируем по этому столбцу исходные данные. "
   ]
  },
  {
   "cell_type": "code",
   "execution_count": 71,
   "metadata": {},
   "outputs": [
    {
     "data": {
      "text/html": [
       "<div>\n",
       "<style scoped>\n",
       "    .dataframe tbody tr th:only-of-type {\n",
       "        vertical-align: middle;\n",
       "    }\n",
       "\n",
       "    .dataframe tbody tr th {\n",
       "        vertical-align: top;\n",
       "    }\n",
       "\n",
       "    .dataframe thead th {\n",
       "        text-align: right;\n",
       "    }\n",
       "</style>\n",
       "<table border=\"1\" class=\"dataframe\">\n",
       "  <thead>\n",
       "    <tr style=\"text-align: right;\">\n",
       "      <th></th>\n",
       "      <th>user_id</th>\n",
       "      <th>month</th>\n",
       "      <th>duration_calls</th>\n",
       "      <th>count_calls</th>\n",
       "    </tr>\n",
       "  </thead>\n",
       "  <tbody>\n",
       "    <tr>\n",
       "      <th>2972</th>\n",
       "      <td>1467</td>\n",
       "      <td>2018-12</td>\n",
       "      <td>1578.06</td>\n",
       "      <td>244</td>\n",
       "    </tr>\n",
       "    <tr>\n",
       "      <th>2359</th>\n",
       "      <td>1377</td>\n",
       "      <td>2018-03</td>\n",
       "      <td>1528.45</td>\n",
       "      <td>203</td>\n",
       "    </tr>\n",
       "    <tr>\n",
       "      <th>1359</th>\n",
       "      <td>1216</td>\n",
       "      <td>2018-12</td>\n",
       "      <td>1354.22</td>\n",
       "      <td>198</td>\n",
       "    </tr>\n",
       "    <tr>\n",
       "      <th>1400</th>\n",
       "      <td>1222</td>\n",
       "      <td>2018-10</td>\n",
       "      <td>1240.75</td>\n",
       "      <td>196</td>\n",
       "    </tr>\n",
       "    <tr>\n",
       "      <th>1243</th>\n",
       "      <td>1196</td>\n",
       "      <td>2018-12</td>\n",
       "      <td>1143.18</td>\n",
       "      <td>189</td>\n",
       "    </tr>\n",
       "  </tbody>\n",
       "</table>\n",
       "</div>"
      ],
      "text/plain": [
       "      user_id    month  duration_calls  count_calls\n",
       "2972     1467  2018-12         1578.06          244\n",
       "2359     1377  2018-03         1528.45          203\n",
       "1359     1216  2018-12         1354.22          198\n",
       "1400     1222  2018-10         1240.75          196\n",
       "1243     1196  2018-12         1143.18          189"
      ]
     },
     "execution_count": 71,
     "metadata": {},
     "output_type": "execute_result"
    }
   ],
   "source": [
    "df1['call_date'] = pd.to_datetime(df1['call_date'], format='%Y-%m-%d')\n",
    "df1['month'] = df1['call_date'].dt.to_period('M')\n",
    "\n",
    "calls = df1.pivot_table(index=[ 'user_id', 'month'], values='duration', aggfunc=['sum', 'count'])\n",
    "calls.columns = ['duration_calls', 'count_calls']\n",
    "calls.reset_index(inplace=True)\n",
    "# посмотрим какие пользователи совершили больше всего звонков\n",
    "calls = calls.sort_values(by='count_calls', ascending=False)\n",
    "calls.head()"
   ]
  },
  {
   "cell_type": "markdown",
   "metadata": {},
   "source": [
    "Теперь имеем таблицу с количеством звонков каждого из пользователей."
   ]
  },
  {
   "cell_type": "markdown",
   "metadata": {},
   "source": [
    "### Файл \"internet\" с информацией о количестве использованного трафика"
   ]
  },
  {
   "cell_type": "code",
   "execution_count": 72,
   "metadata": {},
   "outputs": [
    {
     "data": {
      "text/html": [
       "<div>\n",
       "<style scoped>\n",
       "    .dataframe tbody tr th:only-of-type {\n",
       "        vertical-align: middle;\n",
       "    }\n",
       "\n",
       "    .dataframe tbody tr th {\n",
       "        vertical-align: top;\n",
       "    }\n",
       "\n",
       "    .dataframe thead th {\n",
       "        text-align: right;\n",
       "    }\n",
       "</style>\n",
       "<table border=\"1\" class=\"dataframe\">\n",
       "  <thead>\n",
       "    <tr style=\"text-align: right;\">\n",
       "      <th></th>\n",
       "      <th>Unnamed: 0</th>\n",
       "      <th>id</th>\n",
       "      <th>mb_used</th>\n",
       "      <th>session_date</th>\n",
       "      <th>user_id</th>\n",
       "    </tr>\n",
       "  </thead>\n",
       "  <tbody>\n",
       "    <tr>\n",
       "      <th>0</th>\n",
       "      <td>0</td>\n",
       "      <td>1000_0</td>\n",
       "      <td>112.95</td>\n",
       "      <td>2018-11-25</td>\n",
       "      <td>1000</td>\n",
       "    </tr>\n",
       "    <tr>\n",
       "      <th>1</th>\n",
       "      <td>1</td>\n",
       "      <td>1000_1</td>\n",
       "      <td>1052.81</td>\n",
       "      <td>2018-09-07</td>\n",
       "      <td>1000</td>\n",
       "    </tr>\n",
       "    <tr>\n",
       "      <th>2</th>\n",
       "      <td>2</td>\n",
       "      <td>1000_2</td>\n",
       "      <td>1197.26</td>\n",
       "      <td>2018-06-25</td>\n",
       "      <td>1000</td>\n",
       "    </tr>\n",
       "    <tr>\n",
       "      <th>3</th>\n",
       "      <td>3</td>\n",
       "      <td>1000_3</td>\n",
       "      <td>550.27</td>\n",
       "      <td>2018-08-22</td>\n",
       "      <td>1000</td>\n",
       "    </tr>\n",
       "    <tr>\n",
       "      <th>4</th>\n",
       "      <td>4</td>\n",
       "      <td>1000_4</td>\n",
       "      <td>302.56</td>\n",
       "      <td>2018-09-24</td>\n",
       "      <td>1000</td>\n",
       "    </tr>\n",
       "  </tbody>\n",
       "</table>\n",
       "</div>"
      ],
      "text/plain": [
       "   Unnamed: 0      id  mb_used session_date  user_id\n",
       "0           0  1000_0   112.95   2018-11-25     1000\n",
       "1           1  1000_1  1052.81   2018-09-07     1000\n",
       "2           2  1000_2  1197.26   2018-06-25     1000\n",
       "3           3  1000_3   550.27   2018-08-22     1000\n",
       "4           4  1000_4   302.56   2018-09-24     1000"
      ]
     },
     "metadata": {},
     "output_type": "display_data"
    },
    {
     "name": "stdout",
     "output_type": "stream",
     "text": [
      "<class 'pandas.core.frame.DataFrame'>\n",
      "RangeIndex: 149396 entries, 0 to 149395\n",
      "Data columns (total 5 columns):\n",
      " #   Column        Non-Null Count   Dtype  \n",
      "---  ------        --------------   -----  \n",
      " 0   Unnamed: 0    149396 non-null  int64  \n",
      " 1   id            149396 non-null  object \n",
      " 2   mb_used       149396 non-null  float64\n",
      " 3   session_date  149396 non-null  object \n",
      " 4   user_id       149396 non-null  int64  \n",
      "dtypes: float64(1), int64(2), object(2)\n",
      "memory usage: 5.7+ MB\n"
     ]
    },
    {
     "data": {
      "text/plain": [
       "None"
      ]
     },
     "metadata": {},
     "output_type": "display_data"
    }
   ],
   "source": [
    "path_2 = pathlib.Path('C:/') / 'Ya' / 'datas' / 'internet.csv'\n",
    "df2 = pd.read_csv(path_2)\n",
    "display(df2.head()) # выводим первые 5 строк датафрейма\n",
    "display(df2.info()) # смотрим общую информацию о данных"
   ]
  },
  {
   "cell_type": "markdown",
   "metadata": {},
   "source": [
    "### Получим информацию о количестве израсходованного трафика и числа интернет-сессий для каждого пользователя"
   ]
  },
  {
   "cell_type": "code",
   "execution_count": 73,
   "metadata": {
    "scrolled": true
   },
   "outputs": [
    {
     "data": {
      "text/html": [
       "<div>\n",
       "<style scoped>\n",
       "    .dataframe tbody tr th:only-of-type {\n",
       "        vertical-align: middle;\n",
       "    }\n",
       "\n",
       "    .dataframe tbody tr th {\n",
       "        vertical-align: top;\n",
       "    }\n",
       "\n",
       "    .dataframe thead th {\n",
       "        text-align: right;\n",
       "    }\n",
       "</style>\n",
       "<table border=\"1\" class=\"dataframe\">\n",
       "  <thead>\n",
       "    <tr style=\"text-align: right;\">\n",
       "      <th></th>\n",
       "      <th>user_id</th>\n",
       "      <th>month</th>\n",
       "      <th>mb_used</th>\n",
       "      <th>count_sessions</th>\n",
       "    </tr>\n",
       "  </thead>\n",
       "  <tbody>\n",
       "    <tr>\n",
       "      <th>799</th>\n",
       "      <td>1124</td>\n",
       "      <td>2018-10</td>\n",
       "      <td>49745.69</td>\n",
       "      <td>92</td>\n",
       "    </tr>\n",
       "    <tr>\n",
       "      <th>1524</th>\n",
       "      <td>1240</td>\n",
       "      <td>2018-08</td>\n",
       "      <td>48351.59</td>\n",
       "      <td>93</td>\n",
       "    </tr>\n",
       "    <tr>\n",
       "      <th>1622</th>\n",
       "      <td>1255</td>\n",
       "      <td>2018-07</td>\n",
       "      <td>45180.71</td>\n",
       "      <td>83</td>\n",
       "    </tr>\n",
       "    <tr>\n",
       "      <th>1901</th>\n",
       "      <td>1300</td>\n",
       "      <td>2018-11</td>\n",
       "      <td>44296.86</td>\n",
       "      <td>84</td>\n",
       "    </tr>\n",
       "    <tr>\n",
       "      <th>383</th>\n",
       "      <td>1060</td>\n",
       "      <td>2018-12</td>\n",
       "      <td>43931.36</td>\n",
       "      <td>83</td>\n",
       "    </tr>\n",
       "  </tbody>\n",
       "</table>\n",
       "</div>"
      ],
      "text/plain": [
       "      user_id    month   mb_used  count_sessions\n",
       "799      1124  2018-10  49745.69              92\n",
       "1524     1240  2018-08  48351.59              93\n",
       "1622     1255  2018-07  45180.71              83\n",
       "1901     1300  2018-11  44296.86              84\n",
       "383      1060  2018-12  43931.36              83"
      ]
     },
     "execution_count": 73,
     "metadata": {},
     "output_type": "execute_result"
    }
   ],
   "source": [
    "# переводим столбец с датами в удобный для работы формат\n",
    "df2['session_date'] = pd.to_datetime(df2['session_date'], format='%Y-%m-%d')\n",
    "# выделяем период по каждому месяцу\n",
    "df2['month'] = df2['session_date'].dt.to_period('M')\n",
    "\n",
    "internet = df2.pivot_table(index = ['user_id', 'month'], values = 'mb_used', aggfunc = ['sum', 'count'])\n",
    "internet.columns = ['mb_used', 'count_sessions']\n",
    "internet.reset_index(inplace=True)\n",
    "internet = internet.sort_values(by='mb_used', ascending=False)\n",
    "internet.head()"
   ]
  },
  {
   "cell_type": "markdown",
   "metadata": {},
   "source": [
    "Получили наглядную информацию об активности пользователей в интернете."
   ]
  },
  {
   "cell_type": "markdown",
   "metadata": {},
   "source": [
    "### Файл \"messages\" с информацией о количестве отправленных сообщений"
   ]
  },
  {
   "cell_type": "code",
   "execution_count": 74,
   "metadata": {
    "scrolled": false
   },
   "outputs": [
    {
     "data": {
      "text/html": [
       "<div>\n",
       "<style scoped>\n",
       "    .dataframe tbody tr th:only-of-type {\n",
       "        vertical-align: middle;\n",
       "    }\n",
       "\n",
       "    .dataframe tbody tr th {\n",
       "        vertical-align: top;\n",
       "    }\n",
       "\n",
       "    .dataframe thead th {\n",
       "        text-align: right;\n",
       "    }\n",
       "</style>\n",
       "<table border=\"1\" class=\"dataframe\">\n",
       "  <thead>\n",
       "    <tr style=\"text-align: right;\">\n",
       "      <th></th>\n",
       "      <th>id</th>\n",
       "      <th>message_date</th>\n",
       "      <th>user_id</th>\n",
       "    </tr>\n",
       "  </thead>\n",
       "  <tbody>\n",
       "    <tr>\n",
       "      <th>0</th>\n",
       "      <td>1000_0</td>\n",
       "      <td>2018-06-27</td>\n",
       "      <td>1000</td>\n",
       "    </tr>\n",
       "    <tr>\n",
       "      <th>1</th>\n",
       "      <td>1000_1</td>\n",
       "      <td>2018-10-08</td>\n",
       "      <td>1000</td>\n",
       "    </tr>\n",
       "    <tr>\n",
       "      <th>2</th>\n",
       "      <td>1000_2</td>\n",
       "      <td>2018-08-04</td>\n",
       "      <td>1000</td>\n",
       "    </tr>\n",
       "    <tr>\n",
       "      <th>3</th>\n",
       "      <td>1000_3</td>\n",
       "      <td>2018-06-16</td>\n",
       "      <td>1000</td>\n",
       "    </tr>\n",
       "    <tr>\n",
       "      <th>4</th>\n",
       "      <td>1000_4</td>\n",
       "      <td>2018-12-05</td>\n",
       "      <td>1000</td>\n",
       "    </tr>\n",
       "  </tbody>\n",
       "</table>\n",
       "</div>"
      ],
      "text/plain": [
       "       id message_date  user_id\n",
       "0  1000_0   2018-06-27     1000\n",
       "1  1000_1   2018-10-08     1000\n",
       "2  1000_2   2018-08-04     1000\n",
       "3  1000_3   2018-06-16     1000\n",
       "4  1000_4   2018-12-05     1000"
      ]
     },
     "metadata": {},
     "output_type": "display_data"
    },
    {
     "name": "stdout",
     "output_type": "stream",
     "text": [
      "<class 'pandas.core.frame.DataFrame'>\n",
      "RangeIndex: 123036 entries, 0 to 123035\n",
      "Data columns (total 3 columns):\n",
      " #   Column        Non-Null Count   Dtype \n",
      "---  ------        --------------   ----- \n",
      " 0   id            123036 non-null  object\n",
      " 1   message_date  123036 non-null  object\n",
      " 2   user_id       123036 non-null  int64 \n",
      "dtypes: int64(1), object(2)\n",
      "memory usage: 2.8+ MB\n"
     ]
    },
    {
     "data": {
      "text/plain": [
       "None"
      ]
     },
     "metadata": {},
     "output_type": "display_data"
    }
   ],
   "source": [
    "path_3 = pathlib.Path('C:/') / 'Ya' / 'datas' / 'messages.csv'\n",
    "df3 = pd.read_csv(path_3)\n",
    "display(df3.head()) # выводим первые 5 строк датафрейма\n",
    "display(df3.info()) # смотрим общую информацию о данных"
   ]
  },
  {
   "cell_type": "markdown",
   "metadata": {},
   "source": [
    "### Строим таблицу с информацией о количестве отправленных сообщений"
   ]
  },
  {
   "cell_type": "code",
   "execution_count": 75,
   "metadata": {
    "scrolled": true
   },
   "outputs": [
    {
     "data": {
      "text/html": [
       "<div>\n",
       "<style scoped>\n",
       "    .dataframe tbody tr th:only-of-type {\n",
       "        vertical-align: middle;\n",
       "    }\n",
       "\n",
       "    .dataframe tbody tr th {\n",
       "        vertical-align: top;\n",
       "    }\n",
       "\n",
       "    .dataframe thead th {\n",
       "        text-align: right;\n",
       "    }\n",
       "</style>\n",
       "<table border=\"1\" class=\"dataframe\">\n",
       "  <thead>\n",
       "    <tr style=\"text-align: right;\">\n",
       "      <th></th>\n",
       "      <th>user_id</th>\n",
       "      <th>month</th>\n",
       "      <th>count_messages</th>\n",
       "    </tr>\n",
       "  </thead>\n",
       "  <tbody>\n",
       "    <tr>\n",
       "      <th>866</th>\n",
       "      <td>1165</td>\n",
       "      <td>2018-12</td>\n",
       "      <td>224</td>\n",
       "    </tr>\n",
       "    <tr>\n",
       "      <th>154</th>\n",
       "      <td>1028</td>\n",
       "      <td>2018-10</td>\n",
       "      <td>223</td>\n",
       "    </tr>\n",
       "    <tr>\n",
       "      <th>1197</th>\n",
       "      <td>1231</td>\n",
       "      <td>2018-07</td>\n",
       "      <td>211</td>\n",
       "    </tr>\n",
       "    <tr>\n",
       "      <th>1196</th>\n",
       "      <td>1231</td>\n",
       "      <td>2018-06</td>\n",
       "      <td>201</td>\n",
       "    </tr>\n",
       "    <tr>\n",
       "      <th>865</th>\n",
       "      <td>1165</td>\n",
       "      <td>2018-11</td>\n",
       "      <td>197</td>\n",
       "    </tr>\n",
       "  </tbody>\n",
       "</table>\n",
       "</div>"
      ],
      "text/plain": [
       "      user_id    month  count_messages\n",
       "866      1165  2018-12             224\n",
       "154      1028  2018-10             223\n",
       "1197     1231  2018-07             211\n",
       "1196     1231  2018-06             201\n",
       "865      1165  2018-11             197"
      ]
     },
     "execution_count": 75,
     "metadata": {},
     "output_type": "execute_result"
    }
   ],
   "source": [
    "df3['message_date'] = pd.to_datetime(df3['message_date'], format = '%Y-%m-%d')\n",
    "#df3['month'] = df3['message_date'].dt.month\n",
    "df3['month'] = df3['message_date'].dt.to_period('M')\n",
    "message = df3.pivot_table(index = ['user_id', 'month'], values = 'id', aggfunc = 'count')\n",
    "message.columns = ['count_messages']\n",
    "message.reset_index(inplace=True)\n",
    "message = message.sort_values(by='count_messages', ascending=False)\n",
    "message.head()"
   ]
  },
  {
   "cell_type": "markdown",
   "metadata": {},
   "source": [
    "Таким образом, получили наглядную информацию о количестве отправленных сообщений."
   ]
  },
  {
   "cell_type": "markdown",
   "metadata": {},
   "source": [
    "### Файл \"users\" c информацией о пользователях"
   ]
  },
  {
   "cell_type": "code",
   "execution_count": 76,
   "metadata": {},
   "outputs": [
    {
     "data": {
      "text/html": [
       "<div>\n",
       "<style scoped>\n",
       "    .dataframe tbody tr th:only-of-type {\n",
       "        vertical-align: middle;\n",
       "    }\n",
       "\n",
       "    .dataframe tbody tr th {\n",
       "        vertical-align: top;\n",
       "    }\n",
       "\n",
       "    .dataframe thead th {\n",
       "        text-align: right;\n",
       "    }\n",
       "</style>\n",
       "<table border=\"1\" class=\"dataframe\">\n",
       "  <thead>\n",
       "    <tr style=\"text-align: right;\">\n",
       "      <th></th>\n",
       "      <th>user_id</th>\n",
       "      <th>age</th>\n",
       "      <th>churn_date</th>\n",
       "      <th>city</th>\n",
       "      <th>first_name</th>\n",
       "      <th>last_name</th>\n",
       "      <th>reg_date</th>\n",
       "      <th>tariff</th>\n",
       "    </tr>\n",
       "  </thead>\n",
       "  <tbody>\n",
       "    <tr>\n",
       "      <th>0</th>\n",
       "      <td>1000</td>\n",
       "      <td>52</td>\n",
       "      <td>NaN</td>\n",
       "      <td>Краснодар</td>\n",
       "      <td>Рафаил</td>\n",
       "      <td>Верещагин</td>\n",
       "      <td>2018-05-25</td>\n",
       "      <td>ultra</td>\n",
       "    </tr>\n",
       "    <tr>\n",
       "      <th>1</th>\n",
       "      <td>1001</td>\n",
       "      <td>41</td>\n",
       "      <td>NaN</td>\n",
       "      <td>Москва</td>\n",
       "      <td>Иван</td>\n",
       "      <td>Ежов</td>\n",
       "      <td>2018-11-01</td>\n",
       "      <td>smart</td>\n",
       "    </tr>\n",
       "    <tr>\n",
       "      <th>2</th>\n",
       "      <td>1002</td>\n",
       "      <td>59</td>\n",
       "      <td>NaN</td>\n",
       "      <td>Стерлитамак</td>\n",
       "      <td>Евгений</td>\n",
       "      <td>Абрамович</td>\n",
       "      <td>2018-06-17</td>\n",
       "      <td>smart</td>\n",
       "    </tr>\n",
       "    <tr>\n",
       "      <th>3</th>\n",
       "      <td>1003</td>\n",
       "      <td>23</td>\n",
       "      <td>NaN</td>\n",
       "      <td>Москва</td>\n",
       "      <td>Белла</td>\n",
       "      <td>Белякова</td>\n",
       "      <td>2018-08-17</td>\n",
       "      <td>ultra</td>\n",
       "    </tr>\n",
       "    <tr>\n",
       "      <th>4</th>\n",
       "      <td>1004</td>\n",
       "      <td>68</td>\n",
       "      <td>NaN</td>\n",
       "      <td>Новокузнецк</td>\n",
       "      <td>Татьяна</td>\n",
       "      <td>Авдеенко</td>\n",
       "      <td>2018-05-14</td>\n",
       "      <td>ultra</td>\n",
       "    </tr>\n",
       "  </tbody>\n",
       "</table>\n",
       "</div>"
      ],
      "text/plain": [
       "   user_id  age churn_date         city first_name  last_name    reg_date  \\\n",
       "0     1000   52        NaN    Краснодар     Рафаил  Верещагин  2018-05-25   \n",
       "1     1001   41        NaN       Москва       Иван       Ежов  2018-11-01   \n",
       "2     1002   59        NaN  Стерлитамак    Евгений  Абрамович  2018-06-17   \n",
       "3     1003   23        NaN       Москва      Белла   Белякова  2018-08-17   \n",
       "4     1004   68        NaN  Новокузнецк    Татьяна   Авдеенко  2018-05-14   \n",
       "\n",
       "  tariff  \n",
       "0  ultra  \n",
       "1  smart  \n",
       "2  smart  \n",
       "3  ultra  \n",
       "4  ultra  "
      ]
     },
     "metadata": {},
     "output_type": "display_data"
    },
    {
     "name": "stdout",
     "output_type": "stream",
     "text": [
      "<class 'pandas.core.frame.DataFrame'>\n",
      "RangeIndex: 500 entries, 0 to 499\n",
      "Data columns (total 8 columns):\n",
      " #   Column      Non-Null Count  Dtype \n",
      "---  ------      --------------  ----- \n",
      " 0   user_id     500 non-null    int64 \n",
      " 1   age         500 non-null    int64 \n",
      " 2   churn_date  38 non-null     object\n",
      " 3   city        500 non-null    object\n",
      " 4   first_name  500 non-null    object\n",
      " 5   last_name   500 non-null    object\n",
      " 6   reg_date    500 non-null    object\n",
      " 7   tariff      500 non-null    object\n",
      "dtypes: int64(2), object(6)\n",
      "memory usage: 31.4+ KB\n"
     ]
    },
    {
     "data": {
      "text/plain": [
       "None"
      ]
     },
     "metadata": {},
     "output_type": "display_data"
    }
   ],
   "source": [
    "path_4 = pathlib.Path('C:/') / 'Ya' / 'datas' / 'users.csv'\n",
    "df4 = pd.read_csv(path_4)\n",
    "display(df4.head()) # выводим первые 5 строк датафрейма\n",
    "display(df4.info()) # смотрим общую информацию о данных"
   ]
  },
  {
   "cell_type": "markdown",
   "metadata": {},
   "source": [
    "Хороший набор данных с информацией о 500 пользователях."
   ]
  },
  {
   "cell_type": "markdown",
   "metadata": {},
   "source": [
    "### Сбор полученных данных по активности пользователей в общую таблицу"
   ]
  },
  {
   "cell_type": "code",
   "execution_count": 77,
   "metadata": {
    "scrolled": true
   },
   "outputs": [
    {
     "data": {
      "text/html": [
       "<div>\n",
       "<style scoped>\n",
       "    .dataframe tbody tr th:only-of-type {\n",
       "        vertical-align: middle;\n",
       "    }\n",
       "\n",
       "    .dataframe tbody tr th {\n",
       "        vertical-align: top;\n",
       "    }\n",
       "\n",
       "    .dataframe thead th {\n",
       "        text-align: right;\n",
       "    }\n",
       "</style>\n",
       "<table border=\"1\" class=\"dataframe\">\n",
       "  <thead>\n",
       "    <tr style=\"text-align: right;\">\n",
       "      <th></th>\n",
       "      <th>user_id</th>\n",
       "      <th>month</th>\n",
       "      <th>duration_calls</th>\n",
       "      <th>count_calls</th>\n",
       "      <th>mb_used</th>\n",
       "      <th>count_sessions</th>\n",
       "      <th>count_messages</th>\n",
       "      <th>age</th>\n",
       "      <th>churn_date</th>\n",
       "      <th>city</th>\n",
       "      <th>first_name</th>\n",
       "      <th>last_name</th>\n",
       "      <th>reg_date</th>\n",
       "      <th>tariff</th>\n",
       "    </tr>\n",
       "  </thead>\n",
       "  <tbody>\n",
       "    <tr>\n",
       "      <th>0</th>\n",
       "      <td>1467</td>\n",
       "      <td>2018-12</td>\n",
       "      <td>1578.06</td>\n",
       "      <td>244.0</td>\n",
       "      <td>9756.90</td>\n",
       "      <td>22.0</td>\n",
       "      <td>39.0</td>\n",
       "      <td>66</td>\n",
       "      <td>NaN</td>\n",
       "      <td>Киров</td>\n",
       "      <td>Исак</td>\n",
       "      <td>Александрюк</td>\n",
       "      <td>2018-11-24</td>\n",
       "      <td>ultra</td>\n",
       "    </tr>\n",
       "    <tr>\n",
       "      <th>1</th>\n",
       "      <td>1467</td>\n",
       "      <td>2018-11</td>\n",
       "      <td>300.15</td>\n",
       "      <td>52.0</td>\n",
       "      <td>2450.04</td>\n",
       "      <td>5.0</td>\n",
       "      <td>15.0</td>\n",
       "      <td>66</td>\n",
       "      <td>NaN</td>\n",
       "      <td>Киров</td>\n",
       "      <td>Исак</td>\n",
       "      <td>Александрюк</td>\n",
       "      <td>2018-11-24</td>\n",
       "      <td>ultra</td>\n",
       "    </tr>\n",
       "    <tr>\n",
       "      <th>2</th>\n",
       "      <td>1377</td>\n",
       "      <td>2018-03</td>\n",
       "      <td>1528.45</td>\n",
       "      <td>203.0</td>\n",
       "      <td>3059.85</td>\n",
       "      <td>7.0</td>\n",
       "      <td>20.0</td>\n",
       "      <td>59</td>\n",
       "      <td>NaN</td>\n",
       "      <td>Брянск</td>\n",
       "      <td>Альфред</td>\n",
       "      <td>Семин</td>\n",
       "      <td>2018-02-25</td>\n",
       "      <td>ultra</td>\n",
       "    </tr>\n",
       "    <tr>\n",
       "      <th>3</th>\n",
       "      <td>1377</td>\n",
       "      <td>2018-12</td>\n",
       "      <td>1179.83</td>\n",
       "      <td>185.0</td>\n",
       "      <td>1444.81</td>\n",
       "      <td>6.0</td>\n",
       "      <td>17.0</td>\n",
       "      <td>59</td>\n",
       "      <td>NaN</td>\n",
       "      <td>Брянск</td>\n",
       "      <td>Альфред</td>\n",
       "      <td>Семин</td>\n",
       "      <td>2018-02-25</td>\n",
       "      <td>ultra</td>\n",
       "    </tr>\n",
       "    <tr>\n",
       "      <th>4</th>\n",
       "      <td>1377</td>\n",
       "      <td>2018-07</td>\n",
       "      <td>1237.87</td>\n",
       "      <td>185.0</td>\n",
       "      <td>4205.46</td>\n",
       "      <td>9.0</td>\n",
       "      <td>13.0</td>\n",
       "      <td>59</td>\n",
       "      <td>NaN</td>\n",
       "      <td>Брянск</td>\n",
       "      <td>Альфред</td>\n",
       "      <td>Семин</td>\n",
       "      <td>2018-02-25</td>\n",
       "      <td>ultra</td>\n",
       "    </tr>\n",
       "  </tbody>\n",
       "</table>\n",
       "</div>"
      ],
      "text/plain": [
       "   user_id    month  duration_calls  count_calls  mb_used  count_sessions  \\\n",
       "0     1467  2018-12         1578.06        244.0  9756.90            22.0   \n",
       "1     1467  2018-11          300.15         52.0  2450.04             5.0   \n",
       "2     1377  2018-03         1528.45        203.0  3059.85             7.0   \n",
       "3     1377  2018-12         1179.83        185.0  1444.81             6.0   \n",
       "4     1377  2018-07         1237.87        185.0  4205.46             9.0   \n",
       "\n",
       "   count_messages  age churn_date    city first_name    last_name    reg_date  \\\n",
       "0            39.0   66        NaN   Киров       Исак  Александрюк  2018-11-24   \n",
       "1            15.0   66        NaN   Киров       Исак  Александрюк  2018-11-24   \n",
       "2            20.0   59        NaN  Брянск    Альфред        Семин  2018-02-25   \n",
       "3            17.0   59        NaN  Брянск    Альфред        Семин  2018-02-25   \n",
       "4            13.0   59        NaN  Брянск    Альфред        Семин  2018-02-25   \n",
       "\n",
       "  tariff  \n",
       "0  ultra  \n",
       "1  ultra  \n",
       "2  ultra  \n",
       "3  ultra  \n",
       "4  ultra  "
      ]
     },
     "execution_count": 77,
     "metadata": {},
     "output_type": "execute_result"
    }
   ],
   "source": [
    "data = calls.merge(internet, on=['user_id', 'month'], how='outer')\n",
    "data = data.merge(message, on=['user_id', 'month'], how='outer')\n",
    "data = data.merge(df4, on=['user_id'], how='outer')\n",
    "data.head()\n"
   ]
  },
  {
   "cell_type": "code",
   "execution_count": 78,
   "metadata": {},
   "outputs": [
    {
     "data": {
      "text/plain": [
       "(3216, 14)"
      ]
     },
     "execution_count": 78,
     "metadata": {},
     "output_type": "execute_result"
    }
   ],
   "source": [
    "data.shape # посмотрим на количество строк и полей"
   ]
  },
  {
   "cell_type": "code",
   "execution_count": 79,
   "metadata": {},
   "outputs": [
    {
     "data": {
      "text/plain": [
       "500"
      ]
     },
     "execution_count": 79,
     "metadata": {},
     "output_type": "execute_result"
    }
   ],
   "source": [
    "data.user_id.nunique() # убедимся, что все 500 пользователй попали в общий набор данных"
   ]
  },
  {
   "cell_type": "markdown",
   "metadata": {},
   "source": [
    "Теперь мы обладаем набором данных с общей активностью пользователей нашего оператора связи."
   ]
  },
  {
   "cell_type": "markdown",
   "metadata": {},
   "source": [
    "### Переведём количество использованных мегабайт в гигабайты"
   ]
  },
  {
   "cell_type": "code",
   "execution_count": 80,
   "metadata": {
    "scrolled": true
   },
   "outputs": [
    {
     "data": {
      "text/html": [
       "<div>\n",
       "<style scoped>\n",
       "    .dataframe tbody tr th:only-of-type {\n",
       "        vertical-align: middle;\n",
       "    }\n",
       "\n",
       "    .dataframe tbody tr th {\n",
       "        vertical-align: top;\n",
       "    }\n",
       "\n",
       "    .dataframe thead th {\n",
       "        text-align: right;\n",
       "    }\n",
       "</style>\n",
       "<table border=\"1\" class=\"dataframe\">\n",
       "  <thead>\n",
       "    <tr style=\"text-align: right;\">\n",
       "      <th></th>\n",
       "      <th>user_id</th>\n",
       "      <th>month</th>\n",
       "      <th>duration_calls</th>\n",
       "      <th>count_calls</th>\n",
       "      <th>mb_used</th>\n",
       "      <th>count_sessions</th>\n",
       "      <th>count_messages</th>\n",
       "      <th>age</th>\n",
       "      <th>churn_date</th>\n",
       "      <th>city</th>\n",
       "      <th>first_name</th>\n",
       "      <th>last_name</th>\n",
       "      <th>reg_date</th>\n",
       "      <th>tariff</th>\n",
       "      <th>gb_used</th>\n",
       "    </tr>\n",
       "  </thead>\n",
       "  <tbody>\n",
       "    <tr>\n",
       "      <th>0</th>\n",
       "      <td>1467</td>\n",
       "      <td>2018-12</td>\n",
       "      <td>1578.06</td>\n",
       "      <td>244.0</td>\n",
       "      <td>9756.90</td>\n",
       "      <td>22.0</td>\n",
       "      <td>39.0</td>\n",
       "      <td>66</td>\n",
       "      <td>NaN</td>\n",
       "      <td>Киров</td>\n",
       "      <td>Исак</td>\n",
       "      <td>Александрюк</td>\n",
       "      <td>2018-11-24</td>\n",
       "      <td>ultra</td>\n",
       "      <td>10.0</td>\n",
       "    </tr>\n",
       "    <tr>\n",
       "      <th>1</th>\n",
       "      <td>1467</td>\n",
       "      <td>2018-11</td>\n",
       "      <td>300.15</td>\n",
       "      <td>52.0</td>\n",
       "      <td>2450.04</td>\n",
       "      <td>5.0</td>\n",
       "      <td>15.0</td>\n",
       "      <td>66</td>\n",
       "      <td>NaN</td>\n",
       "      <td>Киров</td>\n",
       "      <td>Исак</td>\n",
       "      <td>Александрюк</td>\n",
       "      <td>2018-11-24</td>\n",
       "      <td>ultra</td>\n",
       "      <td>3.0</td>\n",
       "    </tr>\n",
       "    <tr>\n",
       "      <th>2</th>\n",
       "      <td>1377</td>\n",
       "      <td>2018-03</td>\n",
       "      <td>1528.45</td>\n",
       "      <td>203.0</td>\n",
       "      <td>3059.85</td>\n",
       "      <td>7.0</td>\n",
       "      <td>20.0</td>\n",
       "      <td>59</td>\n",
       "      <td>NaN</td>\n",
       "      <td>Брянск</td>\n",
       "      <td>Альфред</td>\n",
       "      <td>Семин</td>\n",
       "      <td>2018-02-25</td>\n",
       "      <td>ultra</td>\n",
       "      <td>4.0</td>\n",
       "    </tr>\n",
       "    <tr>\n",
       "      <th>3</th>\n",
       "      <td>1377</td>\n",
       "      <td>2018-12</td>\n",
       "      <td>1179.83</td>\n",
       "      <td>185.0</td>\n",
       "      <td>1444.81</td>\n",
       "      <td>6.0</td>\n",
       "      <td>17.0</td>\n",
       "      <td>59</td>\n",
       "      <td>NaN</td>\n",
       "      <td>Брянск</td>\n",
       "      <td>Альфред</td>\n",
       "      <td>Семин</td>\n",
       "      <td>2018-02-25</td>\n",
       "      <td>ultra</td>\n",
       "      <td>2.0</td>\n",
       "    </tr>\n",
       "    <tr>\n",
       "      <th>4</th>\n",
       "      <td>1377</td>\n",
       "      <td>2018-07</td>\n",
       "      <td>1237.87</td>\n",
       "      <td>185.0</td>\n",
       "      <td>4205.46</td>\n",
       "      <td>9.0</td>\n",
       "      <td>13.0</td>\n",
       "      <td>59</td>\n",
       "      <td>NaN</td>\n",
       "      <td>Брянск</td>\n",
       "      <td>Альфред</td>\n",
       "      <td>Семин</td>\n",
       "      <td>2018-02-25</td>\n",
       "      <td>ultra</td>\n",
       "      <td>5.0</td>\n",
       "    </tr>\n",
       "  </tbody>\n",
       "</table>\n",
       "</div>"
      ],
      "text/plain": [
       "   user_id    month  duration_calls  count_calls  mb_used  count_sessions  \\\n",
       "0     1467  2018-12         1578.06        244.0  9756.90            22.0   \n",
       "1     1467  2018-11          300.15         52.0  2450.04             5.0   \n",
       "2     1377  2018-03         1528.45        203.0  3059.85             7.0   \n",
       "3     1377  2018-12         1179.83        185.0  1444.81             6.0   \n",
       "4     1377  2018-07         1237.87        185.0  4205.46             9.0   \n",
       "\n",
       "   count_messages  age churn_date    city first_name    last_name    reg_date  \\\n",
       "0            39.0   66        NaN   Киров       Исак  Александрюк  2018-11-24   \n",
       "1            15.0   66        NaN   Киров       Исак  Александрюк  2018-11-24   \n",
       "2            20.0   59        NaN  Брянск    Альфред        Семин  2018-02-25   \n",
       "3            17.0   59        NaN  Брянск    Альфред        Семин  2018-02-25   \n",
       "4            13.0   59        NaN  Брянск    Альфред        Семин  2018-02-25   \n",
       "\n",
       "  tariff  gb_used  \n",
       "0  ultra     10.0  \n",
       "1  ultra      3.0  \n",
       "2  ultra      4.0  \n",
       "3  ultra      2.0  \n",
       "4  ultra      5.0  "
      ]
     },
     "execution_count": 80,
     "metadata": {},
     "output_type": "execute_result"
    }
   ],
   "source": [
    "# разделим значения столбца \"mb_used\" на 1000 и используем функцию ceil для округления к большему значению\n",
    "data['gb_used'] = np.ceil(data['mb_used'] / 1000)\n",
    "data.head()"
   ]
  },
  {
   "cell_type": "code",
   "execution_count": 81,
   "metadata": {},
   "outputs": [
    {
     "name": "stdout",
     "output_type": "stream",
     "text": [
      "<class 'pandas.core.frame.DataFrame'>\n",
      "Int64Index: 3216 entries, 0 to 3215\n",
      "Data columns (total 15 columns):\n",
      " #   Column          Non-Null Count  Dtype    \n",
      "---  ------          --------------  -----    \n",
      " 0   user_id         3216 non-null   int64    \n",
      " 1   month           3214 non-null   period[M]\n",
      " 2   duration_calls  3174 non-null   float64  \n",
      " 3   count_calls     3174 non-null   float64  \n",
      " 4   mb_used         3203 non-null   float64  \n",
      " 5   count_sessions  3203 non-null   float64  \n",
      " 6   count_messages  2717 non-null   float64  \n",
      " 7   age             3216 non-null   int64    \n",
      " 8   churn_date      189 non-null    object   \n",
      " 9   city            3216 non-null   object   \n",
      " 10  first_name      3216 non-null   object   \n",
      " 11  last_name       3216 non-null   object   \n",
      " 12  reg_date        3216 non-null   object   \n",
      " 13  tariff          3216 non-null   object   \n",
      " 14  gb_used         3203 non-null   float64  \n",
      "dtypes: float64(6), int64(2), object(6), period[M](1)\n",
      "memory usage: 402.0+ KB\n"
     ]
    }
   ],
   "source": [
    "data.info()"
   ]
  },
  {
   "cell_type": "code",
   "execution_count": 82,
   "metadata": {},
   "outputs": [
    {
     "data": {
      "text/html": [
       "<div>\n",
       "<style scoped>\n",
       "    .dataframe tbody tr th:only-of-type {\n",
       "        vertical-align: middle;\n",
       "    }\n",
       "\n",
       "    .dataframe tbody tr th {\n",
       "        vertical-align: top;\n",
       "    }\n",
       "\n",
       "    .dataframe thead th {\n",
       "        text-align: right;\n",
       "    }\n",
       "</style>\n",
       "<table border=\"1\" class=\"dataframe\">\n",
       "  <thead>\n",
       "    <tr style=\"text-align: right;\">\n",
       "      <th></th>\n",
       "      <th>user_id</th>\n",
       "      <th>duration_calls</th>\n",
       "      <th>count_calls</th>\n",
       "      <th>mb_used</th>\n",
       "      <th>count_sessions</th>\n",
       "      <th>count_messages</th>\n",
       "      <th>age</th>\n",
       "      <th>gb_used</th>\n",
       "    </tr>\n",
       "  </thead>\n",
       "  <tbody>\n",
       "    <tr>\n",
       "      <th>count</th>\n",
       "      <td>3216.000000</td>\n",
       "      <td>3174.000000</td>\n",
       "      <td>3174.000000</td>\n",
       "      <td>3203.000000</td>\n",
       "      <td>3203.000000</td>\n",
       "      <td>2717.000000</td>\n",
       "      <td>3216.000000</td>\n",
       "      <td>3203.000000</td>\n",
       "    </tr>\n",
       "    <tr>\n",
       "      <th>mean</th>\n",
       "      <td>1251.588930</td>\n",
       "      <td>431.250800</td>\n",
       "      <td>63.833333</td>\n",
       "      <td>17266.708626</td>\n",
       "      <td>46.642523</td>\n",
       "      <td>45.283769</td>\n",
       "      <td>46.643968</td>\n",
       "      <td>17.758664</td>\n",
       "    </tr>\n",
       "    <tr>\n",
       "      <th>std</th>\n",
       "      <td>144.645928</td>\n",
       "      <td>224.914227</td>\n",
       "      <td>32.678036</td>\n",
       "      <td>7516.356902</td>\n",
       "      <td>18.696094</td>\n",
       "      <td>35.051363</td>\n",
       "      <td>16.581233</td>\n",
       "      <td>7.522742</td>\n",
       "    </tr>\n",
       "    <tr>\n",
       "      <th>min</th>\n",
       "      <td>1000.000000</td>\n",
       "      <td>0.000000</td>\n",
       "      <td>1.000000</td>\n",
       "      <td>0.000000</td>\n",
       "      <td>1.000000</td>\n",
       "      <td>1.000000</td>\n",
       "      <td>18.000000</td>\n",
       "      <td>0.000000</td>\n",
       "    </tr>\n",
       "    <tr>\n",
       "      <th>25%</th>\n",
       "      <td>1125.000000</td>\n",
       "      <td>273.835000</td>\n",
       "      <td>41.000000</td>\n",
       "      <td>12526.905000</td>\n",
       "      <td>35.000000</td>\n",
       "      <td>19.000000</td>\n",
       "      <td>32.000000</td>\n",
       "      <td>13.000000</td>\n",
       "    </tr>\n",
       "    <tr>\n",
       "      <th>50%</th>\n",
       "      <td>1253.000000</td>\n",
       "      <td>420.715000</td>\n",
       "      <td>63.000000</td>\n",
       "      <td>16963.110000</td>\n",
       "      <td>48.000000</td>\n",
       "      <td>38.000000</td>\n",
       "      <td>46.000000</td>\n",
       "      <td>17.000000</td>\n",
       "    </tr>\n",
       "    <tr>\n",
       "      <th>75%</th>\n",
       "      <td>1378.250000</td>\n",
       "      <td>558.602500</td>\n",
       "      <td>83.000000</td>\n",
       "      <td>21432.175000</td>\n",
       "      <td>59.000000</td>\n",
       "      <td>63.000000</td>\n",
       "      <td>62.000000</td>\n",
       "      <td>22.000000</td>\n",
       "    </tr>\n",
       "    <tr>\n",
       "      <th>max</th>\n",
       "      <td>1499.000000</td>\n",
       "      <td>1578.060000</td>\n",
       "      <td>244.000000</td>\n",
       "      <td>49745.690000</td>\n",
       "      <td>118.000000</td>\n",
       "      <td>224.000000</td>\n",
       "      <td>75.000000</td>\n",
       "      <td>50.000000</td>\n",
       "    </tr>\n",
       "  </tbody>\n",
       "</table>\n",
       "</div>"
      ],
      "text/plain": [
       "           user_id  duration_calls  count_calls       mb_used  count_sessions  \\\n",
       "count  3216.000000     3174.000000  3174.000000   3203.000000     3203.000000   \n",
       "mean   1251.588930      431.250800    63.833333  17266.708626       46.642523   \n",
       "std     144.645928      224.914227    32.678036   7516.356902       18.696094   \n",
       "min    1000.000000        0.000000     1.000000      0.000000        1.000000   \n",
       "25%    1125.000000      273.835000    41.000000  12526.905000       35.000000   \n",
       "50%    1253.000000      420.715000    63.000000  16963.110000       48.000000   \n",
       "75%    1378.250000      558.602500    83.000000  21432.175000       59.000000   \n",
       "max    1499.000000     1578.060000   244.000000  49745.690000      118.000000   \n",
       "\n",
       "       count_messages          age      gb_used  \n",
       "count     2717.000000  3216.000000  3203.000000  \n",
       "mean        45.283769    46.643968    17.758664  \n",
       "std         35.051363    16.581233     7.522742  \n",
       "min          1.000000    18.000000     0.000000  \n",
       "25%         19.000000    32.000000    13.000000  \n",
       "50%         38.000000    46.000000    17.000000  \n",
       "75%         63.000000    62.000000    22.000000  \n",
       "max        224.000000    75.000000    50.000000  "
      ]
     },
     "execution_count": 82,
     "metadata": {},
     "output_type": "execute_result"
    }
   ],
   "source": [
    "data.describe()"
   ]
  },
  {
   "cell_type": "code",
   "execution_count": 83,
   "metadata": {},
   "outputs": [
    {
     "data": {
      "text/plain": [
       "user_id              0\n",
       "month                2\n",
       "duration_calls      42\n",
       "count_calls         42\n",
       "mb_used             13\n",
       "count_sessions      13\n",
       "count_messages     499\n",
       "age                  0\n",
       "churn_date        3027\n",
       "city                 0\n",
       "first_name           0\n",
       "last_name            0\n",
       "reg_date             0\n",
       "tariff               0\n",
       "gb_used             13\n",
       "dtype: int64"
      ]
     },
     "execution_count": 83,
     "metadata": {},
     "output_type": "execute_result"
    }
   ],
   "source": [
    "data.isna().sum()"
   ]
  },
  {
   "cell_type": "markdown",
   "metadata": {},
   "source": [
    "Из информации по полученным данным видим, что во многих столбцах встречаются отсутствующие значения."
   ]
  },
  {
   "cell_type": "markdown",
   "metadata": {},
   "source": [
    "- Строки в которых нет информации о месяце в кототором была совершена операция мы попросту удалим, так как таких строк всего две и это ни как не повлияет на наш набор данных;\n",
    "- В строках где пропущена информация о продолжительности и количестве звонков - заменим эти значения на ноль. Вероятнее всего, отсутствующие значения означают, что звонки не совершались;\n",
    "- Пропущенные значения в столбцах с информацией о количесвтве использованного трафика и о количестве интернет-сессий, мы также заменяем нулями. Судя по всему, остались абоненты непризнающие интернет;\n",
    "- В столбце с информацией о количестве отправленных сообщений , будем заменять отсутствующие значения на ноль, так как с развитием интернет-сервисов, СМСки всё дальше отдалются от абонентов - отсюда и 499 отсутствующих значений в этом столбце;\n",
    "- Столбец \"churn_date\" - это дата прекращения пользования тарифом, если значение пропущено, то тариф ещё действовал на момент выгрузки данных. Пропущенные значения в этом столбце оставим без изменений."
   ]
  },
  {
   "cell_type": "code",
   "execution_count": 84,
   "metadata": {},
   "outputs": [
    {
     "data": {
      "text/plain": [
       "user_id              0\n",
       "month                0\n",
       "duration_calls       0\n",
       "count_calls          0\n",
       "mb_used              0\n",
       "count_sessions       0\n",
       "count_messages       0\n",
       "age                  0\n",
       "churn_date        3027\n",
       "city                 0\n",
       "first_name           0\n",
       "last_name            0\n",
       "reg_date             0\n",
       "tariff               0\n",
       "gb_used              0\n",
       "dtype: int64"
      ]
     },
     "execution_count": 84,
     "metadata": {},
     "output_type": "execute_result"
    }
   ],
   "source": [
    "data.dropna(subset=['month'], inplace=True)\n",
    "data.loc[data['duration_calls'].isna(), 'duration_calls'] = 0\n",
    "data.loc[data['count_calls'].isna(), 'count_calls'] = 0\n",
    "data.loc[data['mb_used'].isna(), 'mb_used'] = 0\n",
    "data.loc[data['gb_used'].isna(), 'gb_used'] = 0\n",
    "data.loc[data['count_sessions'].isna(), 'count_sessions'] = 0\n",
    "data.loc[data['count_messages'].isna(), 'count_messages'] = 0\n",
    "data.isna().sum()"
   ]
  },
  {
   "cell_type": "markdown",
   "metadata": {},
   "source": [
    "## Расчет выручки"
   ]
  },
  {
   "cell_type": "markdown",
   "metadata": {},
   "source": [
    "- Для каждого из тарифа создаём дополнительные столбцы с информацией о прибыли сверх абонентской платы со звонков, интернета и сообщений, исходя из условий рассматриваемого тарифа;\n",
    "- Если значения в столбце о прибыли сверх абонентской платы со звонков, интернета или сообщений оказываются отрицательными - это значит, что абонент не пользовался услугами оператора сверх заложенных в тариф лимитов, таким образом, для дальнейшего расчёта общей прибыли такие значения мы преобразуем в 0;\n",
    "- Для каждого из тарифа посчитаем общую выручку: сложим ежемесячную абоненскую плату со значениями из столбцов с информацией о прибыли сверх абонентской платы."
   ]
  },
  {
   "cell_type": "code",
   "execution_count": 85,
   "metadata": {},
   "outputs": [
    {
     "data": {
      "text/html": [
       "<div>\n",
       "<style scoped>\n",
       "    .dataframe tbody tr th:only-of-type {\n",
       "        vertical-align: middle;\n",
       "    }\n",
       "\n",
       "    .dataframe tbody tr th {\n",
       "        vertical-align: top;\n",
       "    }\n",
       "\n",
       "    .dataframe thead th {\n",
       "        text-align: right;\n",
       "    }\n",
       "</style>\n",
       "<table border=\"1\" class=\"dataframe\">\n",
       "  <thead>\n",
       "    <tr style=\"text-align: right;\">\n",
       "      <th></th>\n",
       "      <th>user_id</th>\n",
       "      <th>month</th>\n",
       "      <th>duration_calls</th>\n",
       "      <th>count_calls</th>\n",
       "      <th>mb_used</th>\n",
       "      <th>count_sessions</th>\n",
       "      <th>count_messages</th>\n",
       "      <th>age</th>\n",
       "      <th>churn_date</th>\n",
       "      <th>city</th>\n",
       "      <th>first_name</th>\n",
       "      <th>last_name</th>\n",
       "      <th>reg_date</th>\n",
       "      <th>tariff</th>\n",
       "      <th>gb_used</th>\n",
       "      <th>receipt_from_calls</th>\n",
       "      <th>receipt_from_internet</th>\n",
       "      <th>receipt_from_messages</th>\n",
       "      <th>receipt</th>\n",
       "    </tr>\n",
       "  </thead>\n",
       "  <tbody>\n",
       "    <tr>\n",
       "      <th>0</th>\n",
       "      <td>1467</td>\n",
       "      <td>2018-12</td>\n",
       "      <td>1578.06</td>\n",
       "      <td>244.0</td>\n",
       "      <td>9756.90</td>\n",
       "      <td>22.0</td>\n",
       "      <td>39.0</td>\n",
       "      <td>66</td>\n",
       "      <td>NaN</td>\n",
       "      <td>Киров</td>\n",
       "      <td>Исак</td>\n",
       "      <td>Александрюк</td>\n",
       "      <td>2018-11-24</td>\n",
       "      <td>ultra</td>\n",
       "      <td>10.0</td>\n",
       "      <td>0.00</td>\n",
       "      <td>0.0</td>\n",
       "      <td>0.0</td>\n",
       "      <td>1950.00</td>\n",
       "    </tr>\n",
       "    <tr>\n",
       "      <th>1</th>\n",
       "      <td>1467</td>\n",
       "      <td>2018-11</td>\n",
       "      <td>300.15</td>\n",
       "      <td>52.0</td>\n",
       "      <td>2450.04</td>\n",
       "      <td>5.0</td>\n",
       "      <td>15.0</td>\n",
       "      <td>66</td>\n",
       "      <td>NaN</td>\n",
       "      <td>Киров</td>\n",
       "      <td>Исак</td>\n",
       "      <td>Александрюк</td>\n",
       "      <td>2018-11-24</td>\n",
       "      <td>ultra</td>\n",
       "      <td>3.0</td>\n",
       "      <td>0.00</td>\n",
       "      <td>0.0</td>\n",
       "      <td>0.0</td>\n",
       "      <td>1950.00</td>\n",
       "    </tr>\n",
       "    <tr>\n",
       "      <th>2</th>\n",
       "      <td>1377</td>\n",
       "      <td>2018-03</td>\n",
       "      <td>1528.45</td>\n",
       "      <td>203.0</td>\n",
       "      <td>3059.85</td>\n",
       "      <td>7.0</td>\n",
       "      <td>20.0</td>\n",
       "      <td>59</td>\n",
       "      <td>NaN</td>\n",
       "      <td>Брянск</td>\n",
       "      <td>Альфред</td>\n",
       "      <td>Семин</td>\n",
       "      <td>2018-02-25</td>\n",
       "      <td>ultra</td>\n",
       "      <td>4.0</td>\n",
       "      <td>0.00</td>\n",
       "      <td>0.0</td>\n",
       "      <td>0.0</td>\n",
       "      <td>1950.00</td>\n",
       "    </tr>\n",
       "    <tr>\n",
       "      <th>3</th>\n",
       "      <td>1377</td>\n",
       "      <td>2018-12</td>\n",
       "      <td>1179.83</td>\n",
       "      <td>185.0</td>\n",
       "      <td>1444.81</td>\n",
       "      <td>6.0</td>\n",
       "      <td>17.0</td>\n",
       "      <td>59</td>\n",
       "      <td>NaN</td>\n",
       "      <td>Брянск</td>\n",
       "      <td>Альфред</td>\n",
       "      <td>Семин</td>\n",
       "      <td>2018-02-25</td>\n",
       "      <td>ultra</td>\n",
       "      <td>2.0</td>\n",
       "      <td>0.00</td>\n",
       "      <td>0.0</td>\n",
       "      <td>0.0</td>\n",
       "      <td>1950.00</td>\n",
       "    </tr>\n",
       "    <tr>\n",
       "      <th>4</th>\n",
       "      <td>1377</td>\n",
       "      <td>2018-07</td>\n",
       "      <td>1237.87</td>\n",
       "      <td>185.0</td>\n",
       "      <td>4205.46</td>\n",
       "      <td>9.0</td>\n",
       "      <td>13.0</td>\n",
       "      <td>59</td>\n",
       "      <td>NaN</td>\n",
       "      <td>Брянск</td>\n",
       "      <td>Альфред</td>\n",
       "      <td>Семин</td>\n",
       "      <td>2018-02-25</td>\n",
       "      <td>ultra</td>\n",
       "      <td>5.0</td>\n",
       "      <td>0.00</td>\n",
       "      <td>0.0</td>\n",
       "      <td>0.0</td>\n",
       "      <td>1950.00</td>\n",
       "    </tr>\n",
       "    <tr>\n",
       "      <th>5</th>\n",
       "      <td>1377</td>\n",
       "      <td>2018-10</td>\n",
       "      <td>1324.75</td>\n",
       "      <td>178.0</td>\n",
       "      <td>4880.62</td>\n",
       "      <td>11.0</td>\n",
       "      <td>10.0</td>\n",
       "      <td>59</td>\n",
       "      <td>NaN</td>\n",
       "      <td>Брянск</td>\n",
       "      <td>Альфред</td>\n",
       "      <td>Семин</td>\n",
       "      <td>2018-02-25</td>\n",
       "      <td>ultra</td>\n",
       "      <td>5.0</td>\n",
       "      <td>0.00</td>\n",
       "      <td>0.0</td>\n",
       "      <td>0.0</td>\n",
       "      <td>1950.00</td>\n",
       "    </tr>\n",
       "    <tr>\n",
       "      <th>6</th>\n",
       "      <td>1377</td>\n",
       "      <td>2018-06</td>\n",
       "      <td>1222.79</td>\n",
       "      <td>176.0</td>\n",
       "      <td>4717.58</td>\n",
       "      <td>10.0</td>\n",
       "      <td>15.0</td>\n",
       "      <td>59</td>\n",
       "      <td>NaN</td>\n",
       "      <td>Брянск</td>\n",
       "      <td>Альфред</td>\n",
       "      <td>Семин</td>\n",
       "      <td>2018-02-25</td>\n",
       "      <td>ultra</td>\n",
       "      <td>5.0</td>\n",
       "      <td>0.00</td>\n",
       "      <td>0.0</td>\n",
       "      <td>0.0</td>\n",
       "      <td>1950.00</td>\n",
       "    </tr>\n",
       "    <tr>\n",
       "      <th>7</th>\n",
       "      <td>1377</td>\n",
       "      <td>2018-09</td>\n",
       "      <td>1223.32</td>\n",
       "      <td>173.0</td>\n",
       "      <td>4134.29</td>\n",
       "      <td>8.0</td>\n",
       "      <td>17.0</td>\n",
       "      <td>59</td>\n",
       "      <td>NaN</td>\n",
       "      <td>Брянск</td>\n",
       "      <td>Альфред</td>\n",
       "      <td>Семин</td>\n",
       "      <td>2018-02-25</td>\n",
       "      <td>ultra</td>\n",
       "      <td>5.0</td>\n",
       "      <td>0.00</td>\n",
       "      <td>0.0</td>\n",
       "      <td>0.0</td>\n",
       "      <td>1950.00</td>\n",
       "    </tr>\n",
       "    <tr>\n",
       "      <th>8</th>\n",
       "      <td>1377</td>\n",
       "      <td>2018-11</td>\n",
       "      <td>1097.94</td>\n",
       "      <td>164.0</td>\n",
       "      <td>5998.50</td>\n",
       "      <td>10.0</td>\n",
       "      <td>16.0</td>\n",
       "      <td>59</td>\n",
       "      <td>NaN</td>\n",
       "      <td>Брянск</td>\n",
       "      <td>Альфред</td>\n",
       "      <td>Семин</td>\n",
       "      <td>2018-02-25</td>\n",
       "      <td>ultra</td>\n",
       "      <td>6.0</td>\n",
       "      <td>0.00</td>\n",
       "      <td>0.0</td>\n",
       "      <td>0.0</td>\n",
       "      <td>1950.00</td>\n",
       "    </tr>\n",
       "    <tr>\n",
       "      <th>9</th>\n",
       "      <td>1377</td>\n",
       "      <td>2018-08</td>\n",
       "      <td>1200.67</td>\n",
       "      <td>161.0</td>\n",
       "      <td>5749.01</td>\n",
       "      <td>10.0</td>\n",
       "      <td>11.0</td>\n",
       "      <td>59</td>\n",
       "      <td>NaN</td>\n",
       "      <td>Брянск</td>\n",
       "      <td>Альфред</td>\n",
       "      <td>Семин</td>\n",
       "      <td>2018-02-25</td>\n",
       "      <td>ultra</td>\n",
       "      <td>6.0</td>\n",
       "      <td>0.00</td>\n",
       "      <td>0.0</td>\n",
       "      <td>0.0</td>\n",
       "      <td>1950.00</td>\n",
       "    </tr>\n",
       "    <tr>\n",
       "      <th>10</th>\n",
       "      <td>1377</td>\n",
       "      <td>2018-05</td>\n",
       "      <td>1037.79</td>\n",
       "      <td>160.0</td>\n",
       "      <td>6608.89</td>\n",
       "      <td>13.0</td>\n",
       "      <td>16.0</td>\n",
       "      <td>59</td>\n",
       "      <td>NaN</td>\n",
       "      <td>Брянск</td>\n",
       "      <td>Альфред</td>\n",
       "      <td>Семин</td>\n",
       "      <td>2018-02-25</td>\n",
       "      <td>ultra</td>\n",
       "      <td>7.0</td>\n",
       "      <td>0.00</td>\n",
       "      <td>0.0</td>\n",
       "      <td>0.0</td>\n",
       "      <td>1950.00</td>\n",
       "    </tr>\n",
       "    <tr>\n",
       "      <th>11</th>\n",
       "      <td>1377</td>\n",
       "      <td>2018-04</td>\n",
       "      <td>1036.24</td>\n",
       "      <td>152.0</td>\n",
       "      <td>1151.05</td>\n",
       "      <td>7.0</td>\n",
       "      <td>17.0</td>\n",
       "      <td>59</td>\n",
       "      <td>NaN</td>\n",
       "      <td>Брянск</td>\n",
       "      <td>Альфред</td>\n",
       "      <td>Семин</td>\n",
       "      <td>2018-02-25</td>\n",
       "      <td>ultra</td>\n",
       "      <td>2.0</td>\n",
       "      <td>0.00</td>\n",
       "      <td>0.0</td>\n",
       "      <td>0.0</td>\n",
       "      <td>1950.00</td>\n",
       "    </tr>\n",
       "    <tr>\n",
       "      <th>12</th>\n",
       "      <td>1377</td>\n",
       "      <td>2018-02</td>\n",
       "      <td>168.55</td>\n",
       "      <td>23.0</td>\n",
       "      <td>0.00</td>\n",
       "      <td>0.0</td>\n",
       "      <td>2.0</td>\n",
       "      <td>59</td>\n",
       "      <td>NaN</td>\n",
       "      <td>Брянск</td>\n",
       "      <td>Альфред</td>\n",
       "      <td>Семин</td>\n",
       "      <td>2018-02-25</td>\n",
       "      <td>ultra</td>\n",
       "      <td>0.0</td>\n",
       "      <td>0.00</td>\n",
       "      <td>0.0</td>\n",
       "      <td>0.0</td>\n",
       "      <td>1950.00</td>\n",
       "    </tr>\n",
       "    <tr>\n",
       "      <th>13</th>\n",
       "      <td>1216</td>\n",
       "      <td>2018-12</td>\n",
       "      <td>1354.22</td>\n",
       "      <td>198.0</td>\n",
       "      <td>20066.05</td>\n",
       "      <td>70.0</td>\n",
       "      <td>64.0</td>\n",
       "      <td>74</td>\n",
       "      <td>NaN</td>\n",
       "      <td>Волгоград</td>\n",
       "      <td>Рустам</td>\n",
       "      <td>Малинин</td>\n",
       "      <td>2018-11-23</td>\n",
       "      <td>smart</td>\n",
       "      <td>21.0</td>\n",
       "      <td>2562.66</td>\n",
       "      <td>1200.0</td>\n",
       "      <td>42.0</td>\n",
       "      <td>4354.66</td>\n",
       "    </tr>\n",
       "    <tr>\n",
       "      <th>14</th>\n",
       "      <td>1216</td>\n",
       "      <td>2018-11</td>\n",
       "      <td>330.16</td>\n",
       "      <td>44.0</td>\n",
       "      <td>5051.80</td>\n",
       "      <td>19.0</td>\n",
       "      <td>18.0</td>\n",
       "      <td>74</td>\n",
       "      <td>NaN</td>\n",
       "      <td>Волгоград</td>\n",
       "      <td>Рустам</td>\n",
       "      <td>Малинин</td>\n",
       "      <td>2018-11-23</td>\n",
       "      <td>smart</td>\n",
       "      <td>6.0</td>\n",
       "      <td>0.00</td>\n",
       "      <td>0.0</td>\n",
       "      <td>0.0</td>\n",
       "      <td>550.00</td>\n",
       "    </tr>\n",
       "    <tr>\n",
       "      <th>15</th>\n",
       "      <td>1222</td>\n",
       "      <td>2018-10</td>\n",
       "      <td>1240.75</td>\n",
       "      <td>196.0</td>\n",
       "      <td>26927.85</td>\n",
       "      <td>51.0</td>\n",
       "      <td>133.0</td>\n",
       "      <td>44</td>\n",
       "      <td>NaN</td>\n",
       "      <td>Уфа</td>\n",
       "      <td>Пётр</td>\n",
       "      <td>Булгаков</td>\n",
       "      <td>2018-08-30</td>\n",
       "      <td>ultra</td>\n",
       "      <td>27.0</td>\n",
       "      <td>0.00</td>\n",
       "      <td>0.0</td>\n",
       "      <td>0.0</td>\n",
       "      <td>1950.00</td>\n",
       "    </tr>\n",
       "    <tr>\n",
       "      <th>16</th>\n",
       "      <td>1222</td>\n",
       "      <td>2018-12</td>\n",
       "      <td>1187.70</td>\n",
       "      <td>184.0</td>\n",
       "      <td>24756.38</td>\n",
       "      <td>43.0</td>\n",
       "      <td>135.0</td>\n",
       "      <td>44</td>\n",
       "      <td>NaN</td>\n",
       "      <td>Уфа</td>\n",
       "      <td>Пётр</td>\n",
       "      <td>Булгаков</td>\n",
       "      <td>2018-08-30</td>\n",
       "      <td>ultra</td>\n",
       "      <td>25.0</td>\n",
       "      <td>0.00</td>\n",
       "      <td>0.0</td>\n",
       "      <td>0.0</td>\n",
       "      <td>1950.00</td>\n",
       "    </tr>\n",
       "    <tr>\n",
       "      <th>17</th>\n",
       "      <td>1222</td>\n",
       "      <td>2018-09</td>\n",
       "      <td>1187.98</td>\n",
       "      <td>180.0</td>\n",
       "      <td>19423.76</td>\n",
       "      <td>41.0</td>\n",
       "      <td>109.0</td>\n",
       "      <td>44</td>\n",
       "      <td>NaN</td>\n",
       "      <td>Уфа</td>\n",
       "      <td>Пётр</td>\n",
       "      <td>Булгаков</td>\n",
       "      <td>2018-08-30</td>\n",
       "      <td>ultra</td>\n",
       "      <td>20.0</td>\n",
       "      <td>0.00</td>\n",
       "      <td>0.0</td>\n",
       "      <td>0.0</td>\n",
       "      <td>1950.00</td>\n",
       "    </tr>\n",
       "    <tr>\n",
       "      <th>18</th>\n",
       "      <td>1222</td>\n",
       "      <td>2018-11</td>\n",
       "      <td>964.53</td>\n",
       "      <td>156.0</td>\n",
       "      <td>21535.15</td>\n",
       "      <td>39.0</td>\n",
       "      <td>114.0</td>\n",
       "      <td>44</td>\n",
       "      <td>NaN</td>\n",
       "      <td>Уфа</td>\n",
       "      <td>Пётр</td>\n",
       "      <td>Булгаков</td>\n",
       "      <td>2018-08-30</td>\n",
       "      <td>ultra</td>\n",
       "      <td>22.0</td>\n",
       "      <td>0.00</td>\n",
       "      <td>0.0</td>\n",
       "      <td>0.0</td>\n",
       "      <td>1950.00</td>\n",
       "    </tr>\n",
       "    <tr>\n",
       "      <th>19</th>\n",
       "      <td>1222</td>\n",
       "      <td>2018-08</td>\n",
       "      <td>25.56</td>\n",
       "      <td>9.0</td>\n",
       "      <td>2289.70</td>\n",
       "      <td>5.0</td>\n",
       "      <td>4.0</td>\n",
       "      <td>44</td>\n",
       "      <td>NaN</td>\n",
       "      <td>Уфа</td>\n",
       "      <td>Пётр</td>\n",
       "      <td>Булгаков</td>\n",
       "      <td>2018-08-30</td>\n",
       "      <td>ultra</td>\n",
       "      <td>3.0</td>\n",
       "      <td>0.00</td>\n",
       "      <td>0.0</td>\n",
       "      <td>0.0</td>\n",
       "      <td>1950.00</td>\n",
       "    </tr>\n",
       "    <tr>\n",
       "      <th>20</th>\n",
       "      <td>1196</td>\n",
       "      <td>2018-12</td>\n",
       "      <td>1143.18</td>\n",
       "      <td>189.0</td>\n",
       "      <td>25142.91</td>\n",
       "      <td>49.0</td>\n",
       "      <td>172.0</td>\n",
       "      <td>25</td>\n",
       "      <td>NaN</td>\n",
       "      <td>Воронеж</td>\n",
       "      <td>Фёдор</td>\n",
       "      <td>Чернышев</td>\n",
       "      <td>2018-05-28</td>\n",
       "      <td>ultra</td>\n",
       "      <td>26.0</td>\n",
       "      <td>0.00</td>\n",
       "      <td>0.0</td>\n",
       "      <td>0.0</td>\n",
       "      <td>1950.00</td>\n",
       "    </tr>\n",
       "    <tr>\n",
       "      <th>21</th>\n",
       "      <td>1196</td>\n",
       "      <td>2018-07</td>\n",
       "      <td>1208.04</td>\n",
       "      <td>183.0</td>\n",
       "      <td>29186.39</td>\n",
       "      <td>53.0</td>\n",
       "      <td>150.0</td>\n",
       "      <td>25</td>\n",
       "      <td>NaN</td>\n",
       "      <td>Воронеж</td>\n",
       "      <td>Фёдор</td>\n",
       "      <td>Чернышев</td>\n",
       "      <td>2018-05-28</td>\n",
       "      <td>ultra</td>\n",
       "      <td>30.0</td>\n",
       "      <td>0.00</td>\n",
       "      <td>0.0</td>\n",
       "      <td>0.0</td>\n",
       "      <td>1950.00</td>\n",
       "    </tr>\n",
       "    <tr>\n",
       "      <th>22</th>\n",
       "      <td>1196</td>\n",
       "      <td>2018-08</td>\n",
       "      <td>1137.80</td>\n",
       "      <td>181.0</td>\n",
       "      <td>21346.55</td>\n",
       "      <td>44.0</td>\n",
       "      <td>169.0</td>\n",
       "      <td>25</td>\n",
       "      <td>NaN</td>\n",
       "      <td>Воронеж</td>\n",
       "      <td>Фёдор</td>\n",
       "      <td>Чернышев</td>\n",
       "      <td>2018-05-28</td>\n",
       "      <td>ultra</td>\n",
       "      <td>22.0</td>\n",
       "      <td>0.00</td>\n",
       "      <td>0.0</td>\n",
       "      <td>0.0</td>\n",
       "      <td>1950.00</td>\n",
       "    </tr>\n",
       "    <tr>\n",
       "      <th>23</th>\n",
       "      <td>1196</td>\n",
       "      <td>2018-06</td>\n",
       "      <td>1337.83</td>\n",
       "      <td>176.0</td>\n",
       "      <td>22652.05</td>\n",
       "      <td>45.0</td>\n",
       "      <td>153.0</td>\n",
       "      <td>25</td>\n",
       "      <td>NaN</td>\n",
       "      <td>Воронеж</td>\n",
       "      <td>Фёдор</td>\n",
       "      <td>Чернышев</td>\n",
       "      <td>2018-05-28</td>\n",
       "      <td>ultra</td>\n",
       "      <td>23.0</td>\n",
       "      <td>0.00</td>\n",
       "      <td>0.0</td>\n",
       "      <td>0.0</td>\n",
       "      <td>1950.00</td>\n",
       "    </tr>\n",
       "    <tr>\n",
       "      <th>24</th>\n",
       "      <td>1196</td>\n",
       "      <td>2018-09</td>\n",
       "      <td>1068.73</td>\n",
       "      <td>174.0</td>\n",
       "      <td>28599.68</td>\n",
       "      <td>55.0</td>\n",
       "      <td>154.0</td>\n",
       "      <td>25</td>\n",
       "      <td>NaN</td>\n",
       "      <td>Воронеж</td>\n",
       "      <td>Фёдор</td>\n",
       "      <td>Чернышев</td>\n",
       "      <td>2018-05-28</td>\n",
       "      <td>ultra</td>\n",
       "      <td>29.0</td>\n",
       "      <td>0.00</td>\n",
       "      <td>0.0</td>\n",
       "      <td>0.0</td>\n",
       "      <td>1950.00</td>\n",
       "    </tr>\n",
       "    <tr>\n",
       "      <th>25</th>\n",
       "      <td>1196</td>\n",
       "      <td>2018-11</td>\n",
       "      <td>1144.00</td>\n",
       "      <td>159.0</td>\n",
       "      <td>33258.58</td>\n",
       "      <td>56.0</td>\n",
       "      <td>149.0</td>\n",
       "      <td>25</td>\n",
       "      <td>NaN</td>\n",
       "      <td>Воронеж</td>\n",
       "      <td>Фёдор</td>\n",
       "      <td>Чернышев</td>\n",
       "      <td>2018-05-28</td>\n",
       "      <td>ultra</td>\n",
       "      <td>34.0</td>\n",
       "      <td>0.00</td>\n",
       "      <td>600.0</td>\n",
       "      <td>0.0</td>\n",
       "      <td>2550.00</td>\n",
       "    </tr>\n",
       "    <tr>\n",
       "      <th>26</th>\n",
       "      <td>1196</td>\n",
       "      <td>2018-10</td>\n",
       "      <td>1009.13</td>\n",
       "      <td>156.0</td>\n",
       "      <td>26649.16</td>\n",
       "      <td>50.0</td>\n",
       "      <td>149.0</td>\n",
       "      <td>25</td>\n",
       "      <td>NaN</td>\n",
       "      <td>Воронеж</td>\n",
       "      <td>Фёдор</td>\n",
       "      <td>Чернышев</td>\n",
       "      <td>2018-05-28</td>\n",
       "      <td>ultra</td>\n",
       "      <td>27.0</td>\n",
       "      <td>0.00</td>\n",
       "      <td>0.0</td>\n",
       "      <td>0.0</td>\n",
       "      <td>1950.00</td>\n",
       "    </tr>\n",
       "    <tr>\n",
       "      <th>27</th>\n",
       "      <td>1196</td>\n",
       "      <td>2018-05</td>\n",
       "      <td>155.37</td>\n",
       "      <td>22.0</td>\n",
       "      <td>3805.39</td>\n",
       "      <td>11.0</td>\n",
       "      <td>24.0</td>\n",
       "      <td>25</td>\n",
       "      <td>NaN</td>\n",
       "      <td>Воронеж</td>\n",
       "      <td>Фёдор</td>\n",
       "      <td>Чернышев</td>\n",
       "      <td>2018-05-28</td>\n",
       "      <td>ultra</td>\n",
       "      <td>4.0</td>\n",
       "      <td>0.00</td>\n",
       "      <td>0.0</td>\n",
       "      <td>0.0</td>\n",
       "      <td>1950.00</td>\n",
       "    </tr>\n",
       "    <tr>\n",
       "      <th>28</th>\n",
       "      <td>1341</td>\n",
       "      <td>2018-08</td>\n",
       "      <td>1248.22</td>\n",
       "      <td>188.0</td>\n",
       "      <td>28289.55</td>\n",
       "      <td>62.0</td>\n",
       "      <td>74.0</td>\n",
       "      <td>71</td>\n",
       "      <td>NaN</td>\n",
       "      <td>Москва</td>\n",
       "      <td>Виктор</td>\n",
       "      <td>Кузнецов</td>\n",
       "      <td>2018-06-22</td>\n",
       "      <td>ultra</td>\n",
       "      <td>29.0</td>\n",
       "      <td>0.00</td>\n",
       "      <td>0.0</td>\n",
       "      <td>0.0</td>\n",
       "      <td>1950.00</td>\n",
       "    </tr>\n",
       "    <tr>\n",
       "      <th>29</th>\n",
       "      <td>1341</td>\n",
       "      <td>2018-09</td>\n",
       "      <td>1131.79</td>\n",
       "      <td>176.0</td>\n",
       "      <td>32441.12</td>\n",
       "      <td>66.0</td>\n",
       "      <td>48.0</td>\n",
       "      <td>71</td>\n",
       "      <td>NaN</td>\n",
       "      <td>Москва</td>\n",
       "      <td>Виктор</td>\n",
       "      <td>Кузнецов</td>\n",
       "      <td>2018-06-22</td>\n",
       "      <td>ultra</td>\n",
       "      <td>33.0</td>\n",
       "      <td>0.00</td>\n",
       "      <td>450.0</td>\n",
       "      <td>0.0</td>\n",
       "      <td>2400.00</td>\n",
       "    </tr>\n",
       "    <tr>\n",
       "      <th>30</th>\n",
       "      <td>1341</td>\n",
       "      <td>2018-10</td>\n",
       "      <td>1164.57</td>\n",
       "      <td>176.0</td>\n",
       "      <td>33903.26</td>\n",
       "      <td>60.0</td>\n",
       "      <td>74.0</td>\n",
       "      <td>71</td>\n",
       "      <td>NaN</td>\n",
       "      <td>Москва</td>\n",
       "      <td>Виктор</td>\n",
       "      <td>Кузнецов</td>\n",
       "      <td>2018-06-22</td>\n",
       "      <td>ultra</td>\n",
       "      <td>34.0</td>\n",
       "      <td>0.00</td>\n",
       "      <td>600.0</td>\n",
       "      <td>0.0</td>\n",
       "      <td>2550.00</td>\n",
       "    </tr>\n",
       "    <tr>\n",
       "      <th>31</th>\n",
       "      <td>1341</td>\n",
       "      <td>2018-07</td>\n",
       "      <td>1080.51</td>\n",
       "      <td>169.0</td>\n",
       "      <td>27728.77</td>\n",
       "      <td>56.0</td>\n",
       "      <td>53.0</td>\n",
       "      <td>71</td>\n",
       "      <td>NaN</td>\n",
       "      <td>Москва</td>\n",
       "      <td>Виктор</td>\n",
       "      <td>Кузнецов</td>\n",
       "      <td>2018-06-22</td>\n",
       "      <td>ultra</td>\n",
       "      <td>28.0</td>\n",
       "      <td>0.00</td>\n",
       "      <td>0.0</td>\n",
       "      <td>0.0</td>\n",
       "      <td>1950.00</td>\n",
       "    </tr>\n",
       "    <tr>\n",
       "      <th>32</th>\n",
       "      <td>1341</td>\n",
       "      <td>2018-12</td>\n",
       "      <td>1162.74</td>\n",
       "      <td>164.0</td>\n",
       "      <td>27231.13</td>\n",
       "      <td>54.0</td>\n",
       "      <td>58.0</td>\n",
       "      <td>71</td>\n",
       "      <td>NaN</td>\n",
       "      <td>Москва</td>\n",
       "      <td>Виктор</td>\n",
       "      <td>Кузнецов</td>\n",
       "      <td>2018-06-22</td>\n",
       "      <td>ultra</td>\n",
       "      <td>28.0</td>\n",
       "      <td>0.00</td>\n",
       "      <td>0.0</td>\n",
       "      <td>0.0</td>\n",
       "      <td>1950.00</td>\n",
       "    </tr>\n",
       "    <tr>\n",
       "      <th>33</th>\n",
       "      <td>1341</td>\n",
       "      <td>2018-11</td>\n",
       "      <td>1142.60</td>\n",
       "      <td>159.0</td>\n",
       "      <td>31194.30</td>\n",
       "      <td>57.0</td>\n",
       "      <td>71.0</td>\n",
       "      <td>71</td>\n",
       "      <td>NaN</td>\n",
       "      <td>Москва</td>\n",
       "      <td>Виктор</td>\n",
       "      <td>Кузнецов</td>\n",
       "      <td>2018-06-22</td>\n",
       "      <td>ultra</td>\n",
       "      <td>32.0</td>\n",
       "      <td>0.00</td>\n",
       "      <td>300.0</td>\n",
       "      <td>0.0</td>\n",
       "      <td>2250.00</td>\n",
       "    </tr>\n",
       "    <tr>\n",
       "      <th>34</th>\n",
       "      <td>1341</td>\n",
       "      <td>2018-06</td>\n",
       "      <td>413.02</td>\n",
       "      <td>60.0</td>\n",
       "      <td>11407.52</td>\n",
       "      <td>23.0</td>\n",
       "      <td>21.0</td>\n",
       "      <td>71</td>\n",
       "      <td>NaN</td>\n",
       "      <td>Москва</td>\n",
       "      <td>Виктор</td>\n",
       "      <td>Кузнецов</td>\n",
       "      <td>2018-06-22</td>\n",
       "      <td>ultra</td>\n",
       "      <td>12.0</td>\n",
       "      <td>0.00</td>\n",
       "      <td>0.0</td>\n",
       "      <td>0.0</td>\n",
       "      <td>1950.00</td>\n",
       "    </tr>\n",
       "    <tr>\n",
       "      <th>35</th>\n",
       "      <td>1060</td>\n",
       "      <td>2018-12</td>\n",
       "      <td>1163.11</td>\n",
       "      <td>184.0</td>\n",
       "      <td>43931.36</td>\n",
       "      <td>83.0</td>\n",
       "      <td>52.0</td>\n",
       "      <td>46</td>\n",
       "      <td>NaN</td>\n",
       "      <td>Калуга</td>\n",
       "      <td>Яков</td>\n",
       "      <td>Рудаков</td>\n",
       "      <td>2018-11-24</td>\n",
       "      <td>ultra</td>\n",
       "      <td>44.0</td>\n",
       "      <td>0.00</td>\n",
       "      <td>2100.0</td>\n",
       "      <td>0.0</td>\n",
       "      <td>4050.00</td>\n",
       "    </tr>\n",
       "    <tr>\n",
       "      <th>36</th>\n",
       "      <td>1060</td>\n",
       "      <td>2018-11</td>\n",
       "      <td>352.78</td>\n",
       "      <td>46.0</td>\n",
       "      <td>12706.94</td>\n",
       "      <td>22.0</td>\n",
       "      <td>12.0</td>\n",
       "      <td>46</td>\n",
       "      <td>NaN</td>\n",
       "      <td>Калуга</td>\n",
       "      <td>Яков</td>\n",
       "      <td>Рудаков</td>\n",
       "      <td>2018-11-24</td>\n",
       "      <td>ultra</td>\n",
       "      <td>13.0</td>\n",
       "      <td>0.00</td>\n",
       "      <td>0.0</td>\n",
       "      <td>0.0</td>\n",
       "      <td>1950.00</td>\n",
       "    </tr>\n",
       "    <tr>\n",
       "      <th>37</th>\n",
       "      <td>1289</td>\n",
       "      <td>2018-11</td>\n",
       "      <td>1187.19</td>\n",
       "      <td>182.0</td>\n",
       "      <td>13996.26</td>\n",
       "      <td>24.0</td>\n",
       "      <td>99.0</td>\n",
       "      <td>20</td>\n",
       "      <td>NaN</td>\n",
       "      <td>Москва</td>\n",
       "      <td>Таисия</td>\n",
       "      <td>Богданова</td>\n",
       "      <td>2018-09-01</td>\n",
       "      <td>ultra</td>\n",
       "      <td>14.0</td>\n",
       "      <td>0.00</td>\n",
       "      <td>0.0</td>\n",
       "      <td>0.0</td>\n",
       "      <td>1950.00</td>\n",
       "    </tr>\n",
       "    <tr>\n",
       "      <th>38</th>\n",
       "      <td>1289</td>\n",
       "      <td>2018-12</td>\n",
       "      <td>1116.59</td>\n",
       "      <td>171.0</td>\n",
       "      <td>16327.54</td>\n",
       "      <td>33.0</td>\n",
       "      <td>99.0</td>\n",
       "      <td>20</td>\n",
       "      <td>NaN</td>\n",
       "      <td>Москва</td>\n",
       "      <td>Таисия</td>\n",
       "      <td>Богданова</td>\n",
       "      <td>2018-09-01</td>\n",
       "      <td>ultra</td>\n",
       "      <td>17.0</td>\n",
       "      <td>0.00</td>\n",
       "      <td>0.0</td>\n",
       "      <td>0.0</td>\n",
       "      <td>1950.00</td>\n",
       "    </tr>\n",
       "    <tr>\n",
       "      <th>39</th>\n",
       "      <td>1289</td>\n",
       "      <td>2018-10</td>\n",
       "      <td>989.98</td>\n",
       "      <td>164.0</td>\n",
       "      <td>17787.50</td>\n",
       "      <td>34.0</td>\n",
       "      <td>71.0</td>\n",
       "      <td>20</td>\n",
       "      <td>NaN</td>\n",
       "      <td>Москва</td>\n",
       "      <td>Таисия</td>\n",
       "      <td>Богданова</td>\n",
       "      <td>2018-09-01</td>\n",
       "      <td>ultra</td>\n",
       "      <td>18.0</td>\n",
       "      <td>0.00</td>\n",
       "      <td>0.0</td>\n",
       "      <td>0.0</td>\n",
       "      <td>1950.00</td>\n",
       "    </tr>\n",
       "    <tr>\n",
       "      <th>40</th>\n",
       "      <td>1289</td>\n",
       "      <td>2018-09</td>\n",
       "      <td>1116.13</td>\n",
       "      <td>163.0</td>\n",
       "      <td>11325.95</td>\n",
       "      <td>25.0</td>\n",
       "      <td>75.0</td>\n",
       "      <td>20</td>\n",
       "      <td>NaN</td>\n",
       "      <td>Москва</td>\n",
       "      <td>Таисия</td>\n",
       "      <td>Богданова</td>\n",
       "      <td>2018-09-01</td>\n",
       "      <td>ultra</td>\n",
       "      <td>12.0</td>\n",
       "      <td>0.00</td>\n",
       "      <td>0.0</td>\n",
       "      <td>0.0</td>\n",
       "      <td>1950.00</td>\n",
       "    </tr>\n",
       "    <tr>\n",
       "      <th>41</th>\n",
       "      <td>1078</td>\n",
       "      <td>2018-12</td>\n",
       "      <td>1197.53</td>\n",
       "      <td>177.0</td>\n",
       "      <td>26231.18</td>\n",
       "      <td>50.0</td>\n",
       "      <td>0.0</td>\n",
       "      <td>70</td>\n",
       "      <td>NaN</td>\n",
       "      <td>Волгоград</td>\n",
       "      <td>Харитон</td>\n",
       "      <td>Литвинов</td>\n",
       "      <td>2018-06-19</td>\n",
       "      <td>ultra</td>\n",
       "      <td>27.0</td>\n",
       "      <td>0.00</td>\n",
       "      <td>0.0</td>\n",
       "      <td>0.0</td>\n",
       "      <td>1950.00</td>\n",
       "    </tr>\n",
       "    <tr>\n",
       "      <th>42</th>\n",
       "      <td>1078</td>\n",
       "      <td>2018-07</td>\n",
       "      <td>1014.69</td>\n",
       "      <td>167.0</td>\n",
       "      <td>22432.58</td>\n",
       "      <td>42.0</td>\n",
       "      <td>0.0</td>\n",
       "      <td>70</td>\n",
       "      <td>NaN</td>\n",
       "      <td>Волгоград</td>\n",
       "      <td>Харитон</td>\n",
       "      <td>Литвинов</td>\n",
       "      <td>2018-06-19</td>\n",
       "      <td>ultra</td>\n",
       "      <td>23.0</td>\n",
       "      <td>0.00</td>\n",
       "      <td>0.0</td>\n",
       "      <td>0.0</td>\n",
       "      <td>1950.00</td>\n",
       "    </tr>\n",
       "    <tr>\n",
       "      <th>43</th>\n",
       "      <td>1078</td>\n",
       "      <td>2018-09</td>\n",
       "      <td>1039.08</td>\n",
       "      <td>153.0</td>\n",
       "      <td>22770.04</td>\n",
       "      <td>46.0</td>\n",
       "      <td>0.0</td>\n",
       "      <td>70</td>\n",
       "      <td>NaN</td>\n",
       "      <td>Волгоград</td>\n",
       "      <td>Харитон</td>\n",
       "      <td>Литвинов</td>\n",
       "      <td>2018-06-19</td>\n",
       "      <td>ultra</td>\n",
       "      <td>23.0</td>\n",
       "      <td>0.00</td>\n",
       "      <td>0.0</td>\n",
       "      <td>0.0</td>\n",
       "      <td>1950.00</td>\n",
       "    </tr>\n",
       "    <tr>\n",
       "      <th>44</th>\n",
       "      <td>1078</td>\n",
       "      <td>2018-10</td>\n",
       "      <td>999.37</td>\n",
       "      <td>151.0</td>\n",
       "      <td>25994.12</td>\n",
       "      <td>50.0</td>\n",
       "      <td>0.0</td>\n",
       "      <td>70</td>\n",
       "      <td>NaN</td>\n",
       "      <td>Волгоград</td>\n",
       "      <td>Харитон</td>\n",
       "      <td>Литвинов</td>\n",
       "      <td>2018-06-19</td>\n",
       "      <td>ultra</td>\n",
       "      <td>26.0</td>\n",
       "      <td>0.00</td>\n",
       "      <td>0.0</td>\n",
       "      <td>0.0</td>\n",
       "      <td>1950.00</td>\n",
       "    </tr>\n",
       "    <tr>\n",
       "      <th>45</th>\n",
       "      <td>1078</td>\n",
       "      <td>2018-11</td>\n",
       "      <td>1048.21</td>\n",
       "      <td>141.0</td>\n",
       "      <td>24091.32</td>\n",
       "      <td>59.0</td>\n",
       "      <td>0.0</td>\n",
       "      <td>70</td>\n",
       "      <td>NaN</td>\n",
       "      <td>Волгоград</td>\n",
       "      <td>Харитон</td>\n",
       "      <td>Литвинов</td>\n",
       "      <td>2018-06-19</td>\n",
       "      <td>ultra</td>\n",
       "      <td>25.0</td>\n",
       "      <td>0.00</td>\n",
       "      <td>0.0</td>\n",
       "      <td>0.0</td>\n",
       "      <td>1950.00</td>\n",
       "    </tr>\n",
       "    <tr>\n",
       "      <th>46</th>\n",
       "      <td>1078</td>\n",
       "      <td>2018-08</td>\n",
       "      <td>907.23</td>\n",
       "      <td>129.0</td>\n",
       "      <td>22508.96</td>\n",
       "      <td>43.0</td>\n",
       "      <td>0.0</td>\n",
       "      <td>70</td>\n",
       "      <td>NaN</td>\n",
       "      <td>Волгоград</td>\n",
       "      <td>Харитон</td>\n",
       "      <td>Литвинов</td>\n",
       "      <td>2018-06-19</td>\n",
       "      <td>ultra</td>\n",
       "      <td>23.0</td>\n",
       "      <td>0.00</td>\n",
       "      <td>0.0</td>\n",
       "      <td>0.0</td>\n",
       "      <td>1950.00</td>\n",
       "    </tr>\n",
       "    <tr>\n",
       "      <th>47</th>\n",
       "      <td>1078</td>\n",
       "      <td>2018-06</td>\n",
       "      <td>421.89</td>\n",
       "      <td>55.0</td>\n",
       "      <td>12327.98</td>\n",
       "      <td>24.0</td>\n",
       "      <td>0.0</td>\n",
       "      <td>70</td>\n",
       "      <td>NaN</td>\n",
       "      <td>Волгоград</td>\n",
       "      <td>Харитон</td>\n",
       "      <td>Литвинов</td>\n",
       "      <td>2018-06-19</td>\n",
       "      <td>ultra</td>\n",
       "      <td>13.0</td>\n",
       "      <td>0.00</td>\n",
       "      <td>0.0</td>\n",
       "      <td>0.0</td>\n",
       "      <td>1950.00</td>\n",
       "    </tr>\n",
       "    <tr>\n",
       "      <th>48</th>\n",
       "      <td>1168</td>\n",
       "      <td>2018-10</td>\n",
       "      <td>1262.39</td>\n",
       "      <td>176.0</td>\n",
       "      <td>36497.07</td>\n",
       "      <td>70.0</td>\n",
       "      <td>38.0</td>\n",
       "      <td>28</td>\n",
       "      <td>NaN</td>\n",
       "      <td>Кострома</td>\n",
       "      <td>Лилия</td>\n",
       "      <td>Ананьева</td>\n",
       "      <td>2018-01-24</td>\n",
       "      <td>ultra</td>\n",
       "      <td>37.0</td>\n",
       "      <td>0.00</td>\n",
       "      <td>1050.0</td>\n",
       "      <td>0.0</td>\n",
       "      <td>3000.00</td>\n",
       "    </tr>\n",
       "    <tr>\n",
       "      <th>49</th>\n",
       "      <td>1168</td>\n",
       "      <td>2018-05</td>\n",
       "      <td>1158.93</td>\n",
       "      <td>168.0</td>\n",
       "      <td>26096.63</td>\n",
       "      <td>48.0</td>\n",
       "      <td>42.0</td>\n",
       "      <td>28</td>\n",
       "      <td>NaN</td>\n",
       "      <td>Кострома</td>\n",
       "      <td>Лилия</td>\n",
       "      <td>Ананьева</td>\n",
       "      <td>2018-01-24</td>\n",
       "      <td>ultra</td>\n",
       "      <td>27.0</td>\n",
       "      <td>0.00</td>\n",
       "      <td>0.0</td>\n",
       "      <td>0.0</td>\n",
       "      <td>1950.00</td>\n",
       "    </tr>\n",
       "    <tr>\n",
       "      <th>50</th>\n",
       "      <td>1168</td>\n",
       "      <td>2018-03</td>\n",
       "      <td>1018.79</td>\n",
       "      <td>160.0</td>\n",
       "      <td>33629.48</td>\n",
       "      <td>67.0</td>\n",
       "      <td>54.0</td>\n",
       "      <td>28</td>\n",
       "      <td>NaN</td>\n",
       "      <td>Кострома</td>\n",
       "      <td>Лилия</td>\n",
       "      <td>Ананьева</td>\n",
       "      <td>2018-01-24</td>\n",
       "      <td>ultra</td>\n",
       "      <td>34.0</td>\n",
       "      <td>0.00</td>\n",
       "      <td>600.0</td>\n",
       "      <td>0.0</td>\n",
       "      <td>2550.00</td>\n",
       "    </tr>\n",
       "    <tr>\n",
       "      <th>51</th>\n",
       "      <td>1168</td>\n",
       "      <td>2018-07</td>\n",
       "      <td>1046.86</td>\n",
       "      <td>158.0</td>\n",
       "      <td>30681.12</td>\n",
       "      <td>60.0</td>\n",
       "      <td>51.0</td>\n",
       "      <td>28</td>\n",
       "      <td>NaN</td>\n",
       "      <td>Кострома</td>\n",
       "      <td>Лилия</td>\n",
       "      <td>Ананьева</td>\n",
       "      <td>2018-01-24</td>\n",
       "      <td>ultra</td>\n",
       "      <td>31.0</td>\n",
       "      <td>0.00</td>\n",
       "      <td>150.0</td>\n",
       "      <td>0.0</td>\n",
       "      <td>2100.00</td>\n",
       "    </tr>\n",
       "    <tr>\n",
       "      <th>52</th>\n",
       "      <td>1168</td>\n",
       "      <td>2018-08</td>\n",
       "      <td>1053.64</td>\n",
       "      <td>154.0</td>\n",
       "      <td>29335.12</td>\n",
       "      <td>61.0</td>\n",
       "      <td>48.0</td>\n",
       "      <td>28</td>\n",
       "      <td>NaN</td>\n",
       "      <td>Кострома</td>\n",
       "      <td>Лилия</td>\n",
       "      <td>Ананьева</td>\n",
       "      <td>2018-01-24</td>\n",
       "      <td>ultra</td>\n",
       "      <td>30.0</td>\n",
       "      <td>0.00</td>\n",
       "      <td>0.0</td>\n",
       "      <td>0.0</td>\n",
       "      <td>1950.00</td>\n",
       "    </tr>\n",
       "    <tr>\n",
       "      <th>53</th>\n",
       "      <td>1168</td>\n",
       "      <td>2018-12</td>\n",
       "      <td>1131.53</td>\n",
       "      <td>153.0</td>\n",
       "      <td>29316.49</td>\n",
       "      <td>55.0</td>\n",
       "      <td>45.0</td>\n",
       "      <td>28</td>\n",
       "      <td>NaN</td>\n",
       "      <td>Кострома</td>\n",
       "      <td>Лилия</td>\n",
       "      <td>Ананьева</td>\n",
       "      <td>2018-01-24</td>\n",
       "      <td>ultra</td>\n",
       "      <td>30.0</td>\n",
       "      <td>0.00</td>\n",
       "      <td>0.0</td>\n",
       "      <td>0.0</td>\n",
       "      <td>1950.00</td>\n",
       "    </tr>\n",
       "    <tr>\n",
       "      <th>54</th>\n",
       "      <td>1168</td>\n",
       "      <td>2018-09</td>\n",
       "      <td>1093.64</td>\n",
       "      <td>148.0</td>\n",
       "      <td>25465.38</td>\n",
       "      <td>51.0</td>\n",
       "      <td>41.0</td>\n",
       "      <td>28</td>\n",
       "      <td>NaN</td>\n",
       "      <td>Кострома</td>\n",
       "      <td>Лилия</td>\n",
       "      <td>Ананьева</td>\n",
       "      <td>2018-01-24</td>\n",
       "      <td>ultra</td>\n",
       "      <td>26.0</td>\n",
       "      <td>0.00</td>\n",
       "      <td>0.0</td>\n",
       "      <td>0.0</td>\n",
       "      <td>1950.00</td>\n",
       "    </tr>\n",
       "    <tr>\n",
       "      <th>55</th>\n",
       "      <td>1168</td>\n",
       "      <td>2018-04</td>\n",
       "      <td>899.29</td>\n",
       "      <td>144.0</td>\n",
       "      <td>30250.65</td>\n",
       "      <td>55.0</td>\n",
       "      <td>42.0</td>\n",
       "      <td>28</td>\n",
       "      <td>NaN</td>\n",
       "      <td>Кострома</td>\n",
       "      <td>Лилия</td>\n",
       "      <td>Ананьева</td>\n",
       "      <td>2018-01-24</td>\n",
       "      <td>ultra</td>\n",
       "      <td>31.0</td>\n",
       "      <td>0.00</td>\n",
       "      <td>150.0</td>\n",
       "      <td>0.0</td>\n",
       "      <td>2100.00</td>\n",
       "    </tr>\n",
       "    <tr>\n",
       "      <th>56</th>\n",
       "      <td>1168</td>\n",
       "      <td>2018-11</td>\n",
       "      <td>1001.97</td>\n",
       "      <td>142.0</td>\n",
       "      <td>31898.64</td>\n",
       "      <td>62.0</td>\n",
       "      <td>42.0</td>\n",
       "      <td>28</td>\n",
       "      <td>NaN</td>\n",
       "      <td>Кострома</td>\n",
       "      <td>Лилия</td>\n",
       "      <td>Ананьева</td>\n",
       "      <td>2018-01-24</td>\n",
       "      <td>ultra</td>\n",
       "      <td>32.0</td>\n",
       "      <td>0.00</td>\n",
       "      <td>300.0</td>\n",
       "      <td>0.0</td>\n",
       "      <td>2250.00</td>\n",
       "    </tr>\n",
       "    <tr>\n",
       "      <th>57</th>\n",
       "      <td>1168</td>\n",
       "      <td>2018-06</td>\n",
       "      <td>858.56</td>\n",
       "      <td>128.0</td>\n",
       "      <td>32649.93</td>\n",
       "      <td>65.0</td>\n",
       "      <td>40.0</td>\n",
       "      <td>28</td>\n",
       "      <td>NaN</td>\n",
       "      <td>Кострома</td>\n",
       "      <td>Лилия</td>\n",
       "      <td>Ананьева</td>\n",
       "      <td>2018-01-24</td>\n",
       "      <td>ultra</td>\n",
       "      <td>33.0</td>\n",
       "      <td>0.00</td>\n",
       "      <td>450.0</td>\n",
       "      <td>0.0</td>\n",
       "      <td>2400.00</td>\n",
       "    </tr>\n",
       "    <tr>\n",
       "      <th>58</th>\n",
       "      <td>1168</td>\n",
       "      <td>2018-02</td>\n",
       "      <td>834.24</td>\n",
       "      <td>123.0</td>\n",
       "      <td>19055.83</td>\n",
       "      <td>39.0</td>\n",
       "      <td>47.0</td>\n",
       "      <td>28</td>\n",
       "      <td>NaN</td>\n",
       "      <td>Кострома</td>\n",
       "      <td>Лилия</td>\n",
       "      <td>Ананьева</td>\n",
       "      <td>2018-01-24</td>\n",
       "      <td>ultra</td>\n",
       "      <td>20.0</td>\n",
       "      <td>0.00</td>\n",
       "      <td>0.0</td>\n",
       "      <td>0.0</td>\n",
       "      <td>1950.00</td>\n",
       "    </tr>\n",
       "    <tr>\n",
       "      <th>59</th>\n",
       "      <td>1168</td>\n",
       "      <td>2018-01</td>\n",
       "      <td>264.41</td>\n",
       "      <td>38.0</td>\n",
       "      <td>8152.07</td>\n",
       "      <td>20.0</td>\n",
       "      <td>14.0</td>\n",
       "      <td>28</td>\n",
       "      <td>NaN</td>\n",
       "      <td>Кострома</td>\n",
       "      <td>Лилия</td>\n",
       "      <td>Ананьева</td>\n",
       "      <td>2018-01-24</td>\n",
       "      <td>ultra</td>\n",
       "      <td>9.0</td>\n",
       "      <td>0.00</td>\n",
       "      <td>0.0</td>\n",
       "      <td>0.0</td>\n",
       "      <td>1950.00</td>\n",
       "    </tr>\n",
       "  </tbody>\n",
       "</table>\n",
       "</div>"
      ],
      "text/plain": [
       "    user_id    month  duration_calls  count_calls   mb_used  count_sessions  \\\n",
       "0      1467  2018-12         1578.06        244.0   9756.90            22.0   \n",
       "1      1467  2018-11          300.15         52.0   2450.04             5.0   \n",
       "2      1377  2018-03         1528.45        203.0   3059.85             7.0   \n",
       "3      1377  2018-12         1179.83        185.0   1444.81             6.0   \n",
       "4      1377  2018-07         1237.87        185.0   4205.46             9.0   \n",
       "5      1377  2018-10         1324.75        178.0   4880.62            11.0   \n",
       "6      1377  2018-06         1222.79        176.0   4717.58            10.0   \n",
       "7      1377  2018-09         1223.32        173.0   4134.29             8.0   \n",
       "8      1377  2018-11         1097.94        164.0   5998.50            10.0   \n",
       "9      1377  2018-08         1200.67        161.0   5749.01            10.0   \n",
       "10     1377  2018-05         1037.79        160.0   6608.89            13.0   \n",
       "11     1377  2018-04         1036.24        152.0   1151.05             7.0   \n",
       "12     1377  2018-02          168.55         23.0      0.00             0.0   \n",
       "13     1216  2018-12         1354.22        198.0  20066.05            70.0   \n",
       "14     1216  2018-11          330.16         44.0   5051.80            19.0   \n",
       "15     1222  2018-10         1240.75        196.0  26927.85            51.0   \n",
       "16     1222  2018-12         1187.70        184.0  24756.38            43.0   \n",
       "17     1222  2018-09         1187.98        180.0  19423.76            41.0   \n",
       "18     1222  2018-11          964.53        156.0  21535.15            39.0   \n",
       "19     1222  2018-08           25.56          9.0   2289.70             5.0   \n",
       "20     1196  2018-12         1143.18        189.0  25142.91            49.0   \n",
       "21     1196  2018-07         1208.04        183.0  29186.39            53.0   \n",
       "22     1196  2018-08         1137.80        181.0  21346.55            44.0   \n",
       "23     1196  2018-06         1337.83        176.0  22652.05            45.0   \n",
       "24     1196  2018-09         1068.73        174.0  28599.68            55.0   \n",
       "25     1196  2018-11         1144.00        159.0  33258.58            56.0   \n",
       "26     1196  2018-10         1009.13        156.0  26649.16            50.0   \n",
       "27     1196  2018-05          155.37         22.0   3805.39            11.0   \n",
       "28     1341  2018-08         1248.22        188.0  28289.55            62.0   \n",
       "29     1341  2018-09         1131.79        176.0  32441.12            66.0   \n",
       "30     1341  2018-10         1164.57        176.0  33903.26            60.0   \n",
       "31     1341  2018-07         1080.51        169.0  27728.77            56.0   \n",
       "32     1341  2018-12         1162.74        164.0  27231.13            54.0   \n",
       "33     1341  2018-11         1142.60        159.0  31194.30            57.0   \n",
       "34     1341  2018-06          413.02         60.0  11407.52            23.0   \n",
       "35     1060  2018-12         1163.11        184.0  43931.36            83.0   \n",
       "36     1060  2018-11          352.78         46.0  12706.94            22.0   \n",
       "37     1289  2018-11         1187.19        182.0  13996.26            24.0   \n",
       "38     1289  2018-12         1116.59        171.0  16327.54            33.0   \n",
       "39     1289  2018-10          989.98        164.0  17787.50            34.0   \n",
       "40     1289  2018-09         1116.13        163.0  11325.95            25.0   \n",
       "41     1078  2018-12         1197.53        177.0  26231.18            50.0   \n",
       "42     1078  2018-07         1014.69        167.0  22432.58            42.0   \n",
       "43     1078  2018-09         1039.08        153.0  22770.04            46.0   \n",
       "44     1078  2018-10          999.37        151.0  25994.12            50.0   \n",
       "45     1078  2018-11         1048.21        141.0  24091.32            59.0   \n",
       "46     1078  2018-08          907.23        129.0  22508.96            43.0   \n",
       "47     1078  2018-06          421.89         55.0  12327.98            24.0   \n",
       "48     1168  2018-10         1262.39        176.0  36497.07            70.0   \n",
       "49     1168  2018-05         1158.93        168.0  26096.63            48.0   \n",
       "50     1168  2018-03         1018.79        160.0  33629.48            67.0   \n",
       "51     1168  2018-07         1046.86        158.0  30681.12            60.0   \n",
       "52     1168  2018-08         1053.64        154.0  29335.12            61.0   \n",
       "53     1168  2018-12         1131.53        153.0  29316.49            55.0   \n",
       "54     1168  2018-09         1093.64        148.0  25465.38            51.0   \n",
       "55     1168  2018-04          899.29        144.0  30250.65            55.0   \n",
       "56     1168  2018-11         1001.97        142.0  31898.64            62.0   \n",
       "57     1168  2018-06          858.56        128.0  32649.93            65.0   \n",
       "58     1168  2018-02          834.24        123.0  19055.83            39.0   \n",
       "59     1168  2018-01          264.41         38.0   8152.07            20.0   \n",
       "\n",
       "    count_messages  age churn_date       city first_name    last_name  \\\n",
       "0             39.0   66        NaN      Киров       Исак  Александрюк   \n",
       "1             15.0   66        NaN      Киров       Исак  Александрюк   \n",
       "2             20.0   59        NaN     Брянск    Альфред        Семин   \n",
       "3             17.0   59        NaN     Брянск    Альфред        Семин   \n",
       "4             13.0   59        NaN     Брянск    Альфред        Семин   \n",
       "5             10.0   59        NaN     Брянск    Альфред        Семин   \n",
       "6             15.0   59        NaN     Брянск    Альфред        Семин   \n",
       "7             17.0   59        NaN     Брянск    Альфред        Семин   \n",
       "8             16.0   59        NaN     Брянск    Альфред        Семин   \n",
       "9             11.0   59        NaN     Брянск    Альфред        Семин   \n",
       "10            16.0   59        NaN     Брянск    Альфред        Семин   \n",
       "11            17.0   59        NaN     Брянск    Альфред        Семин   \n",
       "12             2.0   59        NaN     Брянск    Альфред        Семин   \n",
       "13            64.0   74        NaN  Волгоград     Рустам      Малинин   \n",
       "14            18.0   74        NaN  Волгоград     Рустам      Малинин   \n",
       "15           133.0   44        NaN        Уфа       Пётр     Булгаков   \n",
       "16           135.0   44        NaN        Уфа       Пётр     Булгаков   \n",
       "17           109.0   44        NaN        Уфа       Пётр     Булгаков   \n",
       "18           114.0   44        NaN        Уфа       Пётр     Булгаков   \n",
       "19             4.0   44        NaN        Уфа       Пётр     Булгаков   \n",
       "20           172.0   25        NaN    Воронеж      Фёдор     Чернышев   \n",
       "21           150.0   25        NaN    Воронеж      Фёдор     Чернышев   \n",
       "22           169.0   25        NaN    Воронеж      Фёдор     Чернышев   \n",
       "23           153.0   25        NaN    Воронеж      Фёдор     Чернышев   \n",
       "24           154.0   25        NaN    Воронеж      Фёдор     Чернышев   \n",
       "25           149.0   25        NaN    Воронеж      Фёдор     Чернышев   \n",
       "26           149.0   25        NaN    Воронеж      Фёдор     Чернышев   \n",
       "27            24.0   25        NaN    Воронеж      Фёдор     Чернышев   \n",
       "28            74.0   71        NaN     Москва     Виктор     Кузнецов   \n",
       "29            48.0   71        NaN     Москва     Виктор     Кузнецов   \n",
       "30            74.0   71        NaN     Москва     Виктор     Кузнецов   \n",
       "31            53.0   71        NaN     Москва     Виктор     Кузнецов   \n",
       "32            58.0   71        NaN     Москва     Виктор     Кузнецов   \n",
       "33            71.0   71        NaN     Москва     Виктор     Кузнецов   \n",
       "34            21.0   71        NaN     Москва     Виктор     Кузнецов   \n",
       "35            52.0   46        NaN     Калуга       Яков      Рудаков   \n",
       "36            12.0   46        NaN     Калуга       Яков      Рудаков   \n",
       "37            99.0   20        NaN     Москва     Таисия    Богданова   \n",
       "38            99.0   20        NaN     Москва     Таисия    Богданова   \n",
       "39            71.0   20        NaN     Москва     Таисия    Богданова   \n",
       "40            75.0   20        NaN     Москва     Таисия    Богданова   \n",
       "41             0.0   70        NaN  Волгоград    Харитон     Литвинов   \n",
       "42             0.0   70        NaN  Волгоград    Харитон     Литвинов   \n",
       "43             0.0   70        NaN  Волгоград    Харитон     Литвинов   \n",
       "44             0.0   70        NaN  Волгоград    Харитон     Литвинов   \n",
       "45             0.0   70        NaN  Волгоград    Харитон     Литвинов   \n",
       "46             0.0   70        NaN  Волгоград    Харитон     Литвинов   \n",
       "47             0.0   70        NaN  Волгоград    Харитон     Литвинов   \n",
       "48            38.0   28        NaN   Кострома      Лилия     Ананьева   \n",
       "49            42.0   28        NaN   Кострома      Лилия     Ананьева   \n",
       "50            54.0   28        NaN   Кострома      Лилия     Ананьева   \n",
       "51            51.0   28        NaN   Кострома      Лилия     Ананьева   \n",
       "52            48.0   28        NaN   Кострома      Лилия     Ананьева   \n",
       "53            45.0   28        NaN   Кострома      Лилия     Ананьева   \n",
       "54            41.0   28        NaN   Кострома      Лилия     Ананьева   \n",
       "55            42.0   28        NaN   Кострома      Лилия     Ананьева   \n",
       "56            42.0   28        NaN   Кострома      Лилия     Ананьева   \n",
       "57            40.0   28        NaN   Кострома      Лилия     Ананьева   \n",
       "58            47.0   28        NaN   Кострома      Лилия     Ананьева   \n",
       "59            14.0   28        NaN   Кострома      Лилия     Ананьева   \n",
       "\n",
       "      reg_date tariff  gb_used  receipt_from_calls  receipt_from_internet  \\\n",
       "0   2018-11-24  ultra     10.0                0.00                    0.0   \n",
       "1   2018-11-24  ultra      3.0                0.00                    0.0   \n",
       "2   2018-02-25  ultra      4.0                0.00                    0.0   \n",
       "3   2018-02-25  ultra      2.0                0.00                    0.0   \n",
       "4   2018-02-25  ultra      5.0                0.00                    0.0   \n",
       "5   2018-02-25  ultra      5.0                0.00                    0.0   \n",
       "6   2018-02-25  ultra      5.0                0.00                    0.0   \n",
       "7   2018-02-25  ultra      5.0                0.00                    0.0   \n",
       "8   2018-02-25  ultra      6.0                0.00                    0.0   \n",
       "9   2018-02-25  ultra      6.0                0.00                    0.0   \n",
       "10  2018-02-25  ultra      7.0                0.00                    0.0   \n",
       "11  2018-02-25  ultra      2.0                0.00                    0.0   \n",
       "12  2018-02-25  ultra      0.0                0.00                    0.0   \n",
       "13  2018-11-23  smart     21.0             2562.66                 1200.0   \n",
       "14  2018-11-23  smart      6.0                0.00                    0.0   \n",
       "15  2018-08-30  ultra     27.0                0.00                    0.0   \n",
       "16  2018-08-30  ultra     25.0                0.00                    0.0   \n",
       "17  2018-08-30  ultra     20.0                0.00                    0.0   \n",
       "18  2018-08-30  ultra     22.0                0.00                    0.0   \n",
       "19  2018-08-30  ultra      3.0                0.00                    0.0   \n",
       "20  2018-05-28  ultra     26.0                0.00                    0.0   \n",
       "21  2018-05-28  ultra     30.0                0.00                    0.0   \n",
       "22  2018-05-28  ultra     22.0                0.00                    0.0   \n",
       "23  2018-05-28  ultra     23.0                0.00                    0.0   \n",
       "24  2018-05-28  ultra     29.0                0.00                    0.0   \n",
       "25  2018-05-28  ultra     34.0                0.00                  600.0   \n",
       "26  2018-05-28  ultra     27.0                0.00                    0.0   \n",
       "27  2018-05-28  ultra      4.0                0.00                    0.0   \n",
       "28  2018-06-22  ultra     29.0                0.00                    0.0   \n",
       "29  2018-06-22  ultra     33.0                0.00                  450.0   \n",
       "30  2018-06-22  ultra     34.0                0.00                  600.0   \n",
       "31  2018-06-22  ultra     28.0                0.00                    0.0   \n",
       "32  2018-06-22  ultra     28.0                0.00                    0.0   \n",
       "33  2018-06-22  ultra     32.0                0.00                  300.0   \n",
       "34  2018-06-22  ultra     12.0                0.00                    0.0   \n",
       "35  2018-11-24  ultra     44.0                0.00                 2100.0   \n",
       "36  2018-11-24  ultra     13.0                0.00                    0.0   \n",
       "37  2018-09-01  ultra     14.0                0.00                    0.0   \n",
       "38  2018-09-01  ultra     17.0                0.00                    0.0   \n",
       "39  2018-09-01  ultra     18.0                0.00                    0.0   \n",
       "40  2018-09-01  ultra     12.0                0.00                    0.0   \n",
       "41  2018-06-19  ultra     27.0                0.00                    0.0   \n",
       "42  2018-06-19  ultra     23.0                0.00                    0.0   \n",
       "43  2018-06-19  ultra     23.0                0.00                    0.0   \n",
       "44  2018-06-19  ultra     26.0                0.00                    0.0   \n",
       "45  2018-06-19  ultra     25.0                0.00                    0.0   \n",
       "46  2018-06-19  ultra     23.0                0.00                    0.0   \n",
       "47  2018-06-19  ultra     13.0                0.00                    0.0   \n",
       "48  2018-01-24  ultra     37.0                0.00                 1050.0   \n",
       "49  2018-01-24  ultra     27.0                0.00                    0.0   \n",
       "50  2018-01-24  ultra     34.0                0.00                  600.0   \n",
       "51  2018-01-24  ultra     31.0                0.00                  150.0   \n",
       "52  2018-01-24  ultra     30.0                0.00                    0.0   \n",
       "53  2018-01-24  ultra     30.0                0.00                    0.0   \n",
       "54  2018-01-24  ultra     26.0                0.00                    0.0   \n",
       "55  2018-01-24  ultra     31.0                0.00                  150.0   \n",
       "56  2018-01-24  ultra     32.0                0.00                  300.0   \n",
       "57  2018-01-24  ultra     33.0                0.00                  450.0   \n",
       "58  2018-01-24  ultra     20.0                0.00                    0.0   \n",
       "59  2018-01-24  ultra      9.0                0.00                    0.0   \n",
       "\n",
       "    receipt_from_messages  receipt  \n",
       "0                     0.0  1950.00  \n",
       "1                     0.0  1950.00  \n",
       "2                     0.0  1950.00  \n",
       "3                     0.0  1950.00  \n",
       "4                     0.0  1950.00  \n",
       "5                     0.0  1950.00  \n",
       "6                     0.0  1950.00  \n",
       "7                     0.0  1950.00  \n",
       "8                     0.0  1950.00  \n",
       "9                     0.0  1950.00  \n",
       "10                    0.0  1950.00  \n",
       "11                    0.0  1950.00  \n",
       "12                    0.0  1950.00  \n",
       "13                   42.0  4354.66  \n",
       "14                    0.0   550.00  \n",
       "15                    0.0  1950.00  \n",
       "16                    0.0  1950.00  \n",
       "17                    0.0  1950.00  \n",
       "18                    0.0  1950.00  \n",
       "19                    0.0  1950.00  \n",
       "20                    0.0  1950.00  \n",
       "21                    0.0  1950.00  \n",
       "22                    0.0  1950.00  \n",
       "23                    0.0  1950.00  \n",
       "24                    0.0  1950.00  \n",
       "25                    0.0  2550.00  \n",
       "26                    0.0  1950.00  \n",
       "27                    0.0  1950.00  \n",
       "28                    0.0  1950.00  \n",
       "29                    0.0  2400.00  \n",
       "30                    0.0  2550.00  \n",
       "31                    0.0  1950.00  \n",
       "32                    0.0  1950.00  \n",
       "33                    0.0  2250.00  \n",
       "34                    0.0  1950.00  \n",
       "35                    0.0  4050.00  \n",
       "36                    0.0  1950.00  \n",
       "37                    0.0  1950.00  \n",
       "38                    0.0  1950.00  \n",
       "39                    0.0  1950.00  \n",
       "40                    0.0  1950.00  \n",
       "41                    0.0  1950.00  \n",
       "42                    0.0  1950.00  \n",
       "43                    0.0  1950.00  \n",
       "44                    0.0  1950.00  \n",
       "45                    0.0  1950.00  \n",
       "46                    0.0  1950.00  \n",
       "47                    0.0  1950.00  \n",
       "48                    0.0  3000.00  \n",
       "49                    0.0  1950.00  \n",
       "50                    0.0  2550.00  \n",
       "51                    0.0  2100.00  \n",
       "52                    0.0  1950.00  \n",
       "53                    0.0  1950.00  \n",
       "54                    0.0  1950.00  \n",
       "55                    0.0  2100.00  \n",
       "56                    0.0  2250.00  \n",
       "57                    0.0  2400.00  \n",
       "58                    0.0  1950.00  \n",
       "59                    0.0  1950.00  "
      ]
     },
     "execution_count": 85,
     "metadata": {},
     "output_type": "execute_result"
    }
   ],
   "source": [
    "data.loc[data['tariff'] == 'ultra', 'receipt_from_calls'] = data['duration_calls'] - 3000\n",
    "data.loc[data['tariff'] == 'ultra', 'receipt_from_internet'] = (data['gb_used'] - 30) * 150\n",
    "data.loc[data['tariff'] == 'ultra', 'receipt_from_messages'] = data['count_messages'] - 1000\n",
    "\n",
    "data.loc[data['tariff'] == 'smart', 'receipt_from_calls'] = (data['duration_calls'] - 500) * 3\n",
    "data.loc[data['tariff'] == 'smart', 'receipt_from_internet'] = (data['gb_used'] - 15) * 200\n",
    "data.loc[data['tariff'] == 'smart', 'receipt_from_messages'] = (data['count_messages'] - 50) * 3\n",
    "\n",
    "data.loc[data['receipt_from_calls'] < 0, 'receipt_from_calls'] = 0\n",
    "data.loc[data['receipt_from_internet'] < 0, 'receipt_from_internet'] = 0\n",
    "data.loc[data['receipt_from_messages'] < 0, 'receipt_from_messages'] = 0\n",
    "\n",
    "data.loc[data['tariff'] == 'ultra', 'receipt'] = 1950 + data['receipt_from_calls'] + data['receipt_from_internet'] + data['receipt_from_messages']\n",
    "data.loc[data['tariff'] == 'smart', 'receipt'] = 550 + data['receipt_from_calls'] + data['receipt_from_internet'] + data['receipt_from_messages']\n",
    "data.head(60)"
   ]
  },
  {
   "cell_type": "markdown",
   "metadata": {},
   "source": [
    "Посмотрим как отличается средняя выручка от пользователей двух рассматриваемых тарифов, а также средние значения по продолжительности звонков, использоваемого трафика и отправленных сообщений:"
   ]
  },
  {
   "cell_type": "code",
   "execution_count": 86,
   "metadata": {},
   "outputs": [
    {
     "data": {
      "text/plain": [
       "count    3214.000000\n",
       "mean     1551.029564\n",
       "std       816.670098\n",
       "min       550.000000\n",
       "25%       750.000000\n",
       "50%      1746.980000\n",
       "75%      1950.000000\n",
       "max      6813.100000\n",
       "Name: receipt, dtype: float64"
      ]
     },
     "execution_count": 86,
     "metadata": {},
     "output_type": "execute_result"
    }
   ],
   "source": [
    "data['receipt'].describe()"
   ]
  },
  {
   "cell_type": "code",
   "execution_count": 87,
   "metadata": {},
   "outputs": [
    {
     "data": {
      "text/html": [
       "<div>\n",
       "<style scoped>\n",
       "    .dataframe tbody tr th:only-of-type {\n",
       "        vertical-align: middle;\n",
       "    }\n",
       "\n",
       "    .dataframe tbody tr th {\n",
       "        vertical-align: top;\n",
       "    }\n",
       "\n",
       "    .dataframe thead th {\n",
       "        text-align: right;\n",
       "    }\n",
       "</style>\n",
       "<table border=\"1\" class=\"dataframe\">\n",
       "  <thead>\n",
       "    <tr style=\"text-align: right;\">\n",
       "      <th></th>\n",
       "      <th>count_messages</th>\n",
       "      <th>duration_calls</th>\n",
       "      <th>gb_used</th>\n",
       "      <th>receipt</th>\n",
       "    </tr>\n",
       "    <tr>\n",
       "      <th>tariff</th>\n",
       "      <th></th>\n",
       "      <th></th>\n",
       "      <th></th>\n",
       "      <th></th>\n",
       "    </tr>\n",
       "  </thead>\n",
       "  <tbody>\n",
       "    <tr>\n",
       "      <th>smart</th>\n",
       "      <td>33.384029</td>\n",
       "      <td>394.427026</td>\n",
       "      <td>16.695828</td>\n",
       "      <td>1313.148955</td>\n",
       "    </tr>\n",
       "    <tr>\n",
       "      <th>ultra</th>\n",
       "      <td>49.363452</td>\n",
       "      <td>497.068223</td>\n",
       "      <td>19.965482</td>\n",
       "      <td>2089.340102</td>\n",
       "    </tr>\n",
       "  </tbody>\n",
       "</table>\n",
       "</div>"
      ],
      "text/plain": [
       "        count_messages  duration_calls    gb_used      receipt\n",
       "tariff                                                        \n",
       "smart        33.384029      394.427026  16.695828  1313.148955\n",
       "ultra        49.363452      497.068223  19.965482  2089.340102"
      ]
     },
     "execution_count": 87,
     "metadata": {},
     "output_type": "execute_result"
    }
   ],
   "source": [
    "pivot = data.pivot_table(index = 'tariff', values =['receipt', 'duration_calls', 'gb_used', 'count_messages'] )\n",
    "pivot"
   ]
  },
  {
   "cell_type": "markdown",
   "metadata": {},
   "source": [
    "Из получившейся сводной таблицы видим:\n",
    "- количство отправленных сообщений у пользователей тарифа \"Ультра\" не значительно превышает количство сообщений пользователей тарифа \"Смарт\". В том и другом тарифе пользователи практически никогда не отправлют большее число сообщений чем предусмотрено в тарифе;\n",
    "- продолжительность звонков также редко превышает допустимую тарифом норму;\n",
    "- по использованию трафика видно, что в среднем пользователям тарифа \"Смарт\" недостаточно выделенных их тарифом 15 Гб;\n",
    "- средняя выручка с пользователей тарифа \"Ультра\" значительно выше, чем у \"Смарт\", что очевидно, так как за тариф \"Ультра\" более высокая абонентская плата по сравнению с тарифом \"Смарт\".\n",
    " "
   ]
  },
  {
   "cell_type": "markdown",
   "metadata": {},
   "source": [
    "## Описание распределений "
   ]
  },
  {
   "cell_type": "markdown",
   "metadata": {},
   "source": [
    "Построим гистограммы использования услуг оператора для абонентов каждого из тарифа:"
   ]
  },
  {
   "cell_type": "code",
   "execution_count": 88,
   "metadata": {},
   "outputs": [],
   "source": [
    "def get_hist(tariff_name_1, tariff_name_2, service, title_1, title_2, x_label):\n",
    "    \"\"\" Эта функция для созданя гистограмм, а также рассчета дисперсии и стандартного отклонения \n",
    "    \n",
    "    На вход она принимает: название рассматриваемых тарифов, показатель по которому строим распределение,\n",
    "    названия заголовков и подпись по оси Х\n",
    "    \"\"\"\n",
    "    fig, (ax1, ax2) = plt.subplots(1, 2, figsize=(15, 5))\n",
    "\n",
    "    ax1.hist(data.loc[data['tariff'] == tariff_name_1, service], bins=20)\n",
    "    ax1.set_title(title_1)\n",
    "    ax1.set_xlabel(x_label)\n",
    "\n",
    "    ax2.hist(data.loc[data['tariff'] == tariff_name_2, service], bins=20)\n",
    "    ax2.set_title(title_2)\n",
    "    ax2.set_xlabel(x_label)\n",
    "    \n",
    "    plt.show()\n",
    "    \n",
    "    print()\n",
    "    print()\n",
    "    var_calls = np.var(data[service]) #считаем дисперсию данных продолжительности звонков\n",
    "    print('Дисперсия равна', var_calls)\n",
    "    print('Стандартное отклонение:', np.sqrt(var_calls))\n",
    "    pass"
   ]
  },
  {
   "cell_type": "code",
   "execution_count": 89,
   "metadata": {},
   "outputs": [
    {
     "data": {
      "image/png": "[encoded data removed]",
      "text/plain": [
       "<Figure size 1080x360 with 2 Axes>"
      ]
     },
     "metadata": {
      "needs_background": "light"
     },
     "output_type": "display_data"
    },
    {
     "name": "stdout",
     "output_type": "stream",
     "text": [
      "\n",
      "\n",
      "Дисперсия равна 52226.8773420229\n",
      "Стандартное отклонение: 228.53200507154986\n"
     ]
    }
   ],
   "source": [
    "# с помощью фукции строим гистограммы распределения продолжительности звонков на каждом из тарифов\n",
    "# выводим информацию о дисперсии и стандартном отклонении продолжительности звонков\n",
    "\n",
    "get_hist('ultra', 'smart', 'duration_calls'\n",
    "         , 'Продолжительность звонков абонентов тарифа \"Ультра\"'\n",
    "         , 'Продолжительность звонков абонентов тарифа \"Смарт\"'\n",
    "         , 'Количество минут')"
   ]
  },
  {
   "cell_type": "markdown",
   "metadata": {},
   "source": [
    "**Вывод:** в основном, пользователи тарифа \"Ультра\" тратят от 200 до 800 минут в месяц, тогда как у большинства пользователей тарифа \"Смарт\"  количество потраченных минут -  от 300 до 550."
   ]
  },
  {
   "cell_type": "code",
   "execution_count": 90,
   "metadata": {},
   "outputs": [
    {
     "data": {
      "image/png": "[encoded data removed]",
      "text/plain": [
       "<Figure size 1080x360 with 2 Axes>"
      ]
     },
     "metadata": {
      "needs_background": "light"
     },
     "output_type": "display_data"
    },
    {
     "name": "stdout",
     "output_type": "stream",
     "text": [
      "\n",
      "\n",
      "Дисперсия равна 57.456019170175196\n",
      "Стандартное отклонение: 7.579974879257529\n"
     ]
    }
   ],
   "source": [
    "# строим гистограммы распределения использования трафика на каждом из тарифов\n",
    "# выводим информацию о дисперсии и стандартном отклонении количества используемого трафика\n",
    "\n",
    "get_hist('ultra', 'smart', 'gb_used'\n",
    "         , 'Использование трафика в тарифе \"Ультра\"'\n",
    "         , 'Использование трафика в тарифе \"Смарт\"'\n",
    "         , 'Количество гигабайт')"
   ]
  },
  {
   "cell_type": "markdown",
   "metadata": {},
   "source": [
    "**Вывод:** абоненты и того и другого тарифа используют примерно одинаковое количество трафика - от 10 до 30 гигабайт в месяц."
   ]
  },
  {
   "cell_type": "code",
   "execution_count": 91,
   "metadata": {},
   "outputs": [
    {
     "data": {
      "image/png": "[encoded data removed]",
      "text/plain": [
       "<Figure size 1080x360 with 2 Axes>"
      ]
     },
     "metadata": {
      "needs_background": "light"
     },
     "output_type": "display_data"
    },
    {
     "name": "stdout",
     "output_type": "stream",
     "text": [
      "\n",
      "\n",
      "Дисперсия равна 1306.294876297659\n",
      "Стандартное отклонение: 36.142701563353825\n"
     ]
    }
   ],
   "source": [
    "# строим гистограммы распределения кол-ва отправленный сообщений на каждом из тарифов\n",
    "# выводим информацию о дисперсии и стандартном отклонении количества отправляемых сообщений\n",
    "\n",
    "get_hist('ultra', 'smart', 'count_messages'\n",
    "         , 'Кол-во отправленных сообщений в тарифе \"Ультра\"'\n",
    "         , 'Кол-во отправленных сообщений в тарифе \"Смарт\"'\n",
    "         , 'Количество сообщений')"
   ]
  },
  {
   "cell_type": "markdown",
   "metadata": {},
   "source": [
    "**Вывод:** в каждом из рассматриваемых тарифов пользователи отправлят значительно меньше сообщений чем заложено в объем предоставляемого тарифа."
   ]
  },
  {
   "cell_type": "code",
   "execution_count": 92,
   "metadata": {},
   "outputs": [
    {
     "data": {
      "image/png": "[encoded data removed]",
      "text/plain": [
       "<Figure size 1080x360 with 2 Axes>"
      ]
     },
     "metadata": {
      "needs_background": "light"
     },
     "output_type": "display_data"
    },
    {
     "name": "stdout",
     "output_type": "stream",
     "text": [
      "\n",
      "\n",
      "Дисперсия равна 666742.5353638417\n",
      "Стандартное отклонение: 816.5430395048638\n"
     ]
    }
   ],
   "source": [
    "# строим гистограммы распределения прибыли с абонентов каждого из тарифа\n",
    "# выводим информацию о дисперсии и стандартном отклонении прибыли\n",
    "\n",
    "get_hist('ultra', 'smart', 'receipt'\n",
    "         , 'Прибыль с абонентов тарифа \"Ультра\"'\n",
    "         , 'Прибыль с абонентов тарифа \"Смарт\"'\n",
    "         , 'Рубли')"
   ]
  },
  {
   "cell_type": "markdown",
   "metadata": {},
   "source": [
    "**Вывод:** из полученных гистограмм видим, что пользователям тарифа \"Ультра\", как правило, хватает предостваляемых в месяц услуг в рамках тарифа, так как плата большинства абонентов не превышает ежемесячной стоимости тарифа в размере 1950 рублей. Однако же, в менее дорогом тарифе \"Смарт\" пользователи покупают дополнительные услуги сверх тарифа значительно чаще. "
   ]
  },
  {
   "cell_type": "markdown",
   "metadata": {},
   "source": [
    "## Проверка гипотез"
   ]
  },
  {
   "cell_type": "markdown",
   "metadata": {},
   "source": [
    "**Н0_1(Нулевая гипотеза):** Средняя выручка пользователей тарифа \"Ультра\" и \"Смарт\" равна\n",
    "\n",
    "**Н1_1(альтернативная гипотеза):** Средняя выручка пользователей тарифов «Ультра» и «Смарт» различаются."
   ]
  },
  {
   "cell_type": "code",
   "execution_count": 93,
   "metadata": {},
   "outputs": [
    {
     "name": "stdout",
     "output_type": "stream",
     "text": [
      "p-значение: 1.2539030303847291e-228\n",
      "Отвергаем нулевую гипотезу\n"
     ]
    }
   ],
   "source": [
    "from scipy import stats as st\n",
    "sample1 = data.loc[data['tariff'] == 'ultra', 'receipt']\n",
    "sample2 = data.loc[data['tariff'] == 'smart', 'receipt']\n",
    "alpha = 0.05 # критический уровень статистической значимости\n",
    "\n",
    "results = st.ttest_ind(sample1, sample2, equal_var = False)\n",
    "\n",
    "print('p-значение:', results.pvalue)\n",
    "\n",
    "if results.pvalue > alpha:\n",
    "    print(\"Не получилось отвергнуть нулевую гипотезу\")\n",
    "else:\n",
    "    print(\"Отвергаем нулевую гипотезу\") "
   ]
  },
  {
   "cell_type": "markdown",
   "metadata": {},
   "source": [
    "**Вывод:** Отвергаем нулевую гипотезу и принимаем альтернативную.\n",
    "\n",
    "Статистическая проверка показала, что средняя выручка с пользователей двух рассматриваемых тарифов - различается. "
   ]
  },
  {
   "cell_type": "markdown",
   "metadata": {},
   "source": [
    "**Н0_2(Нулевая гипотеза):** Средняя выручка пользователей из Москвы и пользователей из других регионов - равна.\n",
    "\n",
    "**Н1_2(альтернативная гипотеза):** Средняя выручка пользователей из Москвы отличается от выручки пользователей из других регионов."
   ]
  },
  {
   "cell_type": "code",
   "execution_count": 94,
   "metadata": {},
   "outputs": [
    {
     "name": "stdout",
     "output_type": "stream",
     "text": [
      "p-значение: 0.5212625555900344\n",
      "Не получилось отвергнуть нулевую гипотезу\n"
     ]
    }
   ],
   "source": [
    "sample3 = data.loc[data['city'] == 'Москва', 'receipt']\n",
    "sample4 = data.loc[data['city'] != 'Москва', 'receipt']\n",
    "alpha = 0.05 # критический уровень статистической значимости\n",
    "\n",
    "results = st.ttest_ind(sample3, sample4, equal_var = False)\n",
    "\n",
    "print('p-значение:', results.pvalue)\n",
    "\n",
    "if results.pvalue > alpha:\n",
    "    print(\"Не получилось отвергнуть нулевую гипотезу\")\n",
    "else:\n",
    "    print(\"Отвергаем нулевую гипотезу\") "
   ]
  },
  {
   "cell_type": "markdown",
   "metadata": {},
   "source": [
    "**Вывод:** Принимаем нулевую гипотезу.\n",
    "\n",
    "Статистическая проверка показала, что средняя выручка абонентов из Москвы не отличается от выручки с абонентов из других регионов"
   ]
  },
  {
   "cell_type": "markdown",
   "metadata": {},
   "source": [
    "## Общий вывод"
   ]
  },
  {
   "cell_type": "markdown",
   "metadata": {},
   "source": [
    "- Пользователям тарифа \"Смарт\" очень часто не хватает выделенного тарифом интрнет трафика, и они вынуждены платить сверх тарифа гораздо чаще пользователей тарифа \"Ультра\";\n",
    "- В совокупности все пользователи редко используют заложенные в тариф сообщения, вероятнее всего это связано с тем, что сейчас мы чаще общаемся в соц.сетях либо онлайн мессенджерах;\n",
    "- Длительность же звонков у пользователей тарифа \"Ультра\" значительно больше чем у пользователей тарифа \"Смарт\"."
   ]
  },
  {
   "cell_type": "code",
   "execution_count": null,
   "metadata": {},
   "outputs": [],
   "source": []
  }
 ],
 "metadata": {
  "ExecuteTimeLog": [
   {
    "duration": 1913,
    "start_time": "2022-01-09T07:39:31.717Z"
   },
   {
    "duration": 148,
    "start_time": "2022-01-09T07:39:42.111Z"
   },
   {
    "duration": 163,
    "start_time": "2022-01-09T07:39:49.661Z"
   },
   {
    "duration": 134,
    "start_time": "2022-01-09T07:40:24.248Z"
   },
   {
    "duration": 132,
    "start_time": "2022-01-09T07:40:33.392Z"
   },
   {
    "duration": 94,
    "start_time": "2022-01-09T07:41:46.316Z"
   },
   {
    "duration": 21,
    "start_time": "2022-01-09T07:42:35.275Z"
   },
   {
    "duration": 34,
    "start_time": "2022-01-09T07:43:29.553Z"
   },
   {
    "duration": 14,
    "start_time": "2022-01-09T08:06:00.902Z"
   },
   {
    "duration": 14,
    "start_time": "2022-01-09T08:06:37.855Z"
   },
   {
    "duration": 180,
    "start_time": "2022-01-09T08:08:07.594Z"
   },
   {
    "duration": 26,
    "start_time": "2022-01-09T08:08:15.681Z"
   },
   {
    "duration": 171,
    "start_time": "2022-01-09T08:52:01.846Z"
   },
   {
    "duration": 105,
    "start_time": "2022-01-09T08:52:11.576Z"
   },
   {
    "duration": 164,
    "start_time": "2022-01-09T08:52:42.568Z"
   },
   {
    "duration": 122,
    "start_time": "2022-01-09T08:52:42.734Z"
   },
   {
    "duration": 153,
    "start_time": "2022-01-09T08:53:33.345Z"
   },
   {
    "duration": 151,
    "start_time": "2022-01-09T08:53:47.748Z"
   },
   {
    "duration": 32,
    "start_time": "2022-01-09T08:57:06.343Z"
   },
   {
    "duration": 17,
    "start_time": "2022-01-09T08:57:14.915Z"
   },
   {
    "duration": 174,
    "start_time": "2022-01-09T08:59:00.832Z"
   },
   {
    "duration": 145,
    "start_time": "2022-01-09T08:59:33.197Z"
   },
   {
    "duration": 34,
    "start_time": "2022-01-09T08:59:33.343Z"
   },
   {
    "duration": 198,
    "start_time": "2022-01-09T08:59:33.379Z"
   },
   {
    "duration": 22,
    "start_time": "2022-01-09T08:59:54.031Z"
   },
   {
    "duration": 28,
    "start_time": "2022-01-09T09:00:00.041Z"
   },
   {
    "duration": 26,
    "start_time": "2022-01-09T09:00:30.391Z"
   },
   {
    "duration": 40,
    "start_time": "2022-01-09T09:01:08.228Z"
   },
   {
    "duration": 211,
    "start_time": "2022-01-09T09:03:45.929Z"
   },
   {
    "duration": 198,
    "start_time": "2022-01-09T09:04:06.945Z"
   },
   {
    "duration": 153,
    "start_time": "2022-01-09T09:04:21.248Z"
   },
   {
    "duration": 35,
    "start_time": "2022-01-09T09:04:21.403Z"
   },
   {
    "duration": 24,
    "start_time": "2022-01-09T09:04:21.440Z"
   },
   {
    "duration": 31,
    "start_time": "2022-01-09T09:06:31.370Z"
   },
   {
    "duration": 48,
    "start_time": "2022-01-09T09:07:03.077Z"
   },
   {
    "duration": 53,
    "start_time": "2022-01-09T09:07:44.359Z"
   },
   {
    "duration": 50,
    "start_time": "2022-01-09T09:08:27.522Z"
   },
   {
    "duration": 55,
    "start_time": "2022-01-09T09:08:34.236Z"
   },
   {
    "duration": 57,
    "start_time": "2022-01-09T09:08:44.877Z"
   },
   {
    "duration": 54,
    "start_time": "2022-01-09T09:14:54.146Z"
   },
   {
    "duration": 56,
    "start_time": "2022-01-09T09:15:25.862Z"
   },
   {
    "duration": 59,
    "start_time": "2022-01-09T09:17:33.739Z"
   },
   {
    "duration": 147,
    "start_time": "2022-01-09T09:20:00.571Z"
   },
   {
    "duration": 84,
    "start_time": "2022-01-09T09:36:39.019Z"
   },
   {
    "duration": 60,
    "start_time": "2022-01-09T09:36:59.045Z"
   },
   {
    "duration": 60,
    "start_time": "2022-01-09T09:39:09.688Z"
   },
   {
    "duration": 57,
    "start_time": "2022-01-09T09:39:19.311Z"
   },
   {
    "duration": 60,
    "start_time": "2022-01-09T09:39:30.690Z"
   },
   {
    "duration": 93,
    "start_time": "2022-01-09T09:49:47.785Z"
   },
   {
    "duration": 150,
    "start_time": "2022-01-09T09:50:40.924Z"
   },
   {
    "duration": 117,
    "start_time": "2022-01-09T09:50:41.076Z"
   },
   {
    "duration": 55,
    "start_time": "2022-01-09T09:52:19.473Z"
   },
   {
    "duration": 80,
    "start_time": "2022-01-09T09:52:28.239Z"
   },
   {
    "duration": 72,
    "start_time": "2022-01-09T09:54:17.117Z"
   },
   {
    "duration": 76,
    "start_time": "2022-01-09T09:54:25.109Z"
   },
   {
    "duration": 133,
    "start_time": "2022-01-09T09:55:29.053Z"
   },
   {
    "duration": 246,
    "start_time": "2022-01-09T10:07:12.120Z"
   },
   {
    "duration": 65,
    "start_time": "2022-01-09T10:07:46.688Z"
   },
   {
    "duration": 4735,
    "start_time": "2022-01-09T10:50:50.982Z"
   },
   {
    "duration": 148,
    "start_time": "2022-01-09T10:51:40.819Z"
   },
   {
    "duration": 115,
    "start_time": "2022-01-09T10:51:40.970Z"
   },
   {
    "duration": 1829,
    "start_time": "2022-01-09T10:51:41.090Z"
   },
   {
    "duration": 91,
    "start_time": "2022-01-09T10:51:42.921Z"
   },
   {
    "duration": 88,
    "start_time": "2022-01-09T10:51:43.014Z"
   },
   {
    "duration": 61,
    "start_time": "2022-01-09T10:51:43.104Z"
   },
   {
    "duration": 730,
    "start_time": "2022-01-09T10:53:01.495Z"
   },
   {
    "duration": 37,
    "start_time": "2022-01-09T10:53:15.247Z"
   },
   {
    "duration": 46,
    "start_time": "2022-01-09T10:53:25.057Z"
   },
   {
    "duration": 16,
    "start_time": "2022-01-09T12:15:54.255Z"
   },
   {
    "duration": 26,
    "start_time": "2022-01-09T12:16:32.694Z"
   },
   {
    "duration": 20,
    "start_time": "2022-01-09T12:37:11.057Z"
   },
   {
    "duration": 22,
    "start_time": "2022-01-09T12:38:47.754Z"
   },
   {
    "duration": 30,
    "start_time": "2022-01-09T12:40:42.088Z"
   },
   {
    "duration": 170,
    "start_time": "2022-01-09T12:47:17.508Z"
   },
   {
    "duration": 178,
    "start_time": "2022-01-09T12:47:37.652Z"
   },
   {
    "duration": 17062,
    "start_time": "2022-01-09T12:47:59.421Z"
   },
   {
    "duration": 145,
    "start_time": "2022-01-09T12:50:49.004Z"
   },
   {
    "duration": 318,
    "start_time": "2022-01-09T12:52:31.727Z"
   },
   {
    "duration": 149,
    "start_time": "2022-01-09T12:52:44.794Z"
   },
   {
    "duration": 153,
    "start_time": "2022-01-09T12:56:51.332Z"
   },
   {
    "duration": 86,
    "start_time": "2022-01-09T12:56:51.486Z"
   },
   {
    "duration": 136,
    "start_time": "2022-01-09T12:56:51.574Z"
   },
   {
    "duration": 67,
    "start_time": "2022-01-09T12:56:51.712Z"
   },
   {
    "duration": 96,
    "start_time": "2022-01-09T12:56:51.781Z"
   },
   {
    "duration": 52,
    "start_time": "2022-01-09T12:56:51.879Z"
   },
   {
    "duration": 26,
    "start_time": "2022-01-09T12:56:51.933Z"
   },
   {
    "duration": 20,
    "start_time": "2022-01-09T12:56:51.961Z"
   },
   {
    "duration": 61,
    "start_time": "2022-01-09T12:56:51.991Z"
   },
   {
    "duration": 4818,
    "start_time": "2022-01-09T12:57:59.975Z"
   },
   {
    "duration": 4410,
    "start_time": "2022-01-09T12:58:25.684Z"
   },
   {
    "duration": 4587,
    "start_time": "2022-01-09T12:58:57.411Z"
   },
   {
    "duration": 4404,
    "start_time": "2022-01-09T12:59:08.277Z"
   },
   {
    "duration": 141,
    "start_time": "2022-01-09T12:59:40.215Z"
   },
   {
    "duration": 85,
    "start_time": "2022-01-09T12:59:40.357Z"
   },
   {
    "duration": 130,
    "start_time": "2022-01-09T12:59:40.443Z"
   },
   {
    "duration": 69,
    "start_time": "2022-01-09T12:59:40.575Z"
   },
   {
    "duration": 90,
    "start_time": "2022-01-09T12:59:40.646Z"
   },
   {
    "duration": 56,
    "start_time": "2022-01-09T12:59:40.737Z"
   },
   {
    "duration": 4255,
    "start_time": "2022-01-09T12:59:40.794Z"
   },
   {
    "duration": 26,
    "start_time": "2022-01-09T12:59:52.872Z"
   },
   {
    "duration": 5608,
    "start_time": "2022-01-09T13:00:49.175Z"
   },
   {
    "duration": 26,
    "start_time": "2022-01-09T13:01:02.873Z"
   },
   {
    "duration": 30,
    "start_time": "2022-01-09T13:02:41.522Z"
   },
   {
    "duration": 54,
    "start_time": "2022-01-09T13:03:33.955Z"
   },
   {
    "duration": 69,
    "start_time": "2022-01-09T13:04:24.782Z"
   },
   {
    "duration": 70,
    "start_time": "2022-01-09T13:04:36.187Z"
   },
   {
    "duration": 69,
    "start_time": "2022-01-09T13:04:50.892Z"
   },
   {
    "duration": 34,
    "start_time": "2022-01-09T13:05:08.355Z"
   },
   {
    "duration": 28,
    "start_time": "2022-01-09T13:05:27.500Z"
   },
   {
    "duration": 31,
    "start_time": "2022-01-09T13:15:18.495Z"
   },
   {
    "duration": 48,
    "start_time": "2022-01-09T13:16:34.099Z"
   },
   {
    "duration": 209,
    "start_time": "2022-01-09T13:16:51.639Z"
   },
   {
    "duration": 47,
    "start_time": "2022-01-09T13:16:59.557Z"
   },
   {
    "duration": 28,
    "start_time": "2022-01-09T13:21:39.473Z"
   },
   {
    "duration": 29,
    "start_time": "2022-01-09T13:21:56.613Z"
   },
   {
    "duration": 28,
    "start_time": "2022-01-09T13:22:57.352Z"
   },
   {
    "duration": 44,
    "start_time": "2022-01-09T13:24:54.711Z"
   },
   {
    "duration": 55,
    "start_time": "2022-01-09T13:25:47.200Z"
   },
   {
    "duration": 63,
    "start_time": "2022-01-09T13:26:12.822Z"
   },
   {
    "duration": 142,
    "start_time": "2022-01-09T13:26:42.182Z"
   },
   {
    "duration": 90,
    "start_time": "2022-01-09T13:26:42.326Z"
   },
   {
    "duration": 121,
    "start_time": "2022-01-09T13:26:42.418Z"
   },
   {
    "duration": 72,
    "start_time": "2022-01-09T13:26:42.541Z"
   },
   {
    "duration": 85,
    "start_time": "2022-01-09T13:26:42.614Z"
   },
   {
    "duration": 58,
    "start_time": "2022-01-09T13:26:42.702Z"
   },
   {
    "duration": 42,
    "start_time": "2022-01-09T13:26:42.762Z"
   },
   {
    "duration": 20,
    "start_time": "2022-01-09T13:26:42.806Z"
   },
   {
    "duration": 44,
    "start_time": "2022-01-09T13:26:42.828Z"
   },
   {
    "duration": 7,
    "start_time": "2022-01-09T13:34:50.265Z"
   },
   {
    "duration": 157,
    "start_time": "2022-01-09T13:35:09.450Z"
   },
   {
    "duration": 504,
    "start_time": "2022-01-09T13:35:51.418Z"
   },
   {
    "duration": 222,
    "start_time": "2022-01-09T13:36:45.012Z"
   },
   {
    "duration": 172,
    "start_time": "2022-01-09T13:40:07.834Z"
   },
   {
    "duration": 699,
    "start_time": "2022-01-09T13:40:15.726Z"
   },
   {
    "duration": 118,
    "start_time": "2022-01-09T13:40:16.427Z"
   },
   {
    "duration": 143,
    "start_time": "2022-01-09T13:40:16.547Z"
   },
   {
    "duration": 104,
    "start_time": "2022-01-09T13:40:16.693Z"
   },
   {
    "duration": 99,
    "start_time": "2022-01-09T13:40:16.799Z"
   },
   {
    "duration": 64,
    "start_time": "2022-01-09T13:40:16.900Z"
   },
   {
    "duration": 34,
    "start_time": "2022-01-09T13:40:16.966Z"
   },
   {
    "duration": 24,
    "start_time": "2022-01-09T13:40:17.002Z"
   },
   {
    "duration": 21,
    "start_time": "2022-01-09T13:40:17.028Z"
   },
   {
    "duration": 55,
    "start_time": "2022-01-09T13:40:17.052Z"
   },
   {
    "duration": 31,
    "start_time": "2022-01-09T13:40:28.268Z"
   },
   {
    "duration": 26,
    "start_time": "2022-01-09T13:43:03.299Z"
   },
   {
    "duration": 154,
    "start_time": "2022-01-09T13:43:25.301Z"
   },
   {
    "duration": 111,
    "start_time": "2022-01-09T13:43:25.457Z"
   },
   {
    "duration": 133,
    "start_time": "2022-01-09T13:43:25.571Z"
   },
   {
    "duration": 92,
    "start_time": "2022-01-09T13:43:25.707Z"
   },
   {
    "duration": 97,
    "start_time": "2022-01-09T13:43:25.801Z"
   },
   {
    "duration": 60,
    "start_time": "2022-01-09T13:43:25.900Z"
   },
   {
    "duration": 30,
    "start_time": "2022-01-09T13:43:25.962Z"
   },
   {
    "duration": 30,
    "start_time": "2022-01-09T13:43:25.994Z"
   },
   {
    "duration": 19,
    "start_time": "2022-01-09T13:43:26.025Z"
   },
   {
    "duration": 33,
    "start_time": "2022-01-09T13:48:40.651Z"
   },
   {
    "duration": 10,
    "start_time": "2022-01-09T13:49:28.294Z"
   },
   {
    "duration": 34,
    "start_time": "2022-01-09T15:25:04.021Z"
   },
   {
    "duration": 9,
    "start_time": "2022-01-09T15:31:25.821Z"
   },
   {
    "duration": 58,
    "start_time": "2022-01-09T17:50:07.055Z"
   },
   {
    "duration": 201,
    "start_time": "2022-01-09T17:50:27.549Z"
   },
   {
    "duration": 146,
    "start_time": "2022-01-09T17:50:41.888Z"
   },
   {
    "duration": 104,
    "start_time": "2022-01-09T17:50:42.036Z"
   },
   {
    "duration": 129,
    "start_time": "2022-01-09T17:50:42.142Z"
   },
   {
    "duration": 78,
    "start_time": "2022-01-09T17:50:42.273Z"
   },
   {
    "duration": 87,
    "start_time": "2022-01-09T17:50:42.353Z"
   },
   {
    "duration": 64,
    "start_time": "2022-01-09T17:50:42.442Z"
   },
   {
    "duration": 31,
    "start_time": "2022-01-09T17:50:42.508Z"
   },
   {
    "duration": 32,
    "start_time": "2022-01-09T17:50:42.541Z"
   },
   {
    "duration": 8,
    "start_time": "2022-01-09T17:50:42.574Z"
   },
   {
    "duration": 31,
    "start_time": "2022-01-09T17:50:42.592Z"
   },
   {
    "duration": 6,
    "start_time": "2022-01-09T17:50:42.625Z"
   },
   {
    "duration": 178,
    "start_time": "2022-01-09T17:50:42.633Z"
   },
   {
    "duration": 236,
    "start_time": "2022-01-09T17:50:42.577Z"
   },
   {
    "duration": 6,
    "start_time": "2022-01-09T17:51:04.305Z"
   },
   {
    "duration": 258,
    "start_time": "2022-01-09T17:56:41.967Z"
   },
   {
    "duration": 128,
    "start_time": "2022-01-09T17:56:54.487Z"
   },
   {
    "duration": 131,
    "start_time": "2022-01-09T17:57:15.201Z"
   },
   {
    "duration": 301,
    "start_time": "2022-01-11T11:26:48.081Z"
   },
   {
    "duration": 946,
    "start_time": "2022-01-11T11:26:53.567Z"
   },
   {
    "duration": 184,
    "start_time": "2022-01-11T11:26:54.516Z"
   },
   {
    "duration": 184,
    "start_time": "2022-01-11T11:26:54.703Z"
   },
   {
    "duration": 131,
    "start_time": "2022-01-11T11:26:54.890Z"
   },
   {
    "duration": 127,
    "start_time": "2022-01-11T11:26:55.024Z"
   },
   {
    "duration": 97,
    "start_time": "2022-01-11T11:26:55.154Z"
   },
   {
    "duration": 36,
    "start_time": "2022-01-11T11:26:55.254Z"
   },
   {
    "duration": 54,
    "start_time": "2022-01-11T11:26:55.293Z"
   },
   {
    "duration": 12,
    "start_time": "2022-01-11T11:26:55.350Z"
   },
   {
    "duration": 72,
    "start_time": "2022-01-11T11:26:55.364Z"
   },
   {
    "duration": 8,
    "start_time": "2022-01-11T11:26:55.438Z"
   },
   {
    "duration": 234,
    "start_time": "2022-01-11T11:26:55.448Z"
   },
   {
    "duration": 9,
    "start_time": "2022-01-11T11:26:55.684Z"
   },
   {
    "duration": 1813,
    "start_time": "2022-01-11T11:27:02.639Z"
   },
   {
    "duration": 32,
    "start_time": "2022-01-11T11:27:21.250Z"
   },
   {
    "duration": 26,
    "start_time": "2022-01-11T11:27:30.451Z"
   },
   {
    "duration": 589,
    "start_time": "2022-01-11T11:28:38.922Z"
   },
   {
    "duration": 6880,
    "start_time": "2022-01-11T11:34:26.163Z"
   },
   {
    "duration": 450,
    "start_time": "2022-01-11T11:34:46.167Z"
   },
   {
    "duration": 246,
    "start_time": "2022-01-11T11:35:27.398Z"
   },
   {
    "duration": 310,
    "start_time": "2022-01-11T11:43:00.784Z"
   },
   {
    "duration": 12,
    "start_time": "2022-01-11T11:43:10.522Z"
   },
   {
    "duration": 34,
    "start_time": "2022-01-11T11:43:15.109Z"
   },
   {
    "duration": 269,
    "start_time": "2022-01-11T11:45:55.687Z"
   },
   {
    "duration": 25,
    "start_time": "2022-01-11T11:53:42.726Z"
   },
   {
    "duration": 254,
    "start_time": "2022-01-11T11:58:21.422Z"
   },
   {
    "duration": 246,
    "start_time": "2022-01-11T11:59:05.898Z"
   },
   {
    "duration": 113,
    "start_time": "2022-01-11T11:59:41.426Z"
   },
   {
    "duration": 251,
    "start_time": "2022-01-11T11:59:49.370Z"
   },
   {
    "duration": 75,
    "start_time": "2022-01-11T12:01:56.463Z"
   },
   {
    "duration": 27,
    "start_time": "2022-01-11T12:02:05.624Z"
   },
   {
    "duration": 83,
    "start_time": "2022-01-11T12:03:52.644Z"
   },
   {
    "duration": 245,
    "start_time": "2022-01-11T12:03:58.377Z"
   },
   {
    "duration": 333,
    "start_time": "2022-01-11T12:04:27.731Z"
   },
   {
    "duration": 279,
    "start_time": "2022-01-11T12:05:01.834Z"
   },
   {
    "duration": 323,
    "start_time": "2022-01-11T12:09:34.806Z"
   },
   {
    "duration": 251,
    "start_time": "2022-01-11T12:09:54.281Z"
   },
   {
    "duration": 24,
    "start_time": "2022-01-11T12:11:48.294Z"
   },
   {
    "duration": 253,
    "start_time": "2022-01-11T12:16:00.903Z"
   },
   {
    "duration": 250,
    "start_time": "2022-01-11T12:16:10.871Z"
   },
   {
    "duration": 28,
    "start_time": "2022-01-11T12:16:25.346Z"
   },
   {
    "duration": 263,
    "start_time": "2022-01-11T12:21:02.348Z"
   },
   {
    "duration": 273,
    "start_time": "2022-01-11T12:21:22.822Z"
   },
   {
    "duration": 26,
    "start_time": "2022-01-11T12:22:54.992Z"
   },
   {
    "duration": 28,
    "start_time": "2022-01-11T12:24:11.371Z"
   },
   {
    "duration": 6,
    "start_time": "2022-01-11T12:36:15.754Z"
   },
   {
    "duration": 28,
    "start_time": "2022-01-11T12:36:43.471Z"
   },
   {
    "duration": 221,
    "start_time": "2022-01-11T12:36:59.123Z"
   },
   {
    "duration": 162,
    "start_time": "2022-01-11T12:36:59.347Z"
   },
   {
    "duration": 186,
    "start_time": "2022-01-11T12:36:59.513Z"
   },
   {
    "duration": 125,
    "start_time": "2022-01-11T12:36:59.702Z"
   },
   {
    "duration": 123,
    "start_time": "2022-01-11T12:36:59.829Z"
   },
   {
    "duration": 88,
    "start_time": "2022-01-11T12:36:59.954Z"
   },
   {
    "duration": 38,
    "start_time": "2022-01-11T12:37:00.044Z"
   },
   {
    "duration": 65,
    "start_time": "2022-01-11T12:37:00.088Z"
   },
   {
    "duration": 29,
    "start_time": "2022-01-11T12:37:00.157Z"
   },
   {
    "duration": 33,
    "start_time": "2022-01-11T12:37:00.189Z"
   },
   {
    "duration": 58,
    "start_time": "2022-01-11T12:37:00.224Z"
   },
   {
    "duration": 14,
    "start_time": "2022-01-11T12:37:00.285Z"
   },
   {
    "duration": 229,
    "start_time": "2022-01-11T12:37:00.318Z"
   },
   {
    "duration": 34,
    "start_time": "2022-01-11T12:37:00.549Z"
   },
   {
    "duration": 41,
    "start_time": "2022-01-11T12:37:00.585Z"
   },
   {
    "duration": 238,
    "start_time": "2022-01-11T12:40:12.121Z"
   },
   {
    "duration": 28,
    "start_time": "2022-01-11T12:41:12.994Z"
   },
   {
    "duration": 26,
    "start_time": "2022-01-11T12:42:20.692Z"
   },
   {
    "duration": 212,
    "start_time": "2022-01-11T12:42:30.450Z"
   },
   {
    "duration": 148,
    "start_time": "2022-01-11T12:42:30.664Z"
   },
   {
    "duration": 192,
    "start_time": "2022-01-11T12:42:30.817Z"
   },
   {
    "duration": 118,
    "start_time": "2022-01-11T12:42:31.016Z"
   },
   {
    "duration": 227,
    "start_time": "2022-01-11T12:42:31.136Z"
   },
   {
    "duration": 95,
    "start_time": "2022-01-11T12:42:31.365Z"
   },
   {
    "duration": 39,
    "start_time": "2022-01-11T12:42:31.463Z"
   },
   {
    "duration": 69,
    "start_time": "2022-01-11T12:42:31.507Z"
   },
   {
    "duration": 27,
    "start_time": "2022-01-11T12:42:31.579Z"
   },
   {
    "duration": 23,
    "start_time": "2022-01-11T12:42:31.608Z"
   },
   {
    "duration": 56,
    "start_time": "2022-01-11T12:42:31.633Z"
   },
   {
    "duration": 31,
    "start_time": "2022-01-11T12:42:31.692Z"
   },
   {
    "duration": 257,
    "start_time": "2022-01-11T12:42:31.726Z"
   },
   {
    "duration": 67,
    "start_time": "2022-01-11T12:42:31.986Z"
   },
   {
    "duration": 64,
    "start_time": "2022-01-11T12:42:32.056Z"
   },
   {
    "duration": 43,
    "start_time": "2022-01-11T12:45:34.441Z"
   },
   {
    "duration": 234,
    "start_time": "2022-01-11T12:45:47.004Z"
   },
   {
    "duration": 160,
    "start_time": "2022-01-11T12:45:47.241Z"
   },
   {
    "duration": 199,
    "start_time": "2022-01-11T12:45:47.404Z"
   },
   {
    "duration": 139,
    "start_time": "2022-01-11T12:45:47.606Z"
   },
   {
    "duration": 144,
    "start_time": "2022-01-11T12:45:47.748Z"
   },
   {
    "duration": 96,
    "start_time": "2022-01-11T12:45:47.895Z"
   },
   {
    "duration": 38,
    "start_time": "2022-01-11T12:45:47.993Z"
   },
   {
    "duration": 53,
    "start_time": "2022-01-11T12:45:48.035Z"
   },
   {
    "duration": 55,
    "start_time": "2022-01-11T12:45:48.091Z"
   },
   {
    "duration": 12,
    "start_time": "2022-01-11T12:45:48.149Z"
   },
   {
    "duration": 86,
    "start_time": "2022-01-11T12:45:48.163Z"
   },
   {
    "duration": 9,
    "start_time": "2022-01-11T12:45:48.251Z"
   },
   {
    "duration": 234,
    "start_time": "2022-01-11T12:45:48.262Z"
   },
   {
    "duration": 46,
    "start_time": "2022-01-11T12:45:48.498Z"
   },
   {
    "duration": 24,
    "start_time": "2022-01-11T12:45:48.547Z"
   },
   {
    "duration": 219,
    "start_time": "2022-01-11T12:47:42.721Z"
   },
   {
    "duration": 152,
    "start_time": "2022-01-11T12:47:42.943Z"
   },
   {
    "duration": 193,
    "start_time": "2022-01-11T12:47:43.098Z"
   },
   {
    "duration": 124,
    "start_time": "2022-01-11T12:47:43.295Z"
   },
   {
    "duration": 134,
    "start_time": "2022-01-11T12:47:43.422Z"
   },
   {
    "duration": 104,
    "start_time": "2022-01-11T12:47:43.559Z"
   },
   {
    "duration": 40,
    "start_time": "2022-01-11T12:47:43.666Z"
   },
   {
    "duration": 53,
    "start_time": "2022-01-11T12:47:43.708Z"
   },
   {
    "duration": 29,
    "start_time": "2022-01-11T12:47:43.764Z"
   },
   {
    "duration": 13,
    "start_time": "2022-01-11T12:47:43.818Z"
   },
   {
    "duration": 56,
    "start_time": "2022-01-11T12:47:43.833Z"
   },
   {
    "duration": 32,
    "start_time": "2022-01-11T12:47:43.892Z"
   },
   {
    "duration": 260,
    "start_time": "2022-01-11T12:47:43.926Z"
   },
   {
    "duration": 50,
    "start_time": "2022-01-11T12:47:44.189Z"
   },
   {
    "duration": 27,
    "start_time": "2022-01-11T12:47:44.241Z"
   },
   {
    "duration": 352,
    "start_time": "2022-01-11T12:52:23.928Z"
   },
   {
    "duration": 53,
    "start_time": "2022-01-11T12:53:07.732Z"
   },
   {
    "duration": 80,
    "start_time": "2022-01-11T12:55:26.312Z"
   },
   {
    "duration": 93,
    "start_time": "2022-01-11T12:55:37.571Z"
   },
   {
    "duration": 101,
    "start_time": "2022-01-11T12:57:58.906Z"
   },
   {
    "duration": 174,
    "start_time": "2022-01-11T13:02:04.291Z"
   },
   {
    "duration": 48,
    "start_time": "2022-01-11T13:09:14.121Z"
   },
   {
    "duration": 64,
    "start_time": "2022-01-11T13:09:26.358Z"
   },
   {
    "duration": 110,
    "start_time": "2022-01-11T13:11:52.829Z"
   },
   {
    "duration": 196,
    "start_time": "2022-01-11T13:14:31.165Z"
   },
   {
    "duration": 228,
    "start_time": "2022-01-11T13:14:39.562Z"
   },
   {
    "duration": 155,
    "start_time": "2022-01-11T13:14:39.793Z"
   },
   {
    "duration": 189,
    "start_time": "2022-01-11T13:14:39.951Z"
   },
   {
    "duration": 124,
    "start_time": "2022-01-11T13:14:40.143Z"
   },
   {
    "duration": 134,
    "start_time": "2022-01-11T13:14:40.270Z"
   },
   {
    "duration": 121,
    "start_time": "2022-01-11T13:14:40.406Z"
   },
   {
    "duration": 37,
    "start_time": "2022-01-11T13:14:40.529Z"
   },
   {
    "duration": 54,
    "start_time": "2022-01-11T13:14:40.569Z"
   },
   {
    "duration": 29,
    "start_time": "2022-01-11T13:14:40.626Z"
   },
   {
    "duration": 34,
    "start_time": "2022-01-11T13:14:40.658Z"
   },
   {
    "duration": 190,
    "start_time": "2022-01-11T13:14:40.695Z"
   },
   {
    "duration": 91,
    "start_time": "2022-01-11T13:14:40.887Z"
   },
   {
    "duration": 367,
    "start_time": "2022-01-11T13:14:40.980Z"
   },
   {
    "duration": 182,
    "start_time": "2022-01-11T13:14:41.349Z"
   },
   {
    "duration": 186,
    "start_time": "2022-01-11T13:17:40.349Z"
   },
   {
    "duration": 316,
    "start_time": "2022-01-11T13:20:21.355Z"
   },
   {
    "duration": 268,
    "start_time": "2022-01-11T13:20:47.262Z"
   },
   {
    "duration": 640,
    "start_time": "2022-01-11T13:27:30.164Z"
   },
   {
    "duration": 7053,
    "start_time": "2022-01-11T13:57:06.213Z"
   },
   {
    "duration": 217,
    "start_time": "2022-01-11T13:57:48.922Z"
   },
   {
    "duration": 698,
    "start_time": "2022-01-11T13:57:49.141Z"
   },
   {
    "duration": 1154,
    "start_time": "2022-01-11T13:57:49.842Z"
   },
   {
    "duration": 640,
    "start_time": "2022-01-11T13:57:50.999Z"
   },
   {
    "duration": 124,
    "start_time": "2022-01-11T13:57:51.643Z"
   },
   {
    "duration": 98,
    "start_time": "2022-01-11T13:57:51.769Z"
   },
   {
    "duration": 37,
    "start_time": "2022-01-11T13:57:51.869Z"
   },
   {
    "duration": 202,
    "start_time": "2022-01-11T13:57:51.909Z"
   },
   {
    "duration": 71,
    "start_time": "2022-01-11T13:57:52.114Z"
   },
   {
    "duration": 72,
    "start_time": "2022-01-11T13:57:52.188Z"
   },
   {
    "duration": 156,
    "start_time": "2022-01-11T13:57:52.262Z"
   },
   {
    "duration": 87,
    "start_time": "2022-01-11T13:57:52.420Z"
   },
   {
    "duration": 385,
    "start_time": "2022-01-11T13:57:52.510Z"
   },
   {
    "duration": 749,
    "start_time": "2022-01-11T13:57:52.898Z"
   },
   {
    "duration": 6325,
    "start_time": "2022-01-11T13:57:53.649Z"
   },
   {
    "duration": 78,
    "start_time": "2022-01-11T13:57:59.898Z"
   },
   {
    "duration": 6429,
    "start_time": "2022-01-11T13:58:41.581Z"
   },
   {
    "duration": 31,
    "start_time": "2022-01-11T13:59:55.392Z"
   },
   {
    "duration": 295,
    "start_time": "2022-01-11T14:01:28.126Z"
   },
   {
    "duration": 11,
    "start_time": "2022-01-11T14:04:12.706Z"
   },
   {
    "duration": 16,
    "start_time": "2022-01-11T14:04:45.486Z"
   },
   {
    "duration": 37,
    "start_time": "2022-01-11T14:13:57.328Z"
   },
   {
    "duration": 36,
    "start_time": "2022-01-11T14:14:34.184Z"
   },
   {
    "duration": 278,
    "start_time": "2022-01-11T14:16:33.581Z"
   },
   {
    "duration": 8251,
    "start_time": "2022-01-11T14:17:24.664Z"
   },
   {
    "duration": 245,
    "start_time": "2022-01-11T14:18:54.366Z"
   },
   {
    "duration": 13,
    "start_time": "2022-01-11T14:19:09.393Z"
   },
   {
    "duration": 261,
    "start_time": "2022-01-11T14:20:24.612Z"
   },
   {
    "duration": 1225,
    "start_time": "2022-01-11T14:20:24.877Z"
   },
   {
    "duration": 1207,
    "start_time": "2022-01-11T14:20:26.105Z"
   },
   {
    "duration": 1578,
    "start_time": "2022-01-11T14:20:27.318Z"
   },
   {
    "duration": 1903,
    "start_time": "2022-01-11T14:20:28.899Z"
   },
   {
    "duration": 1809,
    "start_time": "2022-01-11T14:20:30.805Z"
   },
   {
    "duration": 1627,
    "start_time": "2022-01-11T14:20:32.616Z"
   },
   {
    "duration": 2386,
    "start_time": "2022-01-11T14:20:34.247Z"
   },
   {
    "duration": 1826,
    "start_time": "2022-01-11T14:20:36.636Z"
   },
   {
    "duration": 1974,
    "start_time": "2022-01-11T14:20:38.464Z"
   },
   {
    "duration": 2204,
    "start_time": "2022-01-11T14:20:40.441Z"
   },
   {
    "duration": 1122,
    "start_time": "2022-01-11T14:20:42.648Z"
   },
   {
    "duration": 1663,
    "start_time": "2022-01-11T14:20:43.773Z"
   },
   {
    "duration": 1807,
    "start_time": "2022-01-11T14:20:45.439Z"
   },
   {
    "duration": 915,
    "start_time": "2022-01-11T14:20:47.249Z"
   },
   {
    "duration": 847,
    "start_time": "2022-01-11T14:20:48.167Z"
   },
   {
    "duration": 6690,
    "start_time": "2022-01-11T14:22:09.084Z"
   },
   {
    "duration": 5699,
    "start_time": "2022-01-11T14:22:46.083Z"
   },
   {
    "duration": 290,
    "start_time": "2022-01-11T14:22:59.754Z"
   },
   {
    "duration": 20,
    "start_time": "2022-01-11T14:26:34.243Z"
   },
   {
    "duration": 400,
    "start_time": "2022-01-11T14:27:13.318Z"
   },
   {
    "duration": 401,
    "start_time": "2022-01-11T14:27:33.185Z"
   },
   {
    "duration": 19,
    "start_time": "2022-01-11T14:52:48.672Z"
   },
   {
    "duration": 283,
    "start_time": "2022-01-11T14:55:04.370Z"
   },
   {
    "duration": 35,
    "start_time": "2022-01-11T14:55:15.420Z"
   },
   {
    "duration": 52,
    "start_time": "2022-01-11T14:55:40.785Z"
   },
   {
    "duration": 44,
    "start_time": "2022-01-11T14:56:07.851Z"
   },
   {
    "duration": 36,
    "start_time": "2022-01-11T14:56:53.949Z"
   },
   {
    "duration": 17,
    "start_time": "2022-01-11T15:25:09.353Z"
   },
   {
    "duration": 553,
    "start_time": "2022-01-11T15:27:53.931Z"
   },
   {
    "duration": 864,
    "start_time": "2022-01-11T15:28:19.695Z"
   },
   {
    "duration": 299,
    "start_time": "2022-01-11T15:29:12.486Z"
   },
   {
    "duration": 923,
    "start_time": "2022-01-12T16:01:39.957Z"
   },
   {
    "duration": 418,
    "start_time": "2022-01-12T16:01:46.215Z"
   },
   {
    "duration": 1162,
    "start_time": "2022-01-12T16:01:53.128Z"
   },
   {
    "duration": 159,
    "start_time": "2022-01-12T16:01:54.292Z"
   },
   {
    "duration": 179,
    "start_time": "2022-01-12T16:01:54.454Z"
   },
   {
    "duration": 131,
    "start_time": "2022-01-12T16:01:54.636Z"
   },
   {
    "duration": 127,
    "start_time": "2022-01-12T16:01:54.769Z"
   },
   {
    "duration": 97,
    "start_time": "2022-01-12T16:01:54.898Z"
   },
   {
    "duration": 57,
    "start_time": "2022-01-12T16:01:54.998Z"
   },
   {
    "duration": 51,
    "start_time": "2022-01-12T16:01:55.059Z"
   },
   {
    "duration": 47,
    "start_time": "2022-01-12T16:01:55.113Z"
   },
   {
    "duration": 16,
    "start_time": "2022-01-12T16:01:55.164Z"
   },
   {
    "duration": 81,
    "start_time": "2022-01-12T16:01:55.183Z"
   },
   {
    "duration": 9,
    "start_time": "2022-01-12T16:01:55.266Z"
   },
   {
    "duration": 248,
    "start_time": "2022-01-12T16:01:55.278Z"
   },
   {
    "duration": 630,
    "start_time": "2022-01-12T16:01:55.529Z"
   },
   {
    "duration": 26,
    "start_time": "2022-01-12T16:01:56.163Z"
   },
   {
    "duration": 3108,
    "start_time": "2022-01-12T16:01:56.192Z"
   },
   {
    "duration": 2725,
    "start_time": "2022-01-12T16:02:23.068Z"
   },
   {
    "duration": 316,
    "start_time": "2022-01-12T16:03:00.330Z"
   },
   {
    "duration": 8,
    "start_time": "2022-01-12T16:06:36.897Z"
   },
   {
    "duration": 959,
    "start_time": "2022-01-12T16:11:20.524Z"
   },
   {
    "duration": 33,
    "start_time": "2022-01-12T16:11:30.420Z"
   },
   {
    "duration": 9,
    "start_time": "2022-01-12T16:12:15.037Z"
   },
   {
    "duration": 11,
    "start_time": "2022-01-12T16:12:30.094Z"
   },
   {
    "duration": 15,
    "start_time": "2022-01-12T16:19:09.497Z"
   },
   {
    "duration": 22,
    "start_time": "2022-01-12T16:19:26.003Z"
   },
   {
    "duration": 964,
    "start_time": "2022-01-12T16:20:18.320Z"
   },
   {
    "duration": 311,
    "start_time": "2022-01-12T16:21:16.887Z"
   },
   {
    "duration": 325,
    "start_time": "2022-01-12T16:22:43.448Z"
   },
   {
    "duration": 479,
    "start_time": "2022-01-12T16:23:22.654Z"
   },
   {
    "duration": 373,
    "start_time": "2022-01-12T16:24:04.246Z"
   },
   {
    "duration": 306,
    "start_time": "2022-01-12T16:24:44.417Z"
   },
   {
    "duration": 287,
    "start_time": "2022-01-12T16:25:05.449Z"
   },
   {
    "duration": 313,
    "start_time": "2022-01-12T16:25:18.615Z"
   },
   {
    "duration": 308,
    "start_time": "2022-01-12T16:25:27.195Z"
   },
   {
    "duration": 336,
    "start_time": "2022-01-12T16:35:56.465Z"
   },
   {
    "duration": 336,
    "start_time": "2022-01-12T16:36:21.550Z"
   },
   {
    "duration": 401,
    "start_time": "2022-01-12T16:36:28.360Z"
   },
   {
    "duration": 301,
    "start_time": "2022-01-12T16:39:47.438Z"
   },
   {
    "duration": 314,
    "start_time": "2022-01-12T16:39:56.928Z"
   },
   {
    "duration": 537,
    "start_time": "2022-01-12T16:40:04.796Z"
   },
   {
    "duration": 332,
    "start_time": "2022-01-12T16:40:28.705Z"
   },
   {
    "duration": 307,
    "start_time": "2022-01-12T16:41:32.621Z"
   },
   {
    "duration": 379,
    "start_time": "2022-01-13T07:27:14.982Z"
   },
   {
    "duration": 981,
    "start_time": "2022-01-13T07:27:19.924Z"
   },
   {
    "duration": 156,
    "start_time": "2022-01-13T07:27:20.908Z"
   },
   {
    "duration": 174,
    "start_time": "2022-01-13T07:27:21.069Z"
   },
   {
    "duration": 129,
    "start_time": "2022-01-13T07:27:21.246Z"
   },
   {
    "duration": 122,
    "start_time": "2022-01-13T07:27:21.378Z"
   },
   {
    "duration": 82,
    "start_time": "2022-01-13T07:27:21.502Z"
   },
   {
    "duration": 81,
    "start_time": "2022-01-13T07:27:21.588Z"
   },
   {
    "duration": 80,
    "start_time": "2022-01-13T07:27:21.674Z"
   },
   {
    "duration": 46,
    "start_time": "2022-01-13T07:27:21.757Z"
   },
   {
    "duration": 25,
    "start_time": "2022-01-13T07:27:21.806Z"
   },
   {
    "duration": 95,
    "start_time": "2022-01-13T07:27:21.835Z"
   },
   {
    "duration": 12,
    "start_time": "2022-01-13T07:27:21.933Z"
   },
   {
    "duration": 374,
    "start_time": "2022-01-13T07:27:21.949Z"
   },
   {
    "duration": 974,
    "start_time": "2022-01-13T07:27:22.326Z"
   },
   {
    "duration": 43,
    "start_time": "2022-01-13T07:27:23.304Z"
   },
   {
    "duration": 1010,
    "start_time": "2022-01-13T07:27:23.350Z"
   },
   {
    "duration": 301,
    "start_time": "2022-01-13T07:28:54.458Z"
   },
   {
    "duration": 207,
    "start_time": "2022-01-13T07:28:54.762Z"
   },
   {
    "duration": 278,
    "start_time": "2022-01-13T07:28:54.973Z"
   },
   {
    "duration": 170,
    "start_time": "2022-01-13T07:28:55.255Z"
   },
   {
    "duration": 180,
    "start_time": "2022-01-13T07:28:55.428Z"
   },
   {
    "duration": 129,
    "start_time": "2022-01-13T07:28:55.612Z"
   },
   {
    "duration": 66,
    "start_time": "2022-01-13T07:28:55.744Z"
   },
   {
    "duration": 51,
    "start_time": "2022-01-13T07:28:55.813Z"
   },
   {
    "duration": 28,
    "start_time": "2022-01-13T07:28:55.868Z"
   },
   {
    "duration": 33,
    "start_time": "2022-01-13T07:28:55.899Z"
   },
   {
    "duration": 98,
    "start_time": "2022-01-13T07:28:55.935Z"
   },
   {
    "duration": 12,
    "start_time": "2022-01-13T07:28:56.036Z"
   },
   {
    "duration": 399,
    "start_time": "2022-01-13T07:28:56.051Z"
   },
   {
    "duration": 786,
    "start_time": "2022-01-13T07:28:56.453Z"
   },
   {
    "duration": 22,
    "start_time": "2022-01-13T07:28:57.242Z"
   },
   {
    "duration": 360,
    "start_time": "2022-01-13T07:28:57.266Z"
   },
   {
    "duration": 340,
    "start_time": "2022-01-13T07:28:57.629Z"
   },
   {
    "duration": 387,
    "start_time": "2022-01-13T07:28:57.972Z"
   },
   {
    "duration": 12,
    "start_time": "2022-01-13T07:28:58.363Z"
   },
   {
    "duration": 320,
    "start_time": "2022-01-13T07:29:34.795Z"
   },
   {
    "duration": 291,
    "start_time": "2022-01-13T07:34:45.278Z"
   },
   {
    "duration": 300,
    "start_time": "2022-01-13T07:34:57.091Z"
   },
   {
    "duration": 301,
    "start_time": "2022-01-13T07:35:04.427Z"
   },
   {
    "duration": 304,
    "start_time": "2022-01-13T07:36:20.009Z"
   },
   {
    "duration": 284,
    "start_time": "2022-01-13T07:37:40.755Z"
   },
   {
    "duration": 308,
    "start_time": "2022-01-13T07:37:59.428Z"
   },
   {
    "duration": 380,
    "start_time": "2022-01-13T07:46:16.730Z"
   },
   {
    "duration": 287,
    "start_time": "2022-01-13T07:46:25.553Z"
   },
   {
    "duration": 288,
    "start_time": "2022-01-13T07:46:31.521Z"
   },
   {
    "duration": 373,
    "start_time": "2022-01-13T07:46:47.084Z"
   },
   {
    "duration": 302,
    "start_time": "2022-01-13T07:46:54.674Z"
   },
   {
    "duration": 282,
    "start_time": "2022-01-13T07:46:59.907Z"
   },
   {
    "duration": 309,
    "start_time": "2022-01-13T07:47:04.674Z"
   },
   {
    "duration": 292,
    "start_time": "2022-01-13T07:47:38.608Z"
   },
   {
    "duration": 329,
    "start_time": "2022-01-13T07:47:48.389Z"
   },
   {
    "duration": 304,
    "start_time": "2022-01-13T07:51:30.110Z"
   },
   {
    "duration": 304,
    "start_time": "2022-01-13T07:51:56.860Z"
   },
   {
    "duration": 320,
    "start_time": "2022-01-13T07:52:11.486Z"
   },
   {
    "duration": 312,
    "start_time": "2022-01-13T07:52:22.653Z"
   },
   {
    "duration": 391,
    "start_time": "2022-01-13T07:52:32.963Z"
   },
   {
    "duration": 387,
    "start_time": "2022-01-13T07:53:37.809Z"
   },
   {
    "duration": 351,
    "start_time": "2022-01-13T07:53:48.811Z"
   },
   {
    "duration": 309,
    "start_time": "2022-01-13T07:54:09.346Z"
   },
   {
    "duration": 310,
    "start_time": "2022-01-13T07:54:44.296Z"
   },
   {
    "duration": 284,
    "start_time": "2022-01-13T07:54:56.659Z"
   },
   {
    "duration": 2209,
    "start_time": "2022-01-13T08:00:44.133Z"
   },
   {
    "duration": 6,
    "start_time": "2022-01-13T08:04:15.964Z"
   },
   {
    "duration": 6,
    "start_time": "2022-01-13T08:16:24.589Z"
   },
   {
    "duration": 5,
    "start_time": "2022-01-13T08:17:20.157Z"
   },
   {
    "duration": 5,
    "start_time": "2022-01-13T08:18:13.706Z"
   },
   {
    "duration": 6,
    "start_time": "2022-01-13T08:19:41.108Z"
   },
   {
    "duration": 6,
    "start_time": "2022-01-13T08:20:58.312Z"
   },
   {
    "duration": 7,
    "start_time": "2022-01-13T08:23:16.556Z"
   },
   {
    "duration": 7,
    "start_time": "2022-01-13T08:23:53.841Z"
   },
   {
    "duration": 6,
    "start_time": "2022-01-13T08:24:16.702Z"
   },
   {
    "duration": 6,
    "start_time": "2022-01-13T08:25:40.270Z"
   },
   {
    "duration": 6,
    "start_time": "2022-01-13T08:26:03.740Z"
   },
   {
    "duration": 26,
    "start_time": "2022-01-13T08:31:11.111Z"
   },
   {
    "duration": 11,
    "start_time": "2022-01-13T08:31:50.205Z"
   },
   {
    "duration": 8,
    "start_time": "2022-01-13T08:32:11.600Z"
   },
   {
    "duration": 233,
    "start_time": "2022-01-13T08:52:58.663Z"
   },
   {
    "duration": 152,
    "start_time": "2022-01-13T08:52:58.898Z"
   },
   {
    "duration": 174,
    "start_time": "2022-01-13T08:52:59.053Z"
   },
   {
    "duration": 113,
    "start_time": "2022-01-13T08:52:59.230Z"
   },
   {
    "duration": 109,
    "start_time": "2022-01-13T08:52:59.345Z"
   },
   {
    "duration": 87,
    "start_time": "2022-01-13T08:52:59.457Z"
   },
   {
    "duration": 42,
    "start_time": "2022-01-13T08:52:59.547Z"
   },
   {
    "duration": 50,
    "start_time": "2022-01-13T08:52:59.592Z"
   },
   {
    "duration": 26,
    "start_time": "2022-01-13T08:52:59.645Z"
   },
   {
    "duration": 15,
    "start_time": "2022-01-13T08:52:59.673Z"
   },
   {
    "duration": 79,
    "start_time": "2022-01-13T08:52:59.690Z"
   },
   {
    "duration": 8,
    "start_time": "2022-01-13T08:52:59.772Z"
   },
   {
    "duration": 223,
    "start_time": "2022-01-13T08:52:59.782Z"
   },
   {
    "duration": 519,
    "start_time": "2022-01-13T08:53:00.008Z"
   },
   {
    "duration": 22,
    "start_time": "2022-01-13T08:53:00.530Z"
   },
   {
    "duration": 355,
    "start_time": "2022-01-13T08:53:00.554Z"
   },
   {
    "duration": 353,
    "start_time": "2022-01-13T08:53:00.911Z"
   },
   {
    "duration": 7,
    "start_time": "2022-01-13T08:53:01.266Z"
   },
   {
    "duration": 20,
    "start_time": "2022-01-13T08:53:01.275Z"
   },
   {
    "duration": 326,
    "start_time": "2022-01-13T08:53:01.297Z"
   },
   {
    "duration": 325,
    "start_time": "2022-01-13T08:53:01.626Z"
   },
   {
    "duration": 6,
    "start_time": "2022-01-13T08:53:01.953Z"
   },
   {
    "duration": 14,
    "start_time": "2022-01-13T08:53:01.964Z"
   },
   {
    "duration": 339,
    "start_time": "2022-01-13T08:53:01.980Z"
   },
   {
    "duration": 354,
    "start_time": "2022-01-13T08:53:02.324Z"
   },
   {
    "duration": 6,
    "start_time": "2022-01-13T08:53:02.680Z"
   },
   {
    "duration": 9,
    "start_time": "2022-01-13T08:53:02.688Z"
   },
   {
    "duration": 351,
    "start_time": "2022-01-13T08:53:02.699Z"
   },
   {
    "duration": 465,
    "start_time": "2022-01-13T08:53:03.053Z"
   },
   {
    "duration": 6,
    "start_time": "2022-01-13T08:53:03.523Z"
   },
   {
    "duration": 5,
    "start_time": "2022-01-13T08:53:03.532Z"
   },
   {
    "duration": 7,
    "start_time": "2022-01-13T08:53:03.539Z"
   },
   {
    "duration": 8,
    "start_time": "2022-01-13T08:53:03.549Z"
   },
   {
    "duration": 1170,
    "start_time": "2022-01-15T09:36:42.086Z"
   },
   {
    "duration": 182,
    "start_time": "2022-01-15T09:36:43.259Z"
   },
   {
    "duration": 215,
    "start_time": "2022-01-15T09:36:43.450Z"
   },
   {
    "duration": 143,
    "start_time": "2022-01-15T09:36:43.668Z"
   },
   {
    "duration": 141,
    "start_time": "2022-01-15T09:36:43.813Z"
   },
   {
    "duration": 100,
    "start_time": "2022-01-15T09:36:43.957Z"
   },
   {
    "duration": 48,
    "start_time": "2022-01-15T09:36:44.059Z"
   },
   {
    "duration": 70,
    "start_time": "2022-01-15T09:36:44.114Z"
   },
   {
    "duration": 43,
    "start_time": "2022-01-15T09:36:44.188Z"
   },
   {
    "duration": 14,
    "start_time": "2022-01-15T09:36:44.235Z"
   },
   {
    "duration": 58,
    "start_time": "2022-01-15T09:36:44.275Z"
   },
   {
    "duration": 8,
    "start_time": "2022-01-15T09:36:44.336Z"
   },
   {
    "duration": 283,
    "start_time": "2022-01-15T09:36:44.347Z"
   },
   {
    "duration": 697,
    "start_time": "2022-01-15T09:36:44.632Z"
   },
   {
    "duration": 44,
    "start_time": "2022-01-15T09:36:45.331Z"
   },
   {
    "duration": 410,
    "start_time": "2022-01-15T09:36:45.377Z"
   },
   {
    "duration": 390,
    "start_time": "2022-01-15T09:36:45.790Z"
   },
   {
    "duration": 6,
    "start_time": "2022-01-15T09:36:46.183Z"
   },
   {
    "duration": 7,
    "start_time": "2022-01-15T09:36:46.192Z"
   },
   {
    "duration": 374,
    "start_time": "2022-01-15T09:36:46.202Z"
   },
   {
    "duration": 340,
    "start_time": "2022-01-15T09:36:46.579Z"
   },
   {
    "duration": 6,
    "start_time": "2022-01-15T09:36:46.922Z"
   },
   {
    "duration": 6,
    "start_time": "2022-01-15T09:36:46.930Z"
   },
   {
    "duration": 415,
    "start_time": "2022-01-15T09:36:46.938Z"
   },
   {
    "duration": 463,
    "start_time": "2022-01-15T09:36:47.355Z"
   },
   {
    "duration": 7,
    "start_time": "2022-01-15T09:36:47.823Z"
   },
   {
    "duration": 13,
    "start_time": "2022-01-15T09:36:47.833Z"
   },
   {
    "duration": 358,
    "start_time": "2022-01-15T09:36:47.867Z"
   },
   {
    "duration": 332,
    "start_time": "2022-01-15T09:36:48.227Z"
   },
   {
    "duration": 10,
    "start_time": "2022-01-15T09:36:48.562Z"
   },
   {
    "duration": 8,
    "start_time": "2022-01-15T09:36:48.574Z"
   },
   {
    "duration": 13,
    "start_time": "2022-01-15T09:36:48.584Z"
   },
   {
    "duration": 14,
    "start_time": "2022-01-15T09:36:48.599Z"
   },
   {
    "duration": 6,
    "start_time": "2022-01-15T09:37:32.494Z"
   },
   {
    "duration": 6,
    "start_time": "2022-01-15T09:37:38.029Z"
   },
   {
    "duration": 351,
    "start_time": "2022-01-15T09:38:48.826Z"
   },
   {
    "duration": 10,
    "start_time": "2022-01-15T09:38:53.983Z"
   },
   {
    "duration": 971,
    "start_time": "2022-01-16T13:05:23.108Z"
   },
   {
    "duration": 1208,
    "start_time": "2022-01-16T13:05:31.277Z"
   },
   {
    "duration": 166,
    "start_time": "2022-01-16T13:05:32.488Z"
   },
   {
    "duration": 195,
    "start_time": "2022-01-16T13:05:32.657Z"
   },
   {
    "duration": 143,
    "start_time": "2022-01-16T13:05:32.854Z"
   },
   {
    "duration": 146,
    "start_time": "2022-01-16T13:08:06.277Z"
   },
   {
    "duration": 381,
    "start_time": "2022-01-16T13:09:11.073Z"
   },
   {
    "duration": 208,
    "start_time": "2022-01-16T13:09:27.701Z"
   },
   {
    "duration": 167,
    "start_time": "2022-01-16T13:09:27.912Z"
   },
   {
    "duration": 183,
    "start_time": "2022-01-16T13:09:28.081Z"
   },
   {
    "duration": 138,
    "start_time": "2022-01-16T13:09:28.267Z"
   },
   {
    "duration": 123,
    "start_time": "2022-01-16T13:09:28.408Z"
   },
   {
    "duration": 99,
    "start_time": "2022-01-16T13:09:28.534Z"
   },
   {
    "duration": 41,
    "start_time": "2022-01-16T13:09:28.635Z"
   },
   {
    "duration": 62,
    "start_time": "2022-01-16T13:10:12.404Z"
   },
   {
    "duration": 217,
    "start_time": "2022-01-16T13:11:00.284Z"
   },
   {
    "duration": 171,
    "start_time": "2022-01-16T13:11:00.504Z"
   },
   {
    "duration": 185,
    "start_time": "2022-01-16T13:11:00.678Z"
   },
   {
    "duration": 139,
    "start_time": "2022-01-16T13:11:00.866Z"
   },
   {
    "duration": 130,
    "start_time": "2022-01-16T13:11:01.007Z"
   },
   {
    "duration": 98,
    "start_time": "2022-01-16T13:11:01.139Z"
   },
   {
    "duration": 42,
    "start_time": "2022-01-16T13:11:01.239Z"
   },
   {
    "duration": 54,
    "start_time": "2022-01-16T13:11:01.285Z"
   },
   {
    "duration": 22,
    "start_time": "2022-01-16T13:11:01.342Z"
   },
   {
    "duration": 6,
    "start_time": "2022-01-16T13:11:01.366Z"
   },
   {
    "duration": 34,
    "start_time": "2022-01-16T13:20:30.402Z"
   },
   {
    "duration": 258,
    "start_time": "2022-01-16T13:32:09.661Z"
   },
   {
    "duration": 176,
    "start_time": "2022-01-16T13:32:09.922Z"
   },
   {
    "duration": 188,
    "start_time": "2022-01-16T13:32:10.101Z"
   },
   {
    "duration": 139,
    "start_time": "2022-01-16T13:32:10.291Z"
   },
   {
    "duration": 132,
    "start_time": "2022-01-16T13:32:10.432Z"
   },
   {
    "duration": 99,
    "start_time": "2022-01-16T13:32:10.567Z"
   },
   {
    "duration": 45,
    "start_time": "2022-01-16T13:32:10.669Z"
   },
   {
    "duration": 53,
    "start_time": "2022-01-16T13:32:10.718Z"
   },
   {
    "duration": 5,
    "start_time": "2022-01-16T13:32:10.775Z"
   },
   {
    "duration": 6,
    "start_time": "2022-01-16T13:32:10.782Z"
   },
   {
    "duration": 31,
    "start_time": "2022-01-16T13:32:10.791Z"
   },
   {
    "duration": 15,
    "start_time": "2022-01-16T13:32:10.863Z"
   },
   {
    "duration": 48,
    "start_time": "2022-01-16T13:32:10.881Z"
   },
   {
    "duration": 36,
    "start_time": "2022-01-16T13:32:10.931Z"
   },
   {
    "duration": 236,
    "start_time": "2022-01-16T13:32:10.969Z"
   },
   {
    "duration": 558,
    "start_time": "2022-01-16T13:32:11.208Z"
   },
   {
    "duration": 11,
    "start_time": "2022-01-16T13:32:11.768Z"
   },
   {
    "duration": 20,
    "start_time": "2022-01-16T13:32:11.782Z"
   },
   {
    "duration": 382,
    "start_time": "2022-01-16T13:32:11.805Z"
   },
   {
    "duration": 362,
    "start_time": "2022-01-16T13:32:12.189Z"
   },
   {
    "duration": 12,
    "start_time": "2022-01-16T13:32:12.554Z"
   },
   {
    "duration": 6,
    "start_time": "2022-01-16T13:32:12.569Z"
   },
   {
    "duration": 352,
    "start_time": "2022-01-16T13:32:12.580Z"
   },
   {
    "duration": 389,
    "start_time": "2022-01-16T13:32:12.934Z"
   },
   {
    "duration": 6,
    "start_time": "2022-01-16T13:32:13.326Z"
   },
   {
    "duration": 7,
    "start_time": "2022-01-16T13:32:13.334Z"
   },
   {
    "duration": 336,
    "start_time": "2022-01-16T13:32:13.364Z"
   },
   {
    "duration": 345,
    "start_time": "2022-01-16T13:32:13.702Z"
   },
   {
    "duration": 14,
    "start_time": "2022-01-16T13:32:14.050Z"
   },
   {
    "duration": 5,
    "start_time": "2022-01-16T13:32:14.067Z"
   },
   {
    "duration": 349,
    "start_time": "2022-01-16T13:32:14.074Z"
   },
   {
    "duration": 316,
    "start_time": "2022-01-16T13:32:14.426Z"
   },
   {
    "duration": 6,
    "start_time": "2022-01-16T13:32:14.744Z"
   },
   {
    "duration": 5,
    "start_time": "2022-01-16T13:32:14.763Z"
   },
   {
    "duration": 8,
    "start_time": "2022-01-16T13:32:14.770Z"
   },
   {
    "duration": 8,
    "start_time": "2022-01-16T13:32:14.780Z"
   },
   {
    "duration": 28,
    "start_time": "2022-01-16T13:55:04.773Z"
   },
   {
    "duration": 446,
    "start_time": "2022-01-16T13:57:58.070Z"
   },
   {
    "duration": 10,
    "start_time": "2022-01-16T14:00:15.970Z"
   },
   {
    "duration": 11,
    "start_time": "2022-01-16T14:00:37.006Z"
   },
   {
    "duration": 262,
    "start_time": "2022-01-16T14:00:58.602Z"
   },
   {
    "duration": 177,
    "start_time": "2022-01-16T14:00:58.868Z"
   },
   {
    "duration": 195,
    "start_time": "2022-01-16T14:00:59.048Z"
   },
   {
    "duration": 141,
    "start_time": "2022-01-16T14:00:59.246Z"
   },
   {
    "duration": 137,
    "start_time": "2022-01-16T14:00:59.390Z"
   },
   {
    "duration": 102,
    "start_time": "2022-01-16T14:00:59.529Z"
   },
   {
    "duration": 43,
    "start_time": "2022-01-16T14:00:59.633Z"
   },
   {
    "duration": 53,
    "start_time": "2022-01-16T14:00:59.680Z"
   },
   {
    "duration": 5,
    "start_time": "2022-01-16T14:00:59.736Z"
   },
   {
    "duration": 22,
    "start_time": "2022-01-16T14:00:59.743Z"
   },
   {
    "duration": 39,
    "start_time": "2022-01-16T14:00:59.767Z"
   },
   {
    "duration": 55,
    "start_time": "2022-01-16T14:00:59.809Z"
   },
   {
    "duration": 52,
    "start_time": "2022-01-16T14:00:59.867Z"
   },
   {
    "duration": 8,
    "start_time": "2022-01-16T14:00:59.922Z"
   },
   {
    "duration": 243,
    "start_time": "2022-01-16T14:00:59.964Z"
   },
   {
    "duration": 559,
    "start_time": "2022-01-16T14:01:00.209Z"
   },
   {
    "duration": 13,
    "start_time": "2022-01-16T14:01:00.770Z"
   },
   {
    "duration": 31,
    "start_time": "2022-01-16T14:01:00.785Z"
   },
   {
    "duration": 468,
    "start_time": "2022-01-16T14:01:00.819Z"
   },
   {
    "duration": 364,
    "start_time": "2022-01-16T14:01:01.289Z"
   },
   {
    "duration": 7,
    "start_time": "2022-01-16T14:01:01.663Z"
   },
   {
    "duration": 9,
    "start_time": "2022-01-16T14:01:01.672Z"
   },
   {
    "duration": 358,
    "start_time": "2022-01-16T14:01:01.686Z"
   },
   {
    "duration": 360,
    "start_time": "2022-01-16T14:01:02.048Z"
   },
   {
    "duration": 8,
    "start_time": "2022-01-16T14:01:02.411Z"
   },
   {
    "duration": 11,
    "start_time": "2022-01-16T14:01:02.422Z"
   },
   {
    "duration": 359,
    "start_time": "2022-01-16T14:01:02.436Z"
   },
   {
    "duration": 348,
    "start_time": "2022-01-16T14:01:02.797Z"
   },
   {
    "duration": 17,
    "start_time": "2022-01-16T14:01:03.147Z"
   },
   {
    "duration": 5,
    "start_time": "2022-01-16T14:01:03.167Z"
   },
   {
    "duration": 342,
    "start_time": "2022-01-16T14:01:03.174Z"
   },
   {
    "duration": 317,
    "start_time": "2022-01-16T14:01:03.518Z"
   },
   {
    "duration": 6,
    "start_time": "2022-01-16T14:01:03.837Z"
   },
   {
    "duration": 20,
    "start_time": "2022-01-16T14:01:03.845Z"
   },
   {
    "duration": 10,
    "start_time": "2022-01-16T14:01:03.868Z"
   },
   {
    "duration": 8,
    "start_time": "2022-01-16T14:01:03.880Z"
   },
   {
    "duration": 11,
    "start_time": "2022-01-16T14:01:03.891Z"
   },
   {
    "duration": 68,
    "start_time": "2022-01-16T14:01:03.904Z"
   },
   {
    "duration": 11,
    "start_time": "2022-01-16T14:01:21.570Z"
   },
   {
    "duration": 10,
    "start_time": "2022-01-16T14:02:31.103Z"
   },
   {
    "duration": 12,
    "start_time": "2022-01-16T14:17:16.147Z"
   },
   {
    "duration": 239,
    "start_time": "2022-01-16T14:17:23.589Z"
   },
   {
    "duration": 267,
    "start_time": "2022-01-16T14:17:23.831Z"
   },
   {
    "duration": 247,
    "start_time": "2022-01-16T14:17:24.102Z"
   },
   {
    "duration": 194,
    "start_time": "2022-01-16T14:17:24.353Z"
   },
   {
    "duration": 133,
    "start_time": "2022-01-16T14:17:24.550Z"
   },
   {
    "duration": 119,
    "start_time": "2022-01-16T14:17:24.686Z"
   },
   {
    "duration": 47,
    "start_time": "2022-01-16T14:17:24.808Z"
   },
   {
    "duration": 56,
    "start_time": "2022-01-16T14:17:24.859Z"
   },
   {
    "duration": 5,
    "start_time": "2022-01-16T14:17:24.918Z"
   },
   {
    "duration": 40,
    "start_time": "2022-01-16T14:17:24.926Z"
   },
   {
    "duration": 30,
    "start_time": "2022-01-16T14:17:24.968Z"
   },
   {
    "duration": 13,
    "start_time": "2022-01-16T14:17:25.000Z"
   },
   {
    "duration": 85,
    "start_time": "2022-01-16T14:17:25.016Z"
   },
   {
    "duration": 11,
    "start_time": "2022-01-16T14:17:25.105Z"
   },
   {
    "duration": 252,
    "start_time": "2022-01-16T14:17:25.118Z"
   },
   {
    "duration": 766,
    "start_time": "2022-01-16T14:17:25.372Z"
   },
   {
    "duration": 26,
    "start_time": "2022-01-16T14:17:26.140Z"
   },
   {
    "duration": 22,
    "start_time": "2022-01-16T14:17:26.168Z"
   },
   {
    "duration": 393,
    "start_time": "2022-01-16T14:17:26.192Z"
   },
   {
    "duration": 362,
    "start_time": "2022-01-16T14:17:26.588Z"
   },
   {
    "duration": 17,
    "start_time": "2022-01-16T14:17:26.952Z"
   },
   {
    "duration": 6,
    "start_time": "2022-01-16T14:17:26.971Z"
   },
   {
    "duration": 340,
    "start_time": "2022-01-16T14:17:26.982Z"
   },
   {
    "duration": 429,
    "start_time": "2022-01-16T14:17:27.324Z"
   },
   {
    "duration": 7,
    "start_time": "2022-01-16T14:17:27.763Z"
   },
   {
    "duration": 5,
    "start_time": "2022-01-16T14:17:27.773Z"
   },
   {
    "duration": 359,
    "start_time": "2022-01-16T14:17:27.780Z"
   },
   {
    "duration": 339,
    "start_time": "2022-01-16T14:17:28.141Z"
   },
   {
    "duration": 6,
    "start_time": "2022-01-16T14:17:28.483Z"
   },
   {
    "duration": 7,
    "start_time": "2022-01-16T14:17:28.492Z"
   },
   {
    "duration": 345,
    "start_time": "2022-01-16T14:17:28.502Z"
   },
   {
    "duration": 323,
    "start_time": "2022-01-16T14:17:28.849Z"
   },
   {
    "duration": 7,
    "start_time": "2022-01-16T14:17:29.174Z"
   },
   {
    "duration": 8,
    "start_time": "2022-01-16T14:17:29.183Z"
   },
   {
    "duration": 10,
    "start_time": "2022-01-16T14:17:29.194Z"
   },
   {
    "duration": 9,
    "start_time": "2022-01-16T14:17:29.207Z"
   },
   {
    "duration": 12,
    "start_time": "2022-01-16T14:17:29.262Z"
   },
   {
    "duration": 29,
    "start_time": "2022-01-16T14:17:29.277Z"
   },
   {
    "duration": 57,
    "start_time": "2022-01-16T14:19:31.080Z"
   },
   {
    "duration": 10,
    "start_time": "2022-01-16T14:23:22.977Z"
   },
   {
    "duration": 7,
    "start_time": "2022-01-16T15:42:40.112Z"
   },
   {
    "duration": 435,
    "start_time": "2022-01-16T15:45:20.609Z"
   },
   {
    "duration": 388,
    "start_time": "2022-01-16T15:45:27.538Z"
   },
   {
    "duration": 248,
    "start_time": "2022-01-16T15:45:27.943Z"
   },
   {
    "duration": 181,
    "start_time": "2022-01-16T15:45:28.194Z"
   },
   {
    "duration": 146,
    "start_time": "2022-01-16T15:45:28.379Z"
   },
   {
    "duration": 134,
    "start_time": "2022-01-16T15:45:28.528Z"
   },
   {
    "duration": 102,
    "start_time": "2022-01-16T15:45:28.665Z"
   },
   {
    "duration": 42,
    "start_time": "2022-01-16T15:45:28.770Z"
   },
   {
    "duration": 54,
    "start_time": "2022-01-16T15:45:28.816Z"
   },
   {
    "duration": 5,
    "start_time": "2022-01-16T15:45:28.872Z"
   },
   {
    "duration": 6,
    "start_time": "2022-01-16T15:45:28.880Z"
   },
   {
    "duration": 29,
    "start_time": "2022-01-16T15:45:28.888Z"
   },
   {
    "duration": 54,
    "start_time": "2022-01-16T15:45:28.919Z"
   },
   {
    "duration": 47,
    "start_time": "2022-01-16T15:45:28.976Z"
   },
   {
    "duration": 11,
    "start_time": "2022-01-16T15:45:29.025Z"
   },
   {
    "duration": 304,
    "start_time": "2022-01-16T15:45:29.039Z"
   },
   {
    "duration": 230,
    "start_time": "2022-01-16T15:45:42.170Z"
   },
   {
    "duration": 162,
    "start_time": "2022-01-16T15:45:42.402Z"
   },
   {
    "duration": 180,
    "start_time": "2022-01-16T15:45:42.568Z"
   },
   {
    "duration": 139,
    "start_time": "2022-01-16T15:45:42.751Z"
   },
   {
    "duration": 132,
    "start_time": "2022-01-16T15:45:42.893Z"
   },
   {
    "duration": 100,
    "start_time": "2022-01-16T15:45:43.028Z"
   },
   {
    "duration": 53,
    "start_time": "2022-01-16T15:45:43.131Z"
   },
   {
    "duration": 102,
    "start_time": "2022-01-16T15:45:43.190Z"
   },
   {
    "duration": 7,
    "start_time": "2022-01-16T15:45:43.296Z"
   },
   {
    "duration": 8,
    "start_time": "2022-01-16T15:45:43.306Z"
   },
   {
    "duration": 85,
    "start_time": "2022-01-16T15:45:43.318Z"
   },
   {
    "duration": 13,
    "start_time": "2022-01-16T15:45:43.407Z"
   },
   {
    "duration": 79,
    "start_time": "2022-01-16T15:45:43.422Z"
   },
   {
    "duration": 10,
    "start_time": "2022-01-16T15:45:43.504Z"
   },
   {
    "duration": 304,
    "start_time": "2022-01-16T15:45:43.517Z"
   },
   {
    "duration": 567,
    "start_time": "2022-01-16T15:45:43.823Z"
   },
   {
    "duration": 13,
    "start_time": "2022-01-16T15:45:44.393Z"
   },
   {
    "duration": 58,
    "start_time": "2022-01-16T15:45:44.409Z"
   },
   {
    "duration": 358,
    "start_time": "2022-01-16T15:45:44.470Z"
   },
   {
    "duration": 531,
    "start_time": "2022-01-16T15:45:44.832Z"
   },
   {
    "duration": 7,
    "start_time": "2022-01-16T15:45:45.366Z"
   },
   {
    "duration": 6,
    "start_time": "2022-01-16T15:45:45.377Z"
   },
   {
    "duration": 389,
    "start_time": "2022-01-16T15:45:45.390Z"
   },
   {
    "duration": 347,
    "start_time": "2022-01-16T15:45:45.783Z"
   },
   {
    "duration": 7,
    "start_time": "2022-01-16T15:45:46.132Z"
   },
   {
    "duration": 21,
    "start_time": "2022-01-16T15:45:46.141Z"
   },
   {
    "duration": 343,
    "start_time": "2022-01-16T15:45:46.165Z"
   },
   {
    "duration": 338,
    "start_time": "2022-01-16T15:45:46.510Z"
   },
   {
    "duration": 13,
    "start_time": "2022-01-16T15:45:46.850Z"
   },
   {
    "duration": 7,
    "start_time": "2022-01-16T15:45:46.865Z"
   },
   {
    "duration": 350,
    "start_time": "2022-01-16T15:45:46.875Z"
   },
   {
    "duration": 337,
    "start_time": "2022-01-16T15:45:47.228Z"
   },
   {
    "duration": 7,
    "start_time": "2022-01-16T15:45:47.567Z"
   },
   {
    "duration": 6,
    "start_time": "2022-01-16T15:45:47.577Z"
   },
   {
    "duration": 15,
    "start_time": "2022-01-16T15:45:47.586Z"
   },
   {
    "duration": 8,
    "start_time": "2022-01-16T15:45:47.604Z"
   },
   {
    "duration": 90,
    "start_time": "2022-01-16T15:45:47.615Z"
   },
   {
    "duration": 7,
    "start_time": "2022-01-16T15:45:47.707Z"
   },
   {
    "duration": 13,
    "start_time": "2022-01-16T15:45:47.717Z"
   },
   {
    "duration": 41,
    "start_time": "2022-01-16T15:45:47.733Z"
   },
   {
    "duration": 29,
    "start_time": "2022-01-16T15:45:47.777Z"
   },
   {
    "duration": 11,
    "start_time": "2022-01-16T15:51:59.733Z"
   },
   {
    "duration": 12,
    "start_time": "2022-01-16T15:54:08.326Z"
   },
   {
    "duration": 257,
    "start_time": "2022-01-16T15:56:29.253Z"
   },
   {
    "duration": 371,
    "start_time": "2022-01-16T15:56:29.512Z"
   },
   {
    "duration": 244,
    "start_time": "2022-01-16T15:56:29.887Z"
   },
   {
    "duration": 144,
    "start_time": "2022-01-16T15:56:30.134Z"
   },
   {
    "duration": 131,
    "start_time": "2022-01-16T15:56:30.281Z"
   },
   {
    "duration": 105,
    "start_time": "2022-01-16T15:56:30.414Z"
   },
   {
    "duration": 45,
    "start_time": "2022-01-16T15:56:30.522Z"
   },
   {
    "duration": 58,
    "start_time": "2022-01-16T15:56:30.571Z"
   },
   {
    "duration": 6,
    "start_time": "2022-01-16T15:56:30.632Z"
   },
   {
    "duration": 7,
    "start_time": "2022-01-16T15:56:30.663Z"
   },
   {
    "duration": 32,
    "start_time": "2022-01-16T15:56:30.672Z"
   },
   {
    "duration": 13,
    "start_time": "2022-01-16T15:56:30.706Z"
   },
   {
    "duration": 87,
    "start_time": "2022-01-16T15:56:30.722Z"
   },
   {
    "duration": 10,
    "start_time": "2022-01-16T15:56:30.812Z"
   },
   {
    "duration": 471,
    "start_time": "2022-01-16T15:56:30.824Z"
   },
   {
    "duration": 904,
    "start_time": "2022-01-16T15:56:31.298Z"
   },
   {
    "duration": 14,
    "start_time": "2022-01-16T15:56:32.204Z"
   },
   {
    "duration": 54,
    "start_time": "2022-01-16T15:56:32.221Z"
   },
   {
    "duration": 521,
    "start_time": "2022-01-16T15:56:32.279Z"
   },
   {
    "duration": 399,
    "start_time": "2022-01-16T15:56:32.803Z"
   },
   {
    "duration": 7,
    "start_time": "2022-01-16T15:56:33.205Z"
   },
   {
    "duration": 7,
    "start_time": "2022-01-16T15:56:33.214Z"
   },
   {
    "duration": 358,
    "start_time": "2022-01-16T15:56:33.226Z"
   },
   {
    "duration": 344,
    "start_time": "2022-01-16T15:56:33.588Z"
   },
   {
    "duration": 6,
    "start_time": "2022-01-16T15:56:33.935Z"
   },
   {
    "duration": 20,
    "start_time": "2022-01-16T15:56:33.944Z"
   },
   {
    "duration": 346,
    "start_time": "2022-01-16T15:56:33.966Z"
   },
   {
    "duration": 348,
    "start_time": "2022-01-16T15:56:34.315Z"
   },
   {
    "duration": 6,
    "start_time": "2022-01-16T15:56:34.665Z"
   },
   {
    "duration": 7,
    "start_time": "2022-01-16T15:56:34.673Z"
   },
   {
    "duration": 350,
    "start_time": "2022-01-16T15:56:34.683Z"
   },
   {
    "duration": 319,
    "start_time": "2022-01-16T15:56:35.036Z"
   },
   {
    "duration": 7,
    "start_time": "2022-01-16T15:56:35.364Z"
   },
   {
    "duration": 9,
    "start_time": "2022-01-16T15:56:35.374Z"
   },
   {
    "duration": 10,
    "start_time": "2022-01-16T15:56:35.385Z"
   },
   {
    "duration": 8,
    "start_time": "2022-01-16T15:56:35.398Z"
   },
   {
    "duration": 99,
    "start_time": "2022-01-16T15:56:35.409Z"
   },
   {
    "duration": 7,
    "start_time": "2022-01-16T15:56:35.510Z"
   },
   {
    "duration": 10,
    "start_time": "2022-01-16T15:56:35.520Z"
   },
   {
    "duration": 40,
    "start_time": "2022-01-16T15:56:35.533Z"
   },
   {
    "duration": 28,
    "start_time": "2022-01-16T15:56:35.575Z"
   },
   {
    "duration": 11,
    "start_time": "2022-01-16T15:57:46.435Z"
   },
   {
    "duration": 13,
    "start_time": "2022-01-16T15:58:05.316Z"
   },
   {
    "duration": 10,
    "start_time": "2022-01-16T15:58:53.890Z"
   },
   {
    "duration": 12,
    "start_time": "2022-01-16T15:59:09.839Z"
   },
   {
    "duration": 11,
    "start_time": "2022-01-16T15:59:44.698Z"
   },
   {
    "duration": 11,
    "start_time": "2022-01-16T15:59:48.168Z"
   },
   {
    "duration": 249,
    "start_time": "2022-01-16T16:00:21.510Z"
   },
   {
    "duration": 175,
    "start_time": "2022-01-16T16:00:21.763Z"
   },
   {
    "duration": 193,
    "start_time": "2022-01-16T16:00:21.942Z"
   },
   {
    "duration": 155,
    "start_time": "2022-01-16T16:00:22.138Z"
   },
   {
    "duration": 136,
    "start_time": "2022-01-16T16:00:22.295Z"
   },
   {
    "duration": 100,
    "start_time": "2022-01-16T16:00:22.433Z"
   },
   {
    "duration": 43,
    "start_time": "2022-01-16T16:00:22.535Z"
   },
   {
    "duration": 54,
    "start_time": "2022-01-16T16:00:22.581Z"
   },
   {
    "duration": 26,
    "start_time": "2022-01-16T16:00:22.639Z"
   },
   {
    "duration": 7,
    "start_time": "2022-01-16T16:00:22.668Z"
   },
   {
    "duration": 35,
    "start_time": "2022-01-16T16:00:22.678Z"
   },
   {
    "duration": 48,
    "start_time": "2022-01-16T16:00:22.716Z"
   },
   {
    "duration": 50,
    "start_time": "2022-01-16T16:00:22.767Z"
   },
   {
    "duration": 9,
    "start_time": "2022-01-16T16:00:22.820Z"
   },
   {
    "duration": 326,
    "start_time": "2022-01-16T16:00:22.831Z"
   },
   {
    "duration": 624,
    "start_time": "2022-01-16T16:00:23.164Z"
   },
   {
    "duration": 17,
    "start_time": "2022-01-16T16:00:23.791Z"
   },
   {
    "duration": 56,
    "start_time": "2022-01-16T16:00:23.811Z"
   },
   {
    "duration": 396,
    "start_time": "2022-01-16T16:00:23.870Z"
   },
   {
    "duration": 383,
    "start_time": "2022-01-16T16:00:24.268Z"
   },
   {
    "duration": 12,
    "start_time": "2022-01-16T16:00:24.654Z"
   },
   {
    "duration": 17,
    "start_time": "2022-01-16T16:00:24.669Z"
   },
   {
    "duration": 445,
    "start_time": "2022-01-16T16:00:24.688Z"
   },
   {
    "duration": 360,
    "start_time": "2022-01-16T16:00:25.136Z"
   },
   {
    "duration": 7,
    "start_time": "2022-01-16T16:00:25.498Z"
   },
   {
    "duration": 18,
    "start_time": "2022-01-16T16:00:25.508Z"
   },
   {
    "duration": 373,
    "start_time": "2022-01-16T16:00:25.532Z"
   },
   {
    "duration": 360,
    "start_time": "2022-01-16T16:00:25.908Z"
   },
   {
    "duration": 6,
    "start_time": "2022-01-16T16:00:26.270Z"
   },
   {
    "duration": 6,
    "start_time": "2022-01-16T16:00:26.279Z"
   },
   {
    "duration": 353,
    "start_time": "2022-01-16T16:00:26.287Z"
   },
   {
    "duration": 606,
    "start_time": "2022-01-16T16:00:26.643Z"
   },
   {
    "duration": 15,
    "start_time": "2022-01-16T16:00:27.252Z"
   },
   {
    "duration": 7,
    "start_time": "2022-01-16T16:00:27.270Z"
   },
   {
    "duration": 9,
    "start_time": "2022-01-16T16:00:27.280Z"
   },
   {
    "duration": 9,
    "start_time": "2022-01-16T16:00:27.291Z"
   },
   {
    "duration": 101,
    "start_time": "2022-01-16T16:00:27.303Z"
   },
   {
    "duration": 8,
    "start_time": "2022-01-16T16:00:27.407Z"
   },
   {
    "duration": 13,
    "start_time": "2022-01-16T16:00:27.418Z"
   },
   {
    "duration": 11,
    "start_time": "2022-01-16T16:00:27.464Z"
   },
   {
    "duration": 29,
    "start_time": "2022-01-16T16:00:27.478Z"
   },
   {
    "duration": 10,
    "start_time": "2022-01-16T16:04:26.437Z"
   },
   {
    "duration": 12,
    "start_time": "2022-01-16T16:04:43.759Z"
   },
   {
    "duration": 16,
    "start_time": "2022-01-16T16:37:58.877Z"
   },
   {
    "duration": 11,
    "start_time": "2022-01-16T16:40:28.661Z"
   },
   {
    "duration": 270,
    "start_time": "2022-01-16T16:45:59.030Z"
   },
   {
    "duration": 179,
    "start_time": "2022-01-16T16:45:59.303Z"
   },
   {
    "duration": 214,
    "start_time": "2022-01-16T16:45:59.487Z"
   },
   {
    "duration": 165,
    "start_time": "2022-01-16T16:45:59.704Z"
   },
   {
    "duration": 153,
    "start_time": "2022-01-16T16:45:59.872Z"
   },
   {
    "duration": 120,
    "start_time": "2022-01-16T16:46:00.028Z"
   },
   {
    "duration": 41,
    "start_time": "2022-01-16T16:46:00.151Z"
   },
   {
    "duration": 66,
    "start_time": "2022-01-16T16:46:00.197Z"
   },
   {
    "duration": 6,
    "start_time": "2022-01-16T16:46:00.267Z"
   },
   {
    "duration": 20,
    "start_time": "2022-01-16T16:46:00.276Z"
   },
   {
    "duration": 33,
    "start_time": "2022-01-16T16:46:00.300Z"
   },
   {
    "duration": 17,
    "start_time": "2022-01-16T16:46:00.363Z"
   },
   {
    "duration": 51,
    "start_time": "2022-01-16T16:46:00.383Z"
   },
   {
    "duration": 34,
    "start_time": "2022-01-16T16:46:00.436Z"
   },
   {
    "duration": 310,
    "start_time": "2022-01-16T16:46:00.474Z"
   },
   {
    "duration": 623,
    "start_time": "2022-01-16T16:46:00.788Z"
   },
   {
    "duration": 19,
    "start_time": "2022-01-16T16:46:01.414Z"
   },
   {
    "duration": 50,
    "start_time": "2022-01-16T16:46:01.436Z"
   },
   {
    "duration": 377,
    "start_time": "2022-01-16T16:46:01.489Z"
   },
   {
    "duration": 386,
    "start_time": "2022-01-16T16:46:01.869Z"
   },
   {
    "duration": 7,
    "start_time": "2022-01-16T16:46:02.264Z"
   },
   {
    "duration": 15,
    "start_time": "2022-01-16T16:46:02.273Z"
   },
   {
    "duration": 344,
    "start_time": "2022-01-16T16:46:02.295Z"
   },
   {
    "duration": 343,
    "start_time": "2022-01-16T16:46:02.641Z"
   },
   {
    "duration": 7,
    "start_time": "2022-01-16T16:46:02.986Z"
   },
   {
    "duration": 9,
    "start_time": "2022-01-16T16:46:02.995Z"
   },
   {
    "duration": 360,
    "start_time": "2022-01-16T16:46:03.006Z"
   },
   {
    "duration": 350,
    "start_time": "2022-01-16T16:46:03.369Z"
   },
   {
    "duration": 7,
    "start_time": "2022-01-16T16:46:03.722Z"
   },
   {
    "duration": 33,
    "start_time": "2022-01-16T16:46:03.732Z"
   },
   {
    "duration": 341,
    "start_time": "2022-01-16T16:46:03.767Z"
   },
   {
    "duration": 312,
    "start_time": "2022-01-16T16:46:04.111Z"
   },
   {
    "duration": 7,
    "start_time": "2022-01-16T16:46:04.426Z"
   },
   {
    "duration": 29,
    "start_time": "2022-01-16T16:46:04.436Z"
   },
   {
    "duration": 10,
    "start_time": "2022-01-16T16:46:04.468Z"
   },
   {
    "duration": 7,
    "start_time": "2022-01-16T16:46:04.480Z"
   },
   {
    "duration": 10,
    "start_time": "2022-01-16T16:46:04.489Z"
   },
   {
    "duration": 62,
    "start_time": "2022-01-16T16:46:04.502Z"
   }
  ],
  "kernelspec": {
   "display_name": "Python 3 (ipykernel)",
   "language": "python",
   "name": "python3"
  },
  "language_info": {
   "codemirror_mode": {
    "name": "ipython",
    "version": 3
   },
   "file_extension": ".py",
   "mimetype": "text/x-python",
   "name": "python",
   "nbconvert_exporter": "python",
   "pygments_lexer": "ipython3",
   "version": "3.9.7"
  },
  "toc": {
   "base_numbering": 1,
   "nav_menu": {},
   "number_sections": true,
   "sideBar": true,
   "skip_h1_title": true,
   "title_cell": "Table of Contents",
   "title_sidebar": "Contents",
   "toc_cell": false,
   "toc_position": {},
   "toc_section_display": true,
   "toc_window_display": false
  }
 },
 "nbformat": 4,
 "nbformat_minor": 2
}
